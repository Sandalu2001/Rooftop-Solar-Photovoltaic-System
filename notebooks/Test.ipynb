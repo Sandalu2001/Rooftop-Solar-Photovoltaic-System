{
 "cells": [
  {
   "cell_type": "code",
   "execution_count": 77,
   "id": "00749a16-60d7-4b7b-96c8-7d2613c0a562",
   "metadata": {},
   "outputs": [
    {
     "data": {
      "text/html": [
       "\n",
       "            <style>\n",
       "                .geemap-dark {\n",
       "                    --jp-widgets-color: white;\n",
       "                    --jp-widgets-label-color: white;\n",
       "                    --jp-ui-font-color1: white;\n",
       "                    --jp-layout-color2: #454545;\n",
       "                    background-color: #383838;\n",
       "                }\n",
       "\n",
       "                .geemap-dark .jupyter-button {\n",
       "                    --jp-layout-color3: #383838;\n",
       "                }\n",
       "\n",
       "                .geemap-colab {\n",
       "                    background-color: var(--colab-primary-surface-color, white);\n",
       "                }\n",
       "\n",
       "                .geemap-colab .jupyter-button {\n",
       "                    --jp-layout-color3: var(--colab-primary-surface-color, white);\n",
       "                }\n",
       "            </style>\n",
       "            "
      ],
      "text/plain": [
       "<IPython.core.display.HTML object>"
      ]
     },
     "metadata": {},
     "output_type": "display_data"
    }
   ],
   "source": [
    "# Import Google Earth Engine\n",
    "import ee\n",
    "import geemap"
   ]
  },
  {
   "cell_type": "code",
   "execution_count": 78,
   "id": "1e84e819-4e0d-4aaf-875a-92bde9e4f6f4",
   "metadata": {},
   "outputs": [
    {
     "data": {
      "text/html": [
       "\n",
       "            <style>\n",
       "                .geemap-dark {\n",
       "                    --jp-widgets-color: white;\n",
       "                    --jp-widgets-label-color: white;\n",
       "                    --jp-ui-font-color1: white;\n",
       "                    --jp-layout-color2: #454545;\n",
       "                    background-color: #383838;\n",
       "                }\n",
       "\n",
       "                .geemap-dark .jupyter-button {\n",
       "                    --jp-layout-color3: #383838;\n",
       "                }\n",
       "\n",
       "                .geemap-colab {\n",
       "                    background-color: var(--colab-primary-surface-color, white);\n",
       "                }\n",
       "\n",
       "                .geemap-colab .jupyter-button {\n",
       "                    --jp-layout-color3: var(--colab-primary-surface-color, white);\n",
       "                }\n",
       "            </style>\n",
       "            "
      ],
      "text/plain": [
       "<IPython.core.display.HTML object>"
      ]
     },
     "metadata": {},
     "output_type": "display_data"
    }
   ],
   "source": [
    "# Initialize the Earth Engine module.\n",
    "ee.Initialize()"
   ]
  },
  {
   "cell_type": "code",
   "execution_count": 79,
   "id": "a7b7c660-a2b8-46c4-a3fc-4d6942ad38c2",
   "metadata": {},
   "outputs": [
    {
     "data": {
      "text/html": [
       "\n",
       "            <style>\n",
       "                .geemap-dark {\n",
       "                    --jp-widgets-color: white;\n",
       "                    --jp-widgets-label-color: white;\n",
       "                    --jp-ui-font-color1: white;\n",
       "                    --jp-layout-color2: #454545;\n",
       "                    background-color: #383838;\n",
       "                }\n",
       "\n",
       "                .geemap-dark .jupyter-button {\n",
       "                    --jp-layout-color3: #383838;\n",
       "                }\n",
       "\n",
       "                .geemap-colab {\n",
       "                    background-color: var(--colab-primary-surface-color, white);\n",
       "                }\n",
       "\n",
       "                .geemap-colab .jupyter-button {\n",
       "                    --jp-layout-color3: var(--colab-primary-surface-color, white);\n",
       "                }\n",
       "            </style>\n",
       "            "
      ],
      "text/plain": [
       "<IPython.core.display.HTML object>"
      ]
     },
     "metadata": {},
     "output_type": "display_data"
    }
   ],
   "source": [
    "# Coordinates for the bounds of a rectangle.\n",
    "lon_min = -122.09;\n",
    "lat_min = 37.42;\n",
    "lon_max = -122.08;\n",
    "lat_max = 37.43;\n"
   ]
  },
  {
   "cell_type": "code",
   "execution_count": 80,
   "id": "d9ff3f77-a5f2-4ff0-b8d4-de21c9eb0228",
   "metadata": {},
   "outputs": [
    {
     "data": {
      "text/html": [
       "\n",
       "            <style>\n",
       "                .geemap-dark {\n",
       "                    --jp-widgets-color: white;\n",
       "                    --jp-widgets-label-color: white;\n",
       "                    --jp-ui-font-color1: white;\n",
       "                    --jp-layout-color2: #454545;\n",
       "                    background-color: #383838;\n",
       "                }\n",
       "\n",
       "                .geemap-dark .jupyter-button {\n",
       "                    --jp-layout-color3: #383838;\n",
       "                }\n",
       "\n",
       "                .geemap-colab {\n",
       "                    background-color: var(--colab-primary-surface-color, white);\n",
       "                }\n",
       "\n",
       "                .geemap-colab .jupyter-button {\n",
       "                    --jp-layout-color3: var(--colab-primary-surface-color, white);\n",
       "                }\n",
       "            </style>\n",
       "            "
      ],
      "text/plain": [
       "<IPython.core.display.HTML object>"
      ]
     },
     "metadata": {},
     "output_type": "display_data"
    }
   ],
   "source": [
    "# Define an area of interest\n",
    "aoi = ee.Geometry.Rectangle([lon_min, lat_min, lon_max, lat_max])"
   ]
  },
  {
   "cell_type": "code",
   "execution_count": 94,
   "id": "b9da7c91-acb4-4e6a-a51e-8045353ef92f",
   "metadata": {},
   "outputs": [
    {
     "data": {
      "text/html": [
       "\n",
       "            <style>\n",
       "                .geemap-dark {\n",
       "                    --jp-widgets-color: white;\n",
       "                    --jp-widgets-label-color: white;\n",
       "                    --jp-ui-font-color1: white;\n",
       "                    --jp-layout-color2: #454545;\n",
       "                    background-color: #383838;\n",
       "                }\n",
       "\n",
       "                .geemap-dark .jupyter-button {\n",
       "                    --jp-layout-color3: #383838;\n",
       "                }\n",
       "\n",
       "                .geemap-colab {\n",
       "                    background-color: var(--colab-primary-surface-color, white);\n",
       "                }\n",
       "\n",
       "                .geemap-colab .jupyter-button {\n",
       "                    --jp-layout-color3: var(--colab-primary-surface-color, white);\n",
       "                }\n",
       "            </style>\n",
       "            "
      ],
      "text/plain": [
       "<IPython.core.display.HTML object>"
      ]
     },
     "metadata": {},
     "output_type": "display_data"
    }
   ],
   "source": [
    "# Hardcoded latitude and longitude \n",
    "lat, lon = 83.277, 17.7009;"
   ]
  },
  {
   "cell_type": "code",
   "execution_count": 95,
   "id": "9d47883f-b707-4891-9e50-709eaed8d4f0",
   "metadata": {},
   "outputs": [
    {
     "data": {
      "text/html": [
       "\n",
       "            <style>\n",
       "                .geemap-dark {\n",
       "                    --jp-widgets-color: white;\n",
       "                    --jp-widgets-label-color: white;\n",
       "                    --jp-ui-font-color1: white;\n",
       "                    --jp-layout-color2: #454545;\n",
       "                    background-color: #383838;\n",
       "                }\n",
       "\n",
       "                .geemap-dark .jupyter-button {\n",
       "                    --jp-layout-color3: #383838;\n",
       "                }\n",
       "\n",
       "                .geemap-colab {\n",
       "                    background-color: var(--colab-primary-surface-color, white);\n",
       "                }\n",
       "\n",
       "                .geemap-colab .jupyter-button {\n",
       "                    --jp-layout-color3: var(--colab-primary-surface-color, white);\n",
       "                }\n",
       "            </style>\n",
       "            "
      ],
      "text/plain": [
       "<IPython.core.display.HTML object>"
      ]
     },
     "metadata": {},
     "output_type": "display_data"
    }
   ],
   "source": [
    "# Removing cirrus pixel clouds and clouds from the map by Using the QA60 band to identify pixels affected by clouds (bit 10) and cirrus clouds (bit 11).\n",
    "def mask_s2_clouds(image):\n",
    "  \"\"\"Masks clouds in a Sentinel-2 image using the QA band.\n",
    "\n",
    "  Args:\n",
    "      image (ee.Image): A Sentinel-2 image.\n",
    "\n",
    "  Returns:\n",
    "      ee.Image: A cloud-masked Sentinel-2 image.\n",
    "  \"\"\"\n",
    "  qa = image.select('QA60')\n",
    "\n",
    "  # Bits 10 and 11 are clouds and cirrus, respectively.\n",
    "  cloud_bit_mask = 1 << 10\n",
    "  cirrus_bit_mask = 1 << 11\n",
    "\n",
    "  # Both flags should be set to zero, indicating clear conditions.\n",
    "  mask = (\n",
    "      qa.bitwiseAnd(cloud_bit_mask)\n",
    "      .eq(0)\n",
    "      .And(qa.bitwiseAnd(cirrus_bit_mask).eq(0))\n",
    "  )\n",
    "\n",
    "  return image.updateMask(mask).divide(10000)"
   ]
  },
  {
   "cell_type": "code",
   "execution_count": 96,
   "id": "1dfa9c28-78d1-40a4-9db0-7097c0e50b39",
   "metadata": {},
   "outputs": [
    {
     "data": {
      "text/html": [
       "\n",
       "            <style>\n",
       "                .geemap-dark {\n",
       "                    --jp-widgets-color: white;\n",
       "                    --jp-widgets-label-color: white;\n",
       "                    --jp-ui-font-color1: white;\n",
       "                    --jp-layout-color2: #454545;\n",
       "                    background-color: #383838;\n",
       "                }\n",
       "\n",
       "                .geemap-dark .jupyter-button {\n",
       "                    --jp-layout-color3: #383838;\n",
       "                }\n",
       "\n",
       "                .geemap-colab {\n",
       "                    background-color: var(--colab-primary-surface-color, white);\n",
       "                }\n",
       "\n",
       "                .geemap-colab .jupyter-button {\n",
       "                    --jp-layout-color3: var(--colab-primary-surface-color, white);\n",
       "                }\n",
       "            </style>\n",
       "            "
      ],
      "text/plain": [
       "<IPython.core.display.HTML object>"
      ]
     },
     "metadata": {},
     "output_type": "display_data"
    }
   ],
   "source": [
    "# Load the first image of Sentinel-2 Image Collection and filter by date and cloud cover\n",
    "dataset = (\n",
    "    ee.ImageCollection('COPERNICUS/S2_SR_HARMONIZED')\n",
    "    .filterDate('2020-01-01', '2020-01-30')\n",
    "    # Pre-filter to get less cloudy granules.\n",
    "    .filter(ee.Filter.lt('CLOUDY_PIXEL_PERCENTAGE', 20))\n",
    "    .map(mask_s2_clouds)\n",
    ")\n"
   ]
  },
  {
   "cell_type": "code",
   "execution_count": 97,
   "id": "b9fa9c7c-3953-40ff-9575-57647a47201a",
   "metadata": {},
   "outputs": [
    {
     "data": {
      "text/html": [
       "\n",
       "            <style>\n",
       "                .geemap-dark {\n",
       "                    --jp-widgets-color: white;\n",
       "                    --jp-widgets-label-color: white;\n",
       "                    --jp-ui-font-color1: white;\n",
       "                    --jp-layout-color2: #454545;\n",
       "                    background-color: #383838;\n",
       "                }\n",
       "\n",
       "                .geemap-dark .jupyter-button {\n",
       "                    --jp-layout-color3: #383838;\n",
       "                }\n",
       "\n",
       "                .geemap-colab {\n",
       "                    background-color: var(--colab-primary-surface-color, white);\n",
       "                }\n",
       "\n",
       "                .geemap-colab .jupyter-button {\n",
       "                    --jp-layout-color3: var(--colab-primary-surface-color, white);\n",
       "                }\n",
       "            </style>\n",
       "            "
      ],
      "text/plain": [
       "<IPython.core.display.HTML object>"
      ]
     },
     "metadata": {},
     "output_type": "display_data"
    }
   ],
   "source": [
    "# Set visualization parameters\n",
    "visualization = {\n",
    "    'min': 0.0,\n",
    "    'max': 0.3,\n",
    "    'bands': ['B4', 'B3', 'B2'],\n",
    "}"
   ]
  },
  {
   "cell_type": "code",
   "execution_count": 98,
   "id": "bb7caeba-4c73-470a-9866-be9ff51ee5e5",
   "metadata": {},
   "outputs": [
    {
     "data": {
      "text/html": [
       "\n",
       "            <style>\n",
       "                .geemap-dark {\n",
       "                    --jp-widgets-color: white;\n",
       "                    --jp-widgets-label-color: white;\n",
       "                    --jp-ui-font-color1: white;\n",
       "                    --jp-layout-color2: #454545;\n",
       "                    background-color: #383838;\n",
       "                }\n",
       "\n",
       "                .geemap-dark .jupyter-button {\n",
       "                    --jp-layout-color3: #383838;\n",
       "                }\n",
       "\n",
       "                .geemap-colab {\n",
       "                    background-color: var(--colab-primary-surface-color, white);\n",
       "                }\n",
       "\n",
       "                .geemap-colab .jupyter-button {\n",
       "                    --jp-layout-color3: var(--colab-primary-surface-color, white);\n",
       "                }\n",
       "            </style>\n",
       "            "
      ],
      "text/plain": [
       "<IPython.core.display.HTML object>"
      ]
     },
     "metadata": {},
     "output_type": "display_data"
    }
   ],
   "source": [
    "# Create a map using geemap\n",
    "Map = geemap.Map()"
   ]
  },
  {
   "cell_type": "code",
   "execution_count": 99,
   "id": "f86631f2-8441-4c33-9b90-ca81b67d3c06",
   "metadata": {},
   "outputs": [
    {
     "data": {
      "text/html": [
       "\n",
       "            <style>\n",
       "                .geemap-dark {\n",
       "                    --jp-widgets-color: white;\n",
       "                    --jp-widgets-label-color: white;\n",
       "                    --jp-ui-font-color1: white;\n",
       "                    --jp-layout-color2: #454545;\n",
       "                    background-color: #383838;\n",
       "                }\n",
       "\n",
       "                .geemap-dark .jupyter-button {\n",
       "                    --jp-layout-color3: #383838;\n",
       "                }\n",
       "\n",
       "                .geemap-colab {\n",
       "                    background-color: var(--colab-primary-surface-color, white);\n",
       "                }\n",
       "\n",
       "                .geemap-colab .jupyter-button {\n",
       "                    --jp-layout-color3: var(--colab-primary-surface-color, white);\n",
       "                }\n",
       "            </style>\n",
       "            "
      ],
      "text/plain": [
       "<IPython.core.display.HTML object>"
      ]
     },
     "metadata": {},
     "output_type": "display_data"
    }
   ],
   "source": [
    "Map.set_center(lat, lon, 12)"
   ]
  },
  {
   "cell_type": "code",
   "execution_count": 100,
   "id": "bd1e6eb8-749f-49e2-8f51-bbc0a095362e",
   "metadata": {},
   "outputs": [
    {
     "data": {
      "text/html": [
       "\n",
       "            <style>\n",
       "                .geemap-dark {\n",
       "                    --jp-widgets-color: white;\n",
       "                    --jp-widgets-label-color: white;\n",
       "                    --jp-ui-font-color1: white;\n",
       "                    --jp-layout-color2: #454545;\n",
       "                    background-color: #383838;\n",
       "                }\n",
       "\n",
       "                .geemap-dark .jupyter-button {\n",
       "                    --jp-layout-color3: #383838;\n",
       "                }\n",
       "\n",
       "                .geemap-colab {\n",
       "                    background-color: var(--colab-primary-surface-color, white);\n",
       "                }\n",
       "\n",
       "                .geemap-colab .jupyter-button {\n",
       "                    --jp-layout-color3: var(--colab-primary-surface-color, white);\n",
       "                }\n",
       "            </style>\n",
       "            "
      ],
      "text/plain": [
       "<IPython.core.display.HTML object>"
      ]
     },
     "metadata": {},
     "output_type": "display_data"
    }
   ],
   "source": [
    "Map.add_layer(dataset.mean(), visualization, 'RGB')"
   ]
  },
  {
   "cell_type": "code",
   "execution_count": 66,
   "id": "3e228830-003c-478c-b9e1-12f08c331cfd",
   "metadata": {},
   "outputs": [
    {
     "name": "stdout",
     "output_type": "stream",
     "text": [
      "6.9257 80.5688\n"
     ]
    }
   ],
   "source": [
    "print(lat, lon)"
   ]
  },
  {
   "cell_type": "code",
   "execution_count": 67,
   "id": "48727fdb-2d85-4446-84c3-523e6c3eb076",
   "metadata": {},
   "outputs": [],
   "source": [
    "# Calculate NDVI to help distinguish buildings from vegetation\n",
    "ndvi = image.normalizedDifference(['B8', 'B4']).rename('NDVI')"
   ]
  },
  {
   "cell_type": "code",
   "execution_count": 101,
   "id": "d2c424ce-7547-4a9f-95e1-254cdd33762b",
   "metadata": {},
   "outputs": [
    {
     "data": {
      "text/html": [
       "\n",
       "            <style>\n",
       "                .geemap-dark {\n",
       "                    --jp-widgets-color: white;\n",
       "                    --jp-widgets-label-color: white;\n",
       "                    --jp-ui-font-color1: white;\n",
       "                    --jp-layout-color2: #454545;\n",
       "                    background-color: #383838;\n",
       "                }\n",
       "\n",
       "                .geemap-dark .jupyter-button {\n",
       "                    --jp-layout-color3: #383838;\n",
       "                }\n",
       "\n",
       "                .geemap-colab {\n",
       "                    background-color: var(--colab-primary-surface-color, white);\n",
       "                }\n",
       "\n",
       "                .geemap-colab .jupyter-button {\n",
       "                    --jp-layout-color3: var(--colab-primary-surface-color, white);\n",
       "                }\n",
       "            </style>\n",
       "            "
      ],
      "text/plain": [
       "<IPython.core.display.HTML object>"
      ]
     },
     "metadata": {},
     "output_type": "display_data"
    },
    {
     "data": {
      "application/vnd.jupyter.widget-view+json": {
       "model_id": "e7a06a806f7544e393af5cb7b90e290a",
       "version_major": 2,
       "version_minor": 0
      },
      "text/plain": [
       "Map(center=[17.7009, 83.277], controls=(WidgetControl(options=['position', 'transparent_bg'], widget=SearchDat…"
      ]
     },
     "execution_count": 101,
     "metadata": {},
     "output_type": "execute_result"
    }
   ],
   "source": [
    "# Display the map\n",
    "Map"
   ]
  },
  {
   "cell_type": "code",
   "execution_count": 68,
   "id": "3d43bd9c-6de0-4a77-89e8-844d8720b324",
   "metadata": {},
   "outputs": [],
   "source": [
    "# Apply a threshold to detect buildings (NDVI is lower for non-vegetation areas)\n",
    "buildings = ndvi.lt(0.2)  # Threshold NDVI to detect buildings"
   ]
  },
  {
   "cell_type": "code",
   "execution_count": 69,
   "id": "007105c0-6ca2-42ba-b20d-489eead5f35b",
   "metadata": {},
   "outputs": [],
   "source": [
    "# Reduce to vectors (polygons representing building footprints)\n",
    "building_vectors = buildings.reduceToVectors(geometryType='polygon', scale=10)"
   ]
  },
  {
   "cell_type": "code",
   "execution_count": 70,
   "id": "25a6cdf3-1fcd-4016-b874-be14cbf46dff",
   "metadata": {},
   "outputs": [],
   "source": [
    "# Export to GeoJSON (optional)\n",
    "export_task = ee.batch.Export.table.toDrive(collection=building_vectors, description='BuildingFootprints', fileFormat='GeoJSON')\n",
    "export_task.start()"
   ]
  },
  {
   "cell_type": "code",
   "execution_count": 12,
   "id": "e8521473-e35e-44b2-a30d-036c40d7fc83",
   "metadata": {},
   "outputs": [
    {
     "name": "stdout",
     "output_type": "stream",
     "text": [
      "Image collection from a string: {'type': 'ImageCollection', 'bands': [], 'version': 1728224726998337, 'id': 'COPERNICUS/S2_SR_HARMONIZED', 'properties': {'date_range': [1490659200000, 1647907200000], 'period': 0, 'system:visualization_0_min': '0.0', 'type_name': 'ImageCollection', 'keywords': ['copernicus', 'esa', 'eu', 'msi', 'reflectance', 'sentinel', 'sr'], 'system:visualization_0_bands': 'B4,B3,B2', 'thumb': 'https://mw1.google.com/ges/dd/images/COPERNICUS_S2_SR_thumb.png', 'description': '<p>Sentinel-2 is a wide-swath, high-resolution, multi-spectral\\nimaging mission supporting Copernicus Land Monitoring studies,\\nincluding the monitoring of vegetation, soil and water cover,\\nas well as observation of inland waterways and coastal areas.</p><p>The Sentinel-2 L2 data are downloaded from scihub. They were\\ncomputed by running sen2cor. WARNING: ESA did not produce L2 data\\nfor all L1 assets, and earlier L2 coverage is not global.</p><p>The assets contain\\n12 UINT16 spectral bands representing SR scaled by 10000 (unlike in L1 data,\\nthere is no B10). There are also several more L2-specific bands (see band\\nlist for details). See the\\n<a href=\"https://sentinel.esa.int/documents/247904/685211/Sentinel-2_User_Handbook\">Sentinel-2 User Handbook</a>\\nfor details. In addition, three QA bands are present where one\\n(QA60) is a bitmask band with cloud mask information. For more\\ndetails, <a href=\"https://sentinel.esa.int/web/sentinel/technical-guides/sentinel-2-msi/level-1c/cloud-masks\">see the full explanation of how cloud masks are computed.</a></p><p>EE asset ids for Sentinel-2 L2 assets have the following format:\\nCOPERNICUS/S2_SR/20151128T002653_20151128T102149_T56MNN. Here the\\nfirst numeric part represents the sensing date and time, the\\nsecond numeric part represents the product generation date and\\ntime, and the final 6-character string is a unique granule identifier\\nindicating its UTM grid reference (see <a href=\"https://en.wikipedia.org/wiki/Military_Grid_Reference_System\">MGRS</a>).</p><p>Clouds can be removed by using\\n<a href=\"COPERNICUS_S2_CLOUD_PROBABILITY\">COPERNICUS/S2_CLOUD_PROBABILITY</a>.\\nSee\\n<a href=\"https://developers.google.com/earth-engine/tutorials/community/sentinel-2-s2cloudless\">this tutorial</a>\\nexplaining how to apply the cloud mask.</p><p>For more details on Sentinel-2 radiometric resolution, <a href=\"https://earth.esa.int/web/sentinel/user-guides/sentinel-2-msi/resolutions/radiometric\">see this page</a>.</p><p><b>Provider: <a href=\"https://earth.esa.int/web/sentinel/user-guides/sentinel-2-msi/product-types/level-2a\">European Union/ESA/Copernicus</a></b><br><p><b>Revisit Interval</b><br>\\n  5 days\\n</p><p><b>Bands</b><table class=\"eecat\"><tr><th scope=\"col\">Name</th><th scope=\"col\">Description</th></tr><tr><td>B1</td><td><p>Aerosols</p></td></tr><tr><td>B2</td><td><p>Blue</p></td></tr><tr><td>B3</td><td><p>Green</p></td></tr><tr><td>B4</td><td><p>Red</p></td></tr><tr><td>B5</td><td><p>Red Edge 1</p></td></tr><tr><td>B6</td><td><p>Red Edge 2</p></td></tr><tr><td>B7</td><td><p>Red Edge 3</p></td></tr><tr><td>B8</td><td><p>NIR</p></td></tr><tr><td>B8A</td><td><p>Red Edge 4</p></td></tr><tr><td>B9</td><td><p>Water vapor</p></td></tr><tr><td>B11</td><td><p>SWIR 1</p></td></tr><tr><td>B12</td><td><p>SWIR 2</p></td></tr><tr><td>AOT</td><td><p>Aerosol Optical Thickness</p></td></tr><tr><td>WVP</td><td><p>Water Vapor Pressure. The height the water would occupy if the vapor were condensed into\\nliquid and spread evenly across the column.</p></td></tr><tr><td>SCL</td><td><p>Scene Classification Map (The &quot;No Data&quot; value of 0 is masked out)</p></td></tr><tr><td>TCI_R</td><td><p>True Color Image, Red channel</p></td></tr><tr><td>TCI_G</td><td><p>True Color Image, Green channel</p></td></tr><tr><td>TCI_B</td><td><p>True Color Image, Blue channel</p></td></tr><tr><td>MSK_CLDPRB</td><td><p>Cloud Probability Map (missing in some products)</p></td></tr><tr><td>MSK_SNWPRB</td><td><p>Snow Probability Map (missing in some products)</p></td></tr><tr><td>QA10</td><td><p>Always empty</p></td></tr><tr><td>QA20</td><td><p>Always empty</p></td></tr><tr><td>QA60</td><td><p>Cloud mask</p></td></tr><tr><td colspan=100>\\n      Bitmask for QA60\\n<ul><li>\\n          Bit 10: Opaque clouds\\n<ul><li>0: No opaque clouds</li><li>1: Opaque clouds present</li></ul></li><li>\\n          Bit 11: Cirrus clouds\\n<ul><li>0: No cirrus clouds</li><li>1: Cirrus clouds present</li></ul></li></ul></td></tr></table><p><b>Image Properties</b><table class=\"eecat\"><tr><th scope=\"col\">Name</th><th scope=\"col\">Type</th><th scope=\"col\">Description</th></tr><tr><td>AOT_RETRIEVAL_ACCURACY</td><td>DOUBLE</td><td><p>Accuracy of Aerosol Optical thickness model</p></td></tr><tr><td>CLOUDY_PIXEL_PERCENTAGE</td><td>DOUBLE</td><td><p>Granule-specific cloudy pixel percentage taken from the original metadata</p></td></tr><tr><td>CLOUD_COVERAGE_ASSESSMENT</td><td>DOUBLE</td><td><p>Cloudy pixel percentage for the whole archive that\\ncontains this granule. Taken from the original metadata</p></td></tr><tr><td>CLOUDY_SHADOW_PERCENTAGE</td><td>DOUBLE</td><td><p>Percentage of pixels classified as cloud shadow</p></td></tr><tr><td>DARK_FEATURES_PERCENTAGE</td><td>DOUBLE</td><td><p>Percentage of pixels classified as dark features or shadows</p></td></tr><tr><td>DATASTRIP_ID</td><td>STRING</td><td><p>Unique identifier of the datastrip Product Data Item (PDI)</p></td></tr><tr><td>DATATAKE_IDENTIFIER</td><td>STRING</td><td><p>Uniquely identifies a given Datatake. The ID contains\\nthe Sentinel-2 satellite, start date and time, absolute orbit\\nnumber, and processing baseline.</p></td></tr><tr><td>DATATAKE_TYPE</td><td>STRING</td><td><p>MSI operation mode</p></td></tr><tr><td>DEGRADED_MSI_DATA_PERCENTAGE</td><td>DOUBLE</td><td><p>Percentage of degraded MSI and ancillary data</p></td></tr><tr><td>FORMAT_CORRECTNESS</td><td>STRING</td><td><p>Synthesis of the On-Line Quality Control (OLQC) checks\\nperformed at granule (Product_Syntax) and datastrip (Product\\nSyntax and DS_Consistency) levels</p></td></tr><tr><td>GENERAL_QUALITY</td><td>STRING</td><td><p>Synthesis of the OLQC checks performed at the datastrip level (Relative_Orbit_Number)</p></td></tr><tr><td>GENERATION_TIME</td><td>DOUBLE</td><td><p>Product generation time</p></td></tr><tr><td>GEOMETRIC_QUALITY</td><td>STRING</td><td><p>Synthesis of the OLQC checks performed at the datastrip level (Attitude_Quality_Indicator)</p></td></tr><tr><td>GRANULE_ID</td><td>STRING</td><td><p>Unique identifier of the granule PDI (PDI_ID)</p></td></tr><tr><td>HIGH_PROBA_CLOUDS_PERCENTAGE</td><td>DOUBLE</td><td><p>Percentage of pixels classified as high probability clouds</p></td></tr><tr><td>MEAN_INCIDENCE_AZIMUTH_ANGLE_B1</td><td>DOUBLE</td><td><p>Mean value containing viewing incidence azimuth angle average for band B1 and for all detectors</p></td></tr><tr><td>MEAN_INCIDENCE_AZIMUTH_ANGLE_B2</td><td>DOUBLE</td><td><p>Mean value containing viewing incidence azimuth angle average for band B2 and for all detectors</p></td></tr><tr><td>MEAN_INCIDENCE_AZIMUTH_ANGLE_B3</td><td>DOUBLE</td><td><p>Mean value containing viewing incidence azimuth angle average for band B3 and for all detectors</p></td></tr><tr><td>MEAN_INCIDENCE_AZIMUTH_ANGLE_B4</td><td>DOUBLE</td><td><p>Mean value containing viewing incidence azimuth angle average for band B4 and for all detectors</p></td></tr><tr><td>MEAN_INCIDENCE_AZIMUTH_ANGLE_B5</td><td>DOUBLE</td><td><p>Mean value containing viewing incidence azimuth angle average for band B5 and for all detectors</p></td></tr><tr><td>MEAN_INCIDENCE_AZIMUTH_ANGLE_B6</td><td>DOUBLE</td><td><p>Mean value containing viewing incidence azimuth angle average for band B6 and for all detectors</p></td></tr><tr><td>MEAN_INCIDENCE_AZIMUTH_ANGLE_B7</td><td>DOUBLE</td><td><p>Mean value containing viewing incidence azimuth angle average for band B7 and for all detectors</p></td></tr><tr><td>MEAN_INCIDENCE_AZIMUTH_ANGLE_B8</td><td>DOUBLE</td><td><p>Mean value containing viewing incidence azimuth angle average for band B8 and for all detectors</p></td></tr><tr><td>MEAN_INCIDENCE_AZIMUTH_ANGLE_B8A</td><td>DOUBLE</td><td><p>Mean value containing viewing incidence azimuth angle average for band B8a and for all detectors</p></td></tr><tr><td>MEAN_INCIDENCE_AZIMUTH_ANGLE_B9</td><td>DOUBLE</td><td><p>Mean value containing viewing incidence azimuth angle average for band B9 and for all detectors</p></td></tr><tr><td>MEAN_INCIDENCE_AZIMUTH_ANGLE_B10</td><td>DOUBLE</td><td><p>Mean value containing viewing incidence azimuth angle average for band B10 and for all detectors</p></td></tr><tr><td>MEAN_INCIDENCE_AZIMUTH_ANGLE_B11</td><td>DOUBLE</td><td><p>Mean value containing viewing incidence azimuth angle average for band B11 and for all detectors</p></td></tr><tr><td>MEAN_INCIDENCE_AZIMUTH_ANGLE_B12</td><td>DOUBLE</td><td><p>Mean value containing viewing incidence azimuth angle average for band B12 and for all detectors</p></td></tr><tr><td>MEAN_INCIDENCE_ZENITH_ANGLE_B1</td><td>DOUBLE</td><td><p>Mean value containing viewing incidence zenith angle average for band B1 and for all detectors</p></td></tr><tr><td>MEAN_INCIDENCE_ZENITH_ANGLE_B2</td><td>DOUBLE</td><td><p>Mean value containing viewing incidence zenith angle average for band B2 and for all detectors</p></td></tr><tr><td>MEAN_INCIDENCE_ZENITH_ANGLE_B3</td><td>DOUBLE</td><td><p>Mean value containing viewing incidence zenith angle average for band B3 and for all detectors</p></td></tr><tr><td>MEAN_INCIDENCE_ZENITH_ANGLE_B4</td><td>DOUBLE</td><td><p>Mean value containing viewing incidence zenith angle average for band B4 and for all detectors</p></td></tr><tr><td>MEAN_INCIDENCE_ZENITH_ANGLE_B5</td><td>DOUBLE</td><td><p>Mean value containing viewing incidence zenith angle average for band B5 and for all detectors</p></td></tr><tr><td>MEAN_INCIDENCE_ZENITH_ANGLE_B6</td><td>DOUBLE</td><td><p>Mean value containing viewing incidence zenith angle average for band B6 and for all detectors</p></td></tr><tr><td>MEAN_INCIDENCE_ZENITH_ANGLE_B7</td><td>DOUBLE</td><td><p>Mean value containing viewing incidence zenith angle average for band B7 and for all detectors</p></td></tr><tr><td>MEAN_INCIDENCE_ZENITH_ANGLE_B8</td><td>DOUBLE</td><td><p>Mean value containing viewing incidence zenith angle average for band B8 and for all detectors</p></td></tr><tr><td>MEAN_INCIDENCE_ZENITH_ANGLE_B8A</td><td>DOUBLE</td><td><p>Mean value containing viewing incidence zenith angle average for band B8a and for all detectors</p></td></tr><tr><td>MEAN_INCIDENCE_ZENITH_ANGLE_B9</td><td>DOUBLE</td><td><p>Mean value containing viewing incidence zenith angle average for band B9 and for all detectors</p></td></tr><tr><td>MEAN_INCIDENCE_ZENITH_ANGLE_B10</td><td>DOUBLE</td><td><p>Mean value containing viewing incidence zenith angle average for band B10 and for all detectors</p></td></tr><tr><td>MEAN_INCIDENCE_ZENITH_ANGLE_B11</td><td>DOUBLE</td><td><p>Mean value containing viewing incidence zenith angle average for band B11 and for all detectors</p></td></tr><tr><td>MEAN_INCIDENCE_ZENITH_ANGLE_B12</td><td>DOUBLE</td><td><p>Mean value containing viewing incidence zenith angle average for band B12 and for all detectors</p></td></tr><tr><td>MEAN_SOLAR_AZIMUTH_ANGLE</td><td>DOUBLE</td><td><p>Mean value containing sun azimuth angle average for all bands and detectors</p></td></tr><tr><td>MEAN_SOLAR_ZENITH_ANGLE</td><td>DOUBLE</td><td><p>Mean value containing sun zenith angle average for all bands and detectors</p></td></tr><tr><td>MEDIUM_PROBA_CLOUDS_PERCENTAGE</td><td>DOUBLE</td><td><p>Percentage of pixels classified as medium probability clouds</p></td></tr><tr><td>MGRS_TILE</td><td>STRING</td><td><p>US-Military Grid Reference System (MGRS) tile</p></td></tr><tr><td>NODATA_PIXEL_PERCENTAGE</td><td>DOUBLE</td><td><p>Percentage of No Data pixels</p></td></tr><tr><td>NOT_VEGETATED_PERCENTAGE</td><td>DOUBLE</td><td><p>Percentage of pixels classified as non-vegetated</p></td></tr><tr><td>PROCESSING_BASELINE</td><td>STRING</td><td><p>Configuration baseline used at the time of the product\\ngeneration in terms of processor software version and major Ground\\nImage Processing Parameters (GIPP) version</p></td></tr><tr><td>PRODUCT_ID</td><td>STRING</td><td><p>The full id of the original Sentinel-2 product</p></td></tr><tr><td>RADIATIVE_TRANSFER_ACCURACY</td><td>DOUBLE</td><td><p>Accuracy of radiative transfer model</p></td></tr><tr><td>RADIOMETRIC_QUALITY</td><td>STRING</td><td><p>Based on the OLQC reports contained in the Datastrips/QI_DATA with RADIOMETRIC_QUALITY checklist name</p></td></tr><tr><td>REFLECTANCE_CONVERSION_CORRECTION</td><td>DOUBLE</td><td><p>Earth-Sun distance correction factor</p></td></tr><tr><td>SATURATED_DEFECTIVE_PIXEL_PERCENTAGE</td><td>DOUBLE</td><td><p>Percentage of saturated or defective pixels</p></td></tr><tr><td>SENSING_ORBIT_DIRECTION</td><td>STRING</td><td><p>Imaging orbit direction</p></td></tr><tr><td>SENSING_ORBIT_NUMBER</td><td>DOUBLE</td><td><p>Imaging orbit number</p></td></tr><tr><td>SENSOR_QUALITY</td><td>STRING</td><td><p>Synthesis of the OLQC checks performed at granule\\n(Missing_Lines, Corrupted_ISP, and Sensing_Time) and datastrip\\n(Degraded_SAD and Datation_Model) levels</p></td></tr><tr><td>SOLAR_IRRADIANCE_B1</td><td>DOUBLE</td><td><p>Mean solar exoatmospheric irradiance for band B1</p></td></tr><tr><td>SOLAR_IRRADIANCE_B2</td><td>DOUBLE</td><td><p>Mean solar exoatmospheric irradiance for band B2</p></td></tr><tr><td>SOLAR_IRRADIANCE_B3</td><td>DOUBLE</td><td><p>Mean solar exoatmospheric irradiance for band B3</p></td></tr><tr><td>SOLAR_IRRADIANCE_B4</td><td>DOUBLE</td><td><p>Mean solar exoatmospheric irradiance for band B4</p></td></tr><tr><td>SOLAR_IRRADIANCE_B5</td><td>DOUBLE</td><td><p>Mean solar exoatmospheric irradiance for band B5</p></td></tr><tr><td>SOLAR_IRRADIANCE_B6</td><td>DOUBLE</td><td><p>Mean solar exoatmospheric irradiance for band B6</p></td></tr><tr><td>SOLAR_IRRADIANCE_B7</td><td>DOUBLE</td><td><p>Mean solar exoatmospheric irradiance for band B7</p></td></tr><tr><td>SOLAR_IRRADIANCE_B8</td><td>DOUBLE</td><td><p>Mean solar exoatmospheric irradiance for band B8</p></td></tr><tr><td>SOLAR_IRRADIANCE_B8A</td><td>DOUBLE</td><td><p>Mean solar exoatmospheric irradiance for band B8a</p></td></tr><tr><td>SOLAR_IRRADIANCE_B9</td><td>DOUBLE</td><td><p>Mean solar exoatmospheric irradiance for band B9</p></td></tr><tr><td>SOLAR_IRRADIANCE_B10</td><td>DOUBLE</td><td><p>Mean solar exoatmospheric irradiance for band B10</p></td></tr><tr><td>SOLAR_IRRADIANCE_B11</td><td>DOUBLE</td><td><p>Mean solar exoatmospheric irradiance for band B11</p></td></tr><tr><td>SOLAR_IRRADIANCE_B12</td><td>DOUBLE</td><td><p>Mean solar exoatmospheric irradiance for band B12</p></td></tr><tr><td>SNOW_ICE_PERCENTAGE</td><td>DOUBLE</td><td><p>Percentage of pixels classified as snow or ice</p></td></tr><tr><td>SPACECRAFT_NAME</td><td>STRING</td><td><p>Sentinel-2 spacecraft name: Sentinel-2A, Sentinel-2B</p></td></tr><tr><td>THIN_CIRRUS_PERCENTAGE</td><td>DOUBLE</td><td><p>Percentage of pixels classified as thin cirrus clouds</p></td></tr><tr><td>UNCLASSIFIED_PERCENTAGE</td><td>DOUBLE</td><td><p>Percentage of unclassified pixels</p></td></tr><tr><td>VEGETATION_PERCENTAGE</td><td>DOUBLE</td><td><p>Percentage of pixels classified as vegetation</p></td></tr><tr><td>WATER_PERCENTAGE</td><td>DOUBLE</td><td><p>Percentage of pixels classified as water</p></td></tr><tr><td>WATER_VAPOUR_RETRIEVAL_ACCURACY</td><td>DOUBLE</td><td><p>Declared accuracy of the Water Vapor model</p></td></tr></table><p><b>Terms of Use</b><br><p>The use of Sentinel data is governed by the <a href=\"https://scihub.copernicus.eu/twiki/pub/SciHubWebPortal/TermsConditions/Sentinel_Data_Terms_and_Conditions.pdf\">Copernicus\\nSentinel Data Terms and Conditions.</a></p><style>\\n  table.eecat {\\n  border: 1px solid black;\\n  border-collapse: collapse;\\n  font-size: 13px;\\n  }\\n  table.eecat td, tr, th {\\n  text-align: left; vertical-align: top;\\n  border: 1px solid gray; padding: 3px;\\n  }\\n  td.nobreak { white-space: nowrap; }\\n</style>', 'source_tags': ['eu', 'esa', 'copernicus', 'sentinel'], 'visualization_0_max': '3000.0', 'provider_url': 'https://earth.esa.int/web/sentinel/user-guides/sentinel-2-msi/product-types/level-2a', 'title': 'Sentinel-2 MSI: MultiSpectral Instrument, Level-2A', 'sample': 'https://mw1.google.com/ges/dd/images/COPERNICUS_S2_SR_sample.png', 'tags': ['copernicus', 'esa', 'eu', 'msi', 'reflectance', 'sentinel', 'sr'], 'system:visualization_0_max': '3000.0', 'product_tags': ['msi', 'sr', 'reflectance'], 'provider': 'European Union/ESA/Copernicus', 'visualization_0_min': '0.0', 'system:visualization_0_name': 'RGB', 'visualization_0_name': 'RGB', 'visualization_0_bands': 'B4,B3,B2'}, 'features': [{'type': 'Image', 'bands': [{'id': 'B1', 'data_type': {'type': 'PixelType', 'precision': 'int', 'min': 0, 'max': 65535}, 'dimensions': [1830, 1830], 'crs': 'EPSG:32635', 'crs_transform': [60, 0, 499980, 0, -60, 3000000]}, {'id': 'B2', 'data_type': {'type': 'PixelType', 'precision': 'int', 'min': 0, 'max': 65535}, 'dimensions': [10980, 10980], 'crs': 'EPSG:32635', 'crs_transform': [10, 0, 499980, 0, -10, 3000000]}, {'id': 'B3', 'data_type': {'type': 'PixelType', 'precision': 'int', 'min': 0, 'max': 65535}, 'dimensions': [10980, 10980], 'crs': 'EPSG:32635', 'crs_transform': [10, 0, 499980, 0, -10, 3000000]}, {'id': 'B4', 'data_type': {'type': 'PixelType', 'precision': 'int', 'min': 0, 'max': 65535}, 'dimensions': [10980, 10980], 'crs': 'EPSG:32635', 'crs_transform': [10, 0, 499980, 0, -10, 3000000]}, {'id': 'B5', 'data_type': {'type': 'PixelType', 'precision': 'int', 'min': 0, 'max': 65535}, 'dimensions': [5490, 5490], 'crs': 'EPSG:32635', 'crs_transform': [20, 0, 499980, 0, -20, 3000000]}, {'id': 'B6', 'data_type': {'type': 'PixelType', 'precision': 'int', 'min': 0, 'max': 65535}, 'dimensions': [5490, 5490], 'crs': 'EPSG:32635', 'crs_transform': [20, 0, 499980, 0, -20, 3000000]}, {'id': 'B7', 'data_type': {'type': 'PixelType', 'precision': 'int', 'min': 0, 'max': 65535}, 'dimensions': [5490, 5490], 'crs': 'EPSG:32635', 'crs_transform': [20, 0, 499980, 0, -20, 3000000]}, {'id': 'B8', 'data_type': {'type': 'PixelType', 'precision': 'int', 'min': 0, 'max': 65535}, 'dimensions': [10980, 10980], 'crs': 'EPSG:32635', 'crs_transform': [10, 0, 499980, 0, -10, 3000000]}, {'id': 'B8A', 'data_type': {'type': 'PixelType', 'precision': 'int', 'min': 0, 'max': 65535}, 'dimensions': [5490, 5490], 'crs': 'EPSG:32635', 'crs_transform': [20, 0, 499980, 0, -20, 3000000]}, {'id': 'B9', 'data_type': {'type': 'PixelType', 'precision': 'int', 'min': 0, 'max': 65535}, 'dimensions': [1830, 1830], 'crs': 'EPSG:32635', 'crs_transform': [60, 0, 499980, 0, -60, 3000000]}, {'id': 'B11', 'data_type': {'type': 'PixelType', 'precision': 'int', 'min': 0, 'max': 65535}, 'dimensions': [5490, 5490], 'crs': 'EPSG:32635', 'crs_transform': [20, 0, 499980, 0, -20, 3000000]}, {'id': 'B12', 'data_type': {'type': 'PixelType', 'precision': 'int', 'min': 0, 'max': 65535}, 'dimensions': [5490, 5490], 'crs': 'EPSG:32635', 'crs_transform': [20, 0, 499980, 0, -20, 3000000]}, {'id': 'AOT', 'data_type': {'type': 'PixelType', 'precision': 'int', 'min': 0, 'max': 65535}, 'dimensions': [10980, 10980], 'crs': 'EPSG:32635', 'crs_transform': [10, 0, 499980, 0, -10, 3000000]}, {'id': 'WVP', 'data_type': {'type': 'PixelType', 'precision': 'int', 'min': 0, 'max': 4294967295}, 'dimensions': [10980, 10980], 'crs': 'EPSG:32635', 'crs_transform': [10, 0, 499980, 0, -10, 3000000]}, {'id': 'SCL', 'data_type': {'type': 'PixelType', 'precision': 'int', 'min': 0, 'max': 255}, 'dimensions': [5490, 5490], 'crs': 'EPSG:32635', 'crs_transform': [20, 0, 499980, 0, -20, 3000000]}, {'id': 'TCI_R', 'data_type': {'type': 'PixelType', 'precision': 'int', 'min': 0, 'max': 255}, 'dimensions': [10980, 10980], 'crs': 'EPSG:32635', 'crs_transform': [10, 0, 499980, 0, -10, 3000000]}, {'id': 'TCI_G', 'data_type': {'type': 'PixelType', 'precision': 'int', 'min': 0, 'max': 255}, 'dimensions': [10980, 10980], 'crs': 'EPSG:32635', 'crs_transform': [10, 0, 499980, 0, -10, 3000000]}, {'id': 'TCI_B', 'data_type': {'type': 'PixelType', 'precision': 'int', 'min': 0, 'max': 255}, 'dimensions': [10980, 10980], 'crs': 'EPSG:32635', 'crs_transform': [10, 0, 499980, 0, -10, 3000000]}, {'id': 'MSK_CLDPRB', 'data_type': {'type': 'PixelType', 'precision': 'int', 'min': 0, 'max': 255}, 'dimensions': [1, 1], 'crs': 'EPSG:32635', 'crs_transform': [1, 0, 499980, 0, 1, 3000000]}, {'id': 'MSK_SNWPRB', 'data_type': {'type': 'PixelType', 'precision': 'int', 'min': 0, 'max': 255}, 'dimensions': [1, 1], 'crs': 'EPSG:32635', 'crs_transform': [1, 0, 499980, 0, 1, 3000000]}, {'id': 'QA10', 'data_type': {'type': 'PixelType', 'precision': 'int', 'min': 0, 'max': 65535}, 'dimensions': [10980, 10980], 'crs': 'EPSG:32635', 'crs_transform': [10, 0, 499980, 0, -10, 3000000]}, {'id': 'QA20', 'data_type': {'type': 'PixelType', 'precision': 'int', 'min': 0, 'max': 4294967295}, 'dimensions': [5490, 5490], 'crs': 'EPSG:32635', 'crs_transform': [20, 0, 499980, 0, -20, 3000000]}, {'id': 'QA60', 'data_type': {'type': 'PixelType', 'precision': 'int', 'min': 0, 'max': 65535}, 'dimensions': [1830, 1830], 'crs': 'EPSG:32635', 'crs_transform': [60, 0, 499980, 0, -60, 3000000]}, {'id': 'MSK_CLASSI_OPAQUE', 'data_type': {'type': 'PixelType', 'precision': 'int', 'min': 0, 'max': 255}, 'crs': 'EPSG:4326', 'crs_transform': [1, 0, 0, 0, 1, 0]}, {'id': 'MSK_CLASSI_CIRRUS', 'data_type': {'type': 'PixelType', 'precision': 'int', 'min': 0, 'max': 255}, 'crs': 'EPSG:4326', 'crs_transform': [1, 0, 0, 0, 1, 0]}, {'id': 'MSK_CLASSI_SNOW_ICE', 'data_type': {'type': 'PixelType', 'precision': 'int', 'min': 0, 'max': 255}, 'crs': 'EPSG:4326', 'crs_transform': [1, 0, 0, 0, 1, 0]}], 'version': 1728224726998337, 'id': 'COPERNICUS/S2_SR_HARMONIZED/20170328T083601_20170328T084228_T35RNK', 'properties': {'DATATAKE_IDENTIFIER': 'GS2A_20170328T083601_009213_N02.04', 'AOT_RETRIEVAL_ACCURACY': 0, 'CLOUD_COVERAGE_PERCENTAGE': 0.125049, 'SPACECRAFT_NAME': 'Sentinel-2A', 'FORMAT_CORRECTNESS_FLAG': 'PASSED', 'SATURATED_DEFECTIVE_PIXEL_PERCENTAGE': 0, 'MEAN_INCIDENCE_AZIMUTH_ANGLE_B8A': 102.298310347845, 'CLOUD_SHADOW_PERCENTAGE': 0.002297, 'MEAN_SOLAR_AZIMUTH_ANGLE': 136.683697922854, 'system:footprint': {'type': 'LinearRing', 'coordinates': [[28.107426889904886, 27.11819105630901], [28.10741028029859, 27.11819399702698], [27.21229436586105, 27.122399178330305], [27.21226134691695, 27.122373367738696], [27.21221774036841, 27.12236814423152], [27.21220374320269, 27.122349375161726], [27.211591366257103, 27.12125813636491], [27.210978897736958, 27.119081495023572], [27.204880401375053, 27.09471254136155], [27.026163360366766, 26.365682201299258], [27.00390815662182, 26.274125806825698], [26.999699341299365, 26.256779664191527], [26.99969970057016, 26.131258307936516], [26.99974038798357, 26.131216828148673], [26.99977721322956, 26.131168305082245], [28.097889859048905, 26.126986431099567], [28.097936386331536, 26.12702272123306], [28.097990772333393, 26.1270552865103], [28.102684961905215, 26.622607117747478], [28.107501990309334, 27.118103242418634], [28.10746135929785, 27.118145059123197], [28.107426889904886, 27.11819105630901]]}, 'VEGETATION_PERCENTAGE': 0.808226, 'SOLAR_IRRADIANCE_B12': 85.25, 'SOLAR_IRRADIANCE_B10': 367.15, 'SOLAR_IRRADIANCE_B11': 245.59, 'GENERATION_TIME': 1490833524000, 'SOLAR_IRRADIANCE_B8A': 955.19, 'SENSOR_QUALITY_FLAG': 'PASSED', 'CLOUD_COVERAGE_ASSESSMENT': 0.9371, 'THIN_CIRRUS_PERCENTAGE': 0, 'system:time_end': 1490690548704, 'WATER_VAPOUR_RETRIEVAL_ACCURACY': 0, 'system:time_start': 1490690548704, 'DATASTRIP_ID': 'S2A_USER_MSI_L2A_DS_MPS__20170328T123128_S20170328T084228_N02.04', 'PROCESSING_BASELINE': '02.04', 'SENSING_ORBIT_NUMBER': 64, 'GEOMETRIC_QUALITY_FLAG': 'PASSED', 'NODATA_PIXEL_PERCENTAGE': 8.42899, 'SENSING_ORBIT_DIRECTION': 'DESCENDING', 'GRANULE_ID': 'L2A_T35RNK_A009213_20170328T084228', 'LOW_PROBA_CLOUDS_PERCENTAGE': 3.266497, 'REFLECTANCE_CONVERSION_CORRECTION': 1.00613186852888, 'MEDIUM_PROBA_CLOUDS_PERCENTAGE': 0.115654, 'MEAN_INCIDENCE_AZIMUTH_ANGLE_B8': 102.383153807081, 'DATATAKE_TYPE': 'INS-NOBS', 'MEAN_INCIDENCE_AZIMUTH_ANGLE_B9': 102.255545015823, 'MEAN_INCIDENCE_AZIMUTH_ANGLE_B6': 102.352232896132, 'MEAN_INCIDENCE_AZIMUTH_ANGLE_B7': 102.318357793202, 'RADIOMETRIC_QUALITY_FLAG': 'PASSED', 'MEAN_INCIDENCE_AZIMUTH_ANGLE_B4': 102.356370499476, 'MEAN_INCIDENCE_ZENITH_ANGLE_B1': 7.97937567487903, 'MEAN_INCIDENCE_AZIMUTH_ANGLE_B5': 102.352643621664, 'MEAN_INCIDENCE_AZIMUTH_ANGLE_B2': 102.394454121819, 'MEAN_INCIDENCE_AZIMUTH_ANGLE_B3': 102.389237545572, 'MEAN_INCIDENCE_ZENITH_ANGLE_B5': 7.85692977605161, 'MEAN_INCIDENCE_AZIMUTH_ANGLE_B1': 102.278039620893, 'MEAN_INCIDENCE_ZENITH_ANGLE_B4': 7.8341910219081, 'RADIATIVE_TRANSFER_ACCURAY': 0, 'MEAN_INCIDENCE_ZENITH_ANGLE_B3': 7.80764616306986, 'MEAN_INCIDENCE_ZENITH_ANGLE_B2': 7.78469074687201, 'MEAN_INCIDENCE_ZENITH_ANGLE_B9': 8.01613094389656, 'MEAN_INCIDENCE_ZENITH_ANGLE_B8': 7.796699156862, 'MEAN_INCIDENCE_ZENITH_ANGLE_B7': 7.90695091136708, 'DARK_FEATURES_PERCENTAGE': 0.009656, 'HIGH_PROBA_CLOUDS_PERCENTAGE': 0.009395, 'MEAN_INCIDENCE_ZENITH_ANGLE_B6': 7.88239106253906, 'MEAN_SOLAR_ZENITH_ANGLE': 30.6150451978666, 'MEAN_INCIDENCE_ZENITH_ANGLE_B8A': 7.93770186590827, 'MGRS_TILE': '35RNK', 'CLOUDY_PIXEL_PERCENTAGE': 0.9371, 'GENERAL_QUALITY_FLAG': 'PASSED', 'PRODUCT_ID': 'S2A_MSIL2A_20170328T083601_N0204_R064_T35RNK_20170328T084228', 'MEAN_INCIDENCE_ZENITH_ANGLE_B10': 7.84510879619063, 'SOLAR_IRRADIANCE_B9': 813.04, 'SNOW_ICE_PERCENTAGE': 0, 'DEGRADED_MSI_DATA_PERCENTAGE': 0, 'MEAN_INCIDENCE_ZENITH_ANGLE_B11': 7.89216314554438, 'MEAN_INCIDENCE_ZENITH_ANGLE_B12': 7.96639694613242, 'SOLAR_IRRADIANCE_B6': 1288.32, 'MEAN_INCIDENCE_AZIMUTH_ANGLE_B10': 102.387203144909, 'SOLAR_IRRADIANCE_B5': 1425.56, 'MEAN_INCIDENCE_AZIMUTH_ANGLE_B11': 102.315681976464, 'SOLAR_IRRADIANCE_B8': 1036.39, 'MEAN_INCIDENCE_AZIMUTH_ANGLE_B12': 102.250289538229, 'SOLAR_IRRADIANCE_B7': 1163.19, 'SOLAR_IRRADIANCE_B2': 1941.63, 'SOLAR_IRRADIANCE_B1': 1913.57, 'SOLAR_IRRADIANCE_B4': 1512.79, 'SOLAR_IRRADIANCE_B3': 1822.61, 'BARE_SOILS_PERCENTAGE': 95.713365, 'system:asset_size': 1396774832, 'WATER_PERCENTAGE': 0.074907, 'system:index': '20170328T083601_20170328T084228_T35RNK'}}, {'type': 'Image', 'bands': [{'id': 'B1', 'data_type': {'type': 'PixelType', 'precision': 'int', 'min': 0, 'max': 65535}, 'dimensions': [1830, 1830], 'crs': 'EPSG:32635', 'crs_transform': [60, 0, 499980, 0, -60, 3100020]}, {'id': 'B2', 'data_type': {'type': 'PixelType', 'precision': 'int', 'min': 0, 'max': 65535}, 'dimensions': [10980, 10980], 'crs': 'EPSG:32635', 'crs_transform': [10, 0, 499980, 0, -10, 3100020]}, {'id': 'B3', 'data_type': {'type': 'PixelType', 'precision': 'int', 'min': 0, 'max': 65535}, 'dimensions': [10980, 10980], 'crs': 'EPSG:32635', 'crs_transform': [10, 0, 499980, 0, -10, 3100020]}, {'id': 'B4', 'data_type': {'type': 'PixelType', 'precision': 'int', 'min': 0, 'max': 65535}, 'dimensions': [10980, 10980], 'crs': 'EPSG:32635', 'crs_transform': [10, 0, 499980, 0, -10, 3100020]}, {'id': 'B5', 'data_type': {'type': 'PixelType', 'precision': 'int', 'min': 0, 'max': 65535}, 'dimensions': [5490, 5490], 'crs': 'EPSG:32635', 'crs_transform': [20, 0, 499980, 0, -20, 3100020]}, {'id': 'B6', 'data_type': {'type': 'PixelType', 'precision': 'int', 'min': 0, 'max': 65535}, 'dimensions': [5490, 5490], 'crs': 'EPSG:32635', 'crs_transform': [20, 0, 499980, 0, -20, 3100020]}, {'id': 'B7', 'data_type': {'type': 'PixelType', 'precision': 'int', 'min': 0, 'max': 65535}, 'dimensions': [5490, 5490], 'crs': 'EPSG:32635', 'crs_transform': [20, 0, 499980, 0, -20, 3100020]}, {'id': 'B8', 'data_type': {'type': 'PixelType', 'precision': 'int', 'min': 0, 'max': 65535}, 'dimensions': [10980, 10980], 'crs': 'EPSG:32635', 'crs_transform': [10, 0, 499980, 0, -10, 3100020]}, {'id': 'B8A', 'data_type': {'type': 'PixelType', 'precision': 'int', 'min': 0, 'max': 65535}, 'dimensions': [5490, 5490], 'crs': 'EPSG:32635', 'crs_transform': [20, 0, 499980, 0, -20, 3100020]}, {'id': 'B9', 'data_type': {'type': 'PixelType', 'precision': 'int', 'min': 0, 'max': 65535}, 'dimensions': [1830, 1830], 'crs': 'EPSG:32635', 'crs_transform': [60, 0, 499980, 0, -60, 3100020]}, {'id': 'B11', 'data_type': {'type': 'PixelType', 'precision': 'int', 'min': 0, 'max': 65535}, 'dimensions': [5490, 5490], 'crs': 'EPSG:32635', 'crs_transform': [20, 0, 499980, 0, -20, 3100020]}, {'id': 'B12', 'data_type': {'type': 'PixelType', 'precision': 'int', 'min': 0, 'max': 65535}, 'dimensions': [5490, 5490], 'crs': 'EPSG:32635', 'crs_transform': [20, 0, 499980, 0, -20, 3100020]}, {'id': 'AOT', 'data_type': {'type': 'PixelType', 'precision': 'int', 'min': 0, 'max': 65535}, 'dimensions': [10980, 10980], 'crs': 'EPSG:32635', 'crs_transform': [10, 0, 499980, 0, -10, 3100020]}, {'id': 'WVP', 'data_type': {'type': 'PixelType', 'precision': 'int', 'min': 0, 'max': 4294967295}, 'dimensions': [10980, 10980], 'crs': 'EPSG:32635', 'crs_transform': [10, 0, 499980, 0, -10, 3100020]}, {'id': 'SCL', 'data_type': {'type': 'PixelType', 'precision': 'int', 'min': 0, 'max': 255}, 'dimensions': [5490, 5490], 'crs': 'EPSG:32635', 'crs_transform': [20, 0, 499980, 0, -20, 3100020]}, {'id': 'TCI_R', 'data_type': {'type': 'PixelType', 'precision': 'int', 'min': 0, 'max': 255}, 'dimensions': [10980, 10980], 'crs': 'EPSG:32635', 'crs_transform': [10, 0, 499980, 0, -10, 3100020]}, {'id': 'TCI_G', 'data_type': {'type': 'PixelType', 'precision': 'int', 'min': 0, 'max': 255}, 'dimensions': [10980, 10980], 'crs': 'EPSG:32635', 'crs_transform': [10, 0, 499980, 0, -10, 3100020]}, {'id': 'TCI_B', 'data_type': {'type': 'PixelType', 'precision': 'int', 'min': 0, 'max': 255}, 'dimensions': [10980, 10980], 'crs': 'EPSG:32635', 'crs_transform': [10, 0, 499980, 0, -10, 3100020]}, {'id': 'MSK_CLDPRB', 'data_type': {'type': 'PixelType', 'precision': 'int', 'min': 0, 'max': 255}, 'dimensions': [1, 1], 'crs': 'EPSG:32635', 'crs_transform': [1, 0, 499980, 0, 1, 3100020]}, {'id': 'MSK_SNWPRB', 'data_type': {'type': 'PixelType', 'precision': 'int', 'min': 0, 'max': 255}, 'dimensions': [1, 1], 'crs': 'EPSG:32635', 'crs_transform': [1, 0, 499980, 0, 1, 3100020]}, {'id': 'QA10', 'data_type': {'type': 'PixelType', 'precision': 'int', 'min': 0, 'max': 65535}, 'dimensions': [10980, 10980], 'crs': 'EPSG:32635', 'crs_transform': [10, 0, 499980, 0, -10, 3100020]}, {'id': 'QA20', 'data_type': {'type': 'PixelType', 'precision': 'int', 'min': 0, 'max': 4294967295}, 'dimensions': [5490, 5490], 'crs': 'EPSG:32635', 'crs_transform': [20, 0, 499980, 0, -20, 3100020]}, {'id': 'QA60', 'data_type': {'type': 'PixelType', 'precision': 'int', 'min': 0, 'max': 65535}, 'dimensions': [1830, 1830], 'crs': 'EPSG:32635', 'crs_transform': [60, 0, 499980, 0, -60, 3100020]}, {'id': 'MSK_CLASSI_OPAQUE', 'data_type': {'type': 'PixelType', 'precision': 'int', 'min': 0, 'max': 255}, 'crs': 'EPSG:4326', 'crs_transform': [1, 0, 0, 0, 1, 0]}, {'id': 'MSK_CLASSI_CIRRUS', 'data_type': {'type': 'PixelType', 'precision': 'int', 'min': 0, 'max': 255}, 'crs': 'EPSG:4326', 'crs_transform': [1, 0, 0, 0, 1, 0]}, {'id': 'MSK_CLASSI_SNOW_ICE', 'data_type': {'type': 'PixelType', 'precision': 'int', 'min': 0, 'max': 255}, 'crs': 'EPSG:4326', 'crs_transform': [1, 0, 0, 0, 1, 0]}], 'version': 1728224726998337, 'id': 'COPERNICUS/S2_SR_HARMONIZED/20170328T083601_20170328T084228_T35RNL', 'properties': {'DATATAKE_IDENTIFIER': 'GS2A_20170328T083601_009213_N02.04', 'AOT_RETRIEVAL_ACCURACY': 0, 'CLOUD_COVERAGE_PERCENTAGE': 0.224897, 'SPACECRAFT_NAME': 'Sentinel-2A', 'FORMAT_CORRECTNESS_FLAG': 'PASSED', 'SATURATED_DEFECTIVE_PIXEL_PERCENTAGE': 0, 'MEAN_INCIDENCE_AZIMUTH_ANGLE_B8A': 104.310902315755, 'CLOUD_SHADOW_PERCENTAGE': 0.00428, 'MEAN_SOLAR_AZIMUTH_ANGLE': 137.619664879748, 'system:footprint': {'type': 'LinearRing', 'coordinates': [[27.190682408582873, 27.034158897336546], [27.19073445483362, 27.034132335517047], [28.106534523179548, 27.029912420691925], [28.106636235177547, 27.029981184406896], [28.111556382016165, 27.525468373085424], [28.116603813411917, 28.020898981476286], [28.11652585949817, 28.020989543017414], [27.434992680075922, 28.024837067155904], [27.434899111573532, 28.02478888439672], [27.434274065656627, 28.02260321041018], [27.425592675412876, 27.987964799783466], [27.38783188823215, 27.83641785076414], [27.37115234984851, 27.769299525576862], [27.237849414188453, 27.22954375117679], [27.231738000313083, 27.204635961266323], [27.190251411274478, 27.03513543849035], [27.190250424188196, 27.034546999952813], [27.190682408582873, 27.034158897336546]]}, 'VEGETATION_PERCENTAGE': 0.413109, 'SOLAR_IRRADIANCE_B12': 85.25, 'SOLAR_IRRADIANCE_B10': 367.15, 'SOLAR_IRRADIANCE_B11': 245.59, 'GENERATION_TIME': 1490845271000, 'SOLAR_IRRADIANCE_B8A': 955.19, 'SENSOR_QUALITY_FLAG': 'PASSED', 'CLOUD_COVERAGE_ASSESSMENT': 1.4639, 'THIN_CIRRUS_PERCENTAGE': 0, 'system:time_end': 1490690548704, 'WATER_VAPOUR_RETRIEVAL_ACCURACY': 0, 'system:time_start': 1490690548704, 'DATASTRIP_ID': 'S2A_USER_MSI_L2A_DS_MPS__20170328T123128_S20170328T084228_N02.04', 'PROCESSING_BASELINE': '02.04', 'SENSING_ORBIT_NUMBER': 64, 'GEOMETRIC_QUALITY_FLAG': 'PASSED', 'NODATA_PIXEL_PERCENTAGE': 28.142375, 'SENSING_ORBIT_DIRECTION': 'DESCENDING', 'GRANULE_ID': 'L2A_T35RNL_A009213_20170328T084228', 'LOW_PROBA_CLOUDS_PERCENTAGE': 4.163379, 'REFLECTANCE_CONVERSION_CORRECTION': 1.00613186852888, 'MEDIUM_PROBA_CLOUDS_PERCENTAGE': 0.201293, 'MEAN_INCIDENCE_AZIMUTH_ANGLE_B8': 103.090969679931, 'DATATAKE_TYPE': 'INS-NOBS', 'MEAN_INCIDENCE_AZIMUTH_ANGLE_B9': 104.739293125948, 'MEAN_INCIDENCE_AZIMUTH_ANGLE_B6': 103.96451343688, 'MEAN_INCIDENCE_AZIMUTH_ANGLE_B7': 104.1436317374, 'RADIOMETRIC_QUALITY_FLAG': 'PASSED', 'MEAN_INCIDENCE_AZIMUTH_ANGLE_B4': 103.609273219246, 'MEAN_INCIDENCE_ZENITH_ANGLE_B1': 8.81858851727027, 'MEAN_INCIDENCE_AZIMUTH_ANGLE_B5': 103.794543873275, 'MEAN_INCIDENCE_AZIMUTH_ANGLE_B2': 102.921134879922, 'MEAN_INCIDENCE_AZIMUTH_ANGLE_B3': 103.271249840646, 'MEAN_INCIDENCE_ZENITH_ANGLE_B5': 8.71515053173898, 'MEAN_INCIDENCE_AZIMUTH_ANGLE_B1': 104.567115178866, 'MEAN_INCIDENCE_ZENITH_ANGLE_B4': 8.6957486028144, 'RADIATIVE_TRANSFER_ACCURAY': 0, 'MEAN_INCIDENCE_ZENITH_ANGLE_B3': 8.67223171051305, 'MEAN_INCIDENCE_ZENITH_ANGLE_B2': 8.64634171324533, 'MEAN_INCIDENCE_ZENITH_ANGLE_B9': 8.85022609569992, 'MEAN_INCIDENCE_ZENITH_ANGLE_B8': 8.65963151760375, 'MEAN_INCIDENCE_ZENITH_ANGLE_B7': 8.76095504402237, 'DARK_FEATURES_PERCENTAGE': 0.015394, 'HIGH_PROBA_CLOUDS_PERCENTAGE': 0.023603, 'MEAN_INCIDENCE_ZENITH_ANGLE_B6': 8.73686759238397, 'MEAN_SOLAR_ZENITH_ANGLE': 31.3115801677624, 'MEAN_INCIDENCE_ZENITH_ANGLE_B8A': 8.78726632686348, 'MGRS_TILE': '35RNL', 'CLOUDY_PIXEL_PERCENTAGE': 1.4639, 'GENERAL_QUALITY_FLAG': 'PASSED', 'PRODUCT_ID': 'S2A_MSIL2A_20170328T083601_N0204_R064_T35RNL_20170328T084228', 'MEAN_INCIDENCE_ZENITH_ANGLE_B10': 8.67435939192528, 'SOLAR_IRRADIANCE_B9': 813.04, 'SNOW_ICE_PERCENTAGE': 0, 'DEGRADED_MSI_DATA_PERCENTAGE': 0, 'MEAN_INCIDENCE_ZENITH_ANGLE_B11': 8.72342663472199, 'MEAN_INCIDENCE_ZENITH_ANGLE_B12': 8.78689327580851, 'SOLAR_IRRADIANCE_B6': 1288.32, 'MEAN_INCIDENCE_AZIMUTH_ANGLE_B10': 103.623644544347, 'SOLAR_IRRADIANCE_B5': 1425.56, 'MEAN_INCIDENCE_AZIMUTH_ANGLE_B11': 104.025182064291, 'SOLAR_IRRADIANCE_B8': 1036.39, 'MEAN_INCIDENCE_AZIMUTH_ANGLE_B12': 104.417025490871, 'SOLAR_IRRADIANCE_B7': 1163.19, 'SOLAR_IRRADIANCE_B2': 1941.63, 'SOLAR_IRRADIANCE_B1': 1913.57, 'SOLAR_IRRADIANCE_B4': 1512.79, 'SOLAR_IRRADIANCE_B3': 1822.61, 'BARE_SOILS_PERCENTAGE': 95.071429, 'system:asset_size': 1080391315, 'WATER_PERCENTAGE': 0.107508, 'system:index': '20170328T083601_20170328T084228_T35RNL'}}, {'type': 'Image', 'bands': [{'id': 'B1', 'data_type': {'type': 'PixelType', 'precision': 'int', 'min': 0, 'max': 65535}, 'dimensions': [1830, 1830], 'crs': 'EPSG:32635', 'crs_transform': [60, 0, 499980, 0, -60, 3200040]}, {'id': 'B2', 'data_type': {'type': 'PixelType', 'precision': 'int', 'min': 0, 'max': 65535}, 'dimensions': [10980, 10980], 'crs': 'EPSG:32635', 'crs_transform': [10, 0, 499980, 0, -10, 3200040]}, {'id': 'B3', 'data_type': {'type': 'PixelType', 'precision': 'int', 'min': 0, 'max': 65535}, 'dimensions': [10980, 10980], 'crs': 'EPSG:32635', 'crs_transform': [10, 0, 499980, 0, -10, 3200040]}, {'id': 'B4', 'data_type': {'type': 'PixelType', 'precision': 'int', 'min': 0, 'max': 65535}, 'dimensions': [10980, 10980], 'crs': 'EPSG:32635', 'crs_transform': [10, 0, 499980, 0, -10, 3200040]}, {'id': 'B5', 'data_type': {'type': 'PixelType', 'precision': 'int', 'min': 0, 'max': 65535}, 'dimensions': [5490, 5490], 'crs': 'EPSG:32635', 'crs_transform': [20, 0, 499980, 0, -20, 3200040]}, {'id': 'B6', 'data_type': {'type': 'PixelType', 'precision': 'int', 'min': 0, 'max': 65535}, 'dimensions': [5490, 5490], 'crs': 'EPSG:32635', 'crs_transform': [20, 0, 499980, 0, -20, 3200040]}, {'id': 'B7', 'data_type': {'type': 'PixelType', 'precision': 'int', 'min': 0, 'max': 65535}, 'dimensions': [5490, 5490], 'crs': 'EPSG:32635', 'crs_transform': [20, 0, 499980, 0, -20, 3200040]}, {'id': 'B8', 'data_type': {'type': 'PixelType', 'precision': 'int', 'min': 0, 'max': 65535}, 'dimensions': [10980, 10980], 'crs': 'EPSG:32635', 'crs_transform': [10, 0, 499980, 0, -10, 3200040]}, {'id': 'B8A', 'data_type': {'type': 'PixelType', 'precision': 'int', 'min': 0, 'max': 65535}, 'dimensions': [5490, 5490], 'crs': 'EPSG:32635', 'crs_transform': [20, 0, 499980, 0, -20, 3200040]}, {'id': 'B9', 'data_type': {'type': 'PixelType', 'precision': 'int', 'min': 0, 'max': 65535}, 'dimensions': [1830, 1830], 'crs': 'EPSG:32635', 'crs_transform': [60, 0, 499980, 0, -60, 3200040]}, {'id': 'B11', 'data_type': {'type': 'PixelType', 'precision': 'int', 'min': 0, 'max': 65535}, 'dimensions': [5490, 5490], 'crs': 'EPSG:32635', 'crs_transform': [20, 0, 499980, 0, -20, 3200040]}, {'id': 'B12', 'data_type': {'type': 'PixelType', 'precision': 'int', 'min': 0, 'max': 65535}, 'dimensions': [5490, 5490], 'crs': 'EPSG:32635', 'crs_transform': [20, 0, 499980, 0, -20, 3200040]}, {'id': 'AOT', 'data_type': {'type': 'PixelType', 'precision': 'int', 'min': 0, 'max': 65535}, 'dimensions': [10980, 10980], 'crs': 'EPSG:32635', 'crs_transform': [10, 0, 499980, 0, -10, 3200040]}, {'id': 'WVP', 'data_type': {'type': 'PixelType', 'precision': 'int', 'min': 0, 'max': 4294967295}, 'dimensions': [10980, 10980], 'crs': 'EPSG:32635', 'crs_transform': [10, 0, 499980, 0, -10, 3200040]}, {'id': 'SCL', 'data_type': {'type': 'PixelType', 'precision': 'int', 'min': 0, 'max': 255}, 'dimensions': [5490, 5490], 'crs': 'EPSG:32635', 'crs_transform': [20, 0, 499980, 0, -20, 3200040]}, {'id': 'TCI_R', 'data_type': {'type': 'PixelType', 'precision': 'int', 'min': 0, 'max': 255}, 'dimensions': [10980, 10980], 'crs': 'EPSG:32635', 'crs_transform': [10, 0, 499980, 0, -10, 3200040]}, {'id': 'TCI_G', 'data_type': {'type': 'PixelType', 'precision': 'int', 'min': 0, 'max': 255}, 'dimensions': [10980, 10980], 'crs': 'EPSG:32635', 'crs_transform': [10, 0, 499980, 0, -10, 3200040]}, {'id': 'TCI_B', 'data_type': {'type': 'PixelType', 'precision': 'int', 'min': 0, 'max': 255}, 'dimensions': [10980, 10980], 'crs': 'EPSG:32635', 'crs_transform': [10, 0, 499980, 0, -10, 3200040]}, {'id': 'MSK_CLDPRB', 'data_type': {'type': 'PixelType', 'precision': 'int', 'min': 0, 'max': 255}, 'dimensions': [1, 1], 'crs': 'EPSG:32635', 'crs_transform': [1, 0, 499980, 0, 1, 3200040]}, {'id': 'MSK_SNWPRB', 'data_type': {'type': 'PixelType', 'precision': 'int', 'min': 0, 'max': 255}, 'dimensions': [1, 1], 'crs': 'EPSG:32635', 'crs_transform': [1, 0, 499980, 0, 1, 3200040]}, {'id': 'QA10', 'data_type': {'type': 'PixelType', 'precision': 'int', 'min': 0, 'max': 65535}, 'dimensions': [10980, 10980], 'crs': 'EPSG:32635', 'crs_transform': [10, 0, 499980, 0, -10, 3200040]}, {'id': 'QA20', 'data_type': {'type': 'PixelType', 'precision': 'int', 'min': 0, 'max': 4294967295}, 'dimensions': [5490, 5490], 'crs': 'EPSG:32635', 'crs_transform': [20, 0, 499980, 0, -20, 3200040]}, {'id': 'QA60', 'data_type': {'type': 'PixelType', 'precision': 'int', 'min': 0, 'max': 65535}, 'dimensions': [1830, 1830], 'crs': 'EPSG:32635', 'crs_transform': [60, 0, 499980, 0, -60, 3200040]}, {'id': 'MSK_CLASSI_OPAQUE', 'data_type': {'type': 'PixelType', 'precision': 'int', 'min': 0, 'max': 255}, 'crs': 'EPSG:4326', 'crs_transform': [1, 0, 0, 0, 1, 0]}, {'id': 'MSK_CLASSI_CIRRUS', 'data_type': {'type': 'PixelType', 'precision': 'int', 'min': 0, 'max': 255}, 'crs': 'EPSG:4326', 'crs_transform': [1, 0, 0, 0, 1, 0]}, {'id': 'MSK_CLASSI_SNOW_ICE', 'data_type': {'type': 'PixelType', 'precision': 'int', 'min': 0, 'max': 255}, 'crs': 'EPSG:4326', 'crs_transform': [1, 0, 0, 0, 1, 0]}], 'version': 1728224726998337, 'id': 'COPERNICUS/S2_SR_HARMONIZED/20170328T083601_20170328T084228_T35RNM', 'properties': {'DATATAKE_IDENTIFIER': 'GS2A_20170328T083601_009213_N02.04', 'AOT_RETRIEVAL_ACCURACY': 0, 'CLOUD_COVERAGE_PERCENTAGE': 0.082801, 'SPACECRAFT_NAME': 'Sentinel-2A', 'FORMAT_CORRECTNESS_FLAG': 'PASSED', 'SATURATED_DEFECTIVE_PIXEL_PERCENTAGE': 0, 'MEAN_INCIDENCE_AZIMUTH_ANGLE_B8A': 103.128545006266, 'CLOUD_SHADOW_PERCENTAGE': 7e-05, 'MEAN_SOLAR_AZIMUTH_ANGLE': 138.511244551408, 'system:footprint': {'type': 'LinearRing', 'coordinates': [[27.66052009585949, 28.925893960712962], [27.66051006968037, 28.925870988810416], [27.658935147242243, 28.920191917766438], [27.618001343780538, 28.763876037279886], [27.6073057101878, 28.721140636546863], [27.413197447384718, 27.938162777437288], [27.41319323454089, 27.93707003643139], [27.413208831026086, 27.937018830431906], [27.413627874057127, 27.936644198509974], [27.413680220759932, 27.93661747537432], [28.11559407090724, 27.93271982816523], [28.11569667058435, 27.932788585528527], [28.120850865084368, 28.428209525551274], [28.126136787961382, 28.92357320972733], [28.126058302566324, 28.923663812402424], [27.66123123705587, 28.92674901305575], [27.661201606226435, 28.926726383177797], [27.66115827896289, 28.926726180541355], [27.66052009585949, 28.925893960712962]]}, 'VEGETATION_PERCENTAGE': 0, 'SOLAR_IRRADIANCE_B12': 85.25, 'SOLAR_IRRADIANCE_B10': 367.15, 'SOLAR_IRRADIANCE_B11': 245.59, 'GENERATION_TIME': 1490866099000, 'SOLAR_IRRADIANCE_B8A': 955.19, 'SENSOR_QUALITY_FLAG': 'PASSED', 'CLOUD_COVERAGE_ASSESSMENT': 3.8607, 'THIN_CIRRUS_PERCENTAGE': 0, 'system:time_end': 1490690548704, 'WATER_VAPOUR_RETRIEVAL_ACCURACY': 0, 'system:time_start': 1490690548704, 'DATASTRIP_ID': 'S2A_USER_MSI_L2A_DS_MPS__20170328T123128_S20170328T084228_N02.04', 'PROCESSING_BASELINE': '02.04', 'SENSING_ORBIT_NUMBER': 64, 'GEOMETRIC_QUALITY_FLAG': 'PASSED', 'NODATA_PIXEL_PERCENTAGE': 47.944936, 'SENSING_ORBIT_DIRECTION': 'DESCENDING', 'GRANULE_ID': 'L2A_T35RNM_A009213_20170328T084228', 'LOW_PROBA_CLOUDS_PERCENTAGE': 11.397176, 'REFLECTANCE_CONVERSION_CORRECTION': 1.00613186852888, 'MEDIUM_PROBA_CLOUDS_PERCENTAGE': 0.082801, 'MEAN_INCIDENCE_AZIMUTH_ANGLE_B8': 102.538940034604, 'DATATAKE_TYPE': 'INS-NOBS', 'MEAN_INCIDENCE_AZIMUTH_ANGLE_B9': 103.340899108775, 'MEAN_INCIDENCE_AZIMUTH_ANGLE_B6': 102.982526756786, 'MEAN_INCIDENCE_AZIMUTH_ANGLE_B7': 103.079551794189, 'RADIOMETRIC_QUALITY_FLAG': 'PASSED', 'MEAN_INCIDENCE_AZIMUTH_ANGLE_B4': 102.793110821053, 'MEAN_INCIDENCE_ZENITH_ANGLE_B1': 9.63754277402365, 'MEAN_INCIDENCE_AZIMUTH_ANGLE_B5': 102.894301373981, 'MEAN_INCIDENCE_AZIMUTH_ANGLE_B2': 102.443838894217, 'MEAN_INCIDENCE_AZIMUTH_ANGLE_B3': 102.63940089151, 'MEAN_INCIDENCE_ZENITH_ANGLE_B5': 9.54626398712918, 'MEAN_INCIDENCE_AZIMUTH_ANGLE_B1': 103.256227555342, 'MEAN_INCIDENCE_ZENITH_ANGLE_B4': 9.5291313886193, 'RADIATIVE_TRANSFER_ACCURAY': 0, 'MEAN_INCIDENCE_ZENITH_ANGLE_B3': 9.5017982741057, 'MEAN_INCIDENCE_ZENITH_ANGLE_B2': 9.48998355181051, 'MEAN_INCIDENCE_ZENITH_ANGLE_B9': 9.66574207167135, 'MEAN_INCIDENCE_ZENITH_ANGLE_B8': 9.49071700003941, 'MEAN_INCIDENCE_ZENITH_ANGLE_B7': 9.58684691925802, 'DARK_FEATURES_PERCENTAGE': 0, 'HIGH_PROBA_CLOUDS_PERCENTAGE': 0, 'MEAN_INCIDENCE_ZENITH_ANGLE_B6': 9.56549477430116, 'MEAN_SOLAR_ZENITH_ANGLE': 32.0167450476774, 'MEAN_INCIDENCE_ZENITH_ANGLE_B8A': 9.61166218408591, 'MGRS_TILE': '35RNM', 'CLOUDY_PIXEL_PERCENTAGE': 3.8607, 'GENERAL_QUALITY_FLAG': 'PASSED', 'PRODUCT_ID': 'S2A_MSIL2A_20170328T083601_N0204_R064_T35RNM_20170328T084228', 'MEAN_INCIDENCE_ZENITH_ANGLE_B10': 9.51040407743285, 'SOLAR_IRRADIANCE_B9': 813.04, 'SNOW_ICE_PERCENTAGE': 0, 'DEGRADED_MSI_DATA_PERCENTAGE': 0, 'MEAN_INCIDENCE_ZENITH_ANGLE_B11': 9.55344083898503, 'MEAN_INCIDENCE_ZENITH_ANGLE_B12': 9.61278549548682, 'SOLAR_IRRADIANCE_B6': 1288.32, 'MEAN_INCIDENCE_AZIMUTH_ANGLE_B10': 102.790759225307, 'SOLAR_IRRADIANCE_B5': 1425.56, 'MEAN_INCIDENCE_AZIMUTH_ANGLE_B11': 102.969596507555, 'SOLAR_IRRADIANCE_B8': 1036.39, 'MEAN_INCIDENCE_AZIMUTH_ANGLE_B12': 103.224163432254, 'SOLAR_IRRADIANCE_B7': 1163.19, 'SOLAR_IRRADIANCE_B2': 1941.63, 'SOLAR_IRRADIANCE_B1': 1913.57, 'SOLAR_IRRADIANCE_B4': 1512.79, 'SOLAR_IRRADIANCE_B3': 1822.61, 'BARE_SOILS_PERCENTAGE': 88.374627, 'system:asset_size': 761153923, 'WATER_PERCENTAGE': 0.145327, 'system:index': '20170328T083601_20170328T084228_T35RNM'}}]}\n",
      "Image collection from a list of images: {'type': 'ImageCollection', 'bands': [], 'features': [{'type': 'Image', 'bands': [{'id': 'B1', 'data_type': {'type': 'PixelType', 'precision': 'int', 'min': 0, 'max': 65535}, 'dimensions': [1830, 1830], 'crs': 'EPSG:32635', 'crs_transform': [60, 0, 499980, 0, -60, 3000000]}, {'id': 'B2', 'data_type': {'type': 'PixelType', 'precision': 'int', 'min': 0, 'max': 65535}, 'dimensions': [10980, 10980], 'crs': 'EPSG:32635', 'crs_transform': [10, 0, 499980, 0, -10, 3000000]}, {'id': 'B3', 'data_type': {'type': 'PixelType', 'precision': 'int', 'min': 0, 'max': 65535}, 'dimensions': [10980, 10980], 'crs': 'EPSG:32635', 'crs_transform': [10, 0, 499980, 0, -10, 3000000]}, {'id': 'B4', 'data_type': {'type': 'PixelType', 'precision': 'int', 'min': 0, 'max': 65535}, 'dimensions': [10980, 10980], 'crs': 'EPSG:32635', 'crs_transform': [10, 0, 499980, 0, -10, 3000000]}, {'id': 'B5', 'data_type': {'type': 'PixelType', 'precision': 'int', 'min': 0, 'max': 65535}, 'dimensions': [5490, 5490], 'crs': 'EPSG:32635', 'crs_transform': [20, 0, 499980, 0, -20, 3000000]}, {'id': 'B6', 'data_type': {'type': 'PixelType', 'precision': 'int', 'min': 0, 'max': 65535}, 'dimensions': [5490, 5490], 'crs': 'EPSG:32635', 'crs_transform': [20, 0, 499980, 0, -20, 3000000]}, {'id': 'B7', 'data_type': {'type': 'PixelType', 'precision': 'int', 'min': 0, 'max': 65535}, 'dimensions': [5490, 5490], 'crs': 'EPSG:32635', 'crs_transform': [20, 0, 499980, 0, -20, 3000000]}, {'id': 'B8', 'data_type': {'type': 'PixelType', 'precision': 'int', 'min': 0, 'max': 65535}, 'dimensions': [10980, 10980], 'crs': 'EPSG:32635', 'crs_transform': [10, 0, 499980, 0, -10, 3000000]}, {'id': 'B8A', 'data_type': {'type': 'PixelType', 'precision': 'int', 'min': 0, 'max': 65535}, 'dimensions': [5490, 5490], 'crs': 'EPSG:32635', 'crs_transform': [20, 0, 499980, 0, -20, 3000000]}, {'id': 'B9', 'data_type': {'type': 'PixelType', 'precision': 'int', 'min': 0, 'max': 65535}, 'dimensions': [1830, 1830], 'crs': 'EPSG:32635', 'crs_transform': [60, 0, 499980, 0, -60, 3000000]}, {'id': 'B11', 'data_type': {'type': 'PixelType', 'precision': 'int', 'min': 0, 'max': 65535}, 'dimensions': [5490, 5490], 'crs': 'EPSG:32635', 'crs_transform': [20, 0, 499980, 0, -20, 3000000]}, {'id': 'B12', 'data_type': {'type': 'PixelType', 'precision': 'int', 'min': 0, 'max': 65535}, 'dimensions': [5490, 5490], 'crs': 'EPSG:32635', 'crs_transform': [20, 0, 499980, 0, -20, 3000000]}, {'id': 'AOT', 'data_type': {'type': 'PixelType', 'precision': 'int', 'min': 0, 'max': 65535}, 'dimensions': [10980, 10980], 'crs': 'EPSG:32635', 'crs_transform': [10, 0, 499980, 0, -10, 3000000]}, {'id': 'WVP', 'data_type': {'type': 'PixelType', 'precision': 'int', 'min': 0, 'max': 4294967295}, 'dimensions': [10980, 10980], 'crs': 'EPSG:32635', 'crs_transform': [10, 0, 499980, 0, -10, 3000000]}, {'id': 'SCL', 'data_type': {'type': 'PixelType', 'precision': 'int', 'min': 0, 'max': 255}, 'dimensions': [5490, 5490], 'crs': 'EPSG:32635', 'crs_transform': [20, 0, 499980, 0, -20, 3000000]}, {'id': 'TCI_R', 'data_type': {'type': 'PixelType', 'precision': 'int', 'min': 0, 'max': 255}, 'dimensions': [10980, 10980], 'crs': 'EPSG:32635', 'crs_transform': [10, 0, 499980, 0, -10, 3000000]}, {'id': 'TCI_G', 'data_type': {'type': 'PixelType', 'precision': 'int', 'min': 0, 'max': 255}, 'dimensions': [10980, 10980], 'crs': 'EPSG:32635', 'crs_transform': [10, 0, 499980, 0, -10, 3000000]}, {'id': 'TCI_B', 'data_type': {'type': 'PixelType', 'precision': 'int', 'min': 0, 'max': 255}, 'dimensions': [10980, 10980], 'crs': 'EPSG:32635', 'crs_transform': [10, 0, 499980, 0, -10, 3000000]}, {'id': 'MSK_CLDPRB', 'data_type': {'type': 'PixelType', 'precision': 'int', 'min': 0, 'max': 255}, 'dimensions': [1, 1], 'crs': 'EPSG:32635', 'crs_transform': [1, 0, 499980, 0, 1, 3000000]}, {'id': 'MSK_SNWPRB', 'data_type': {'type': 'PixelType', 'precision': 'int', 'min': 0, 'max': 255}, 'dimensions': [1, 1], 'crs': 'EPSG:32635', 'crs_transform': [1, 0, 499980, 0, 1, 3000000]}, {'id': 'QA10', 'data_type': {'type': 'PixelType', 'precision': 'int', 'min': 0, 'max': 65535}, 'dimensions': [10980, 10980], 'crs': 'EPSG:32635', 'crs_transform': [10, 0, 499980, 0, -10, 3000000]}, {'id': 'QA20', 'data_type': {'type': 'PixelType', 'precision': 'int', 'min': 0, 'max': 4294967295}, 'dimensions': [5490, 5490], 'crs': 'EPSG:32635', 'crs_transform': [20, 0, 499980, 0, -20, 3000000]}, {'id': 'QA60', 'data_type': {'type': 'PixelType', 'precision': 'int', 'min': 0, 'max': 65535}, 'dimensions': [1830, 1830], 'crs': 'EPSG:32635', 'crs_transform': [60, 0, 499980, 0, -60, 3000000]}, {'id': 'MSK_CLASSI_OPAQUE', 'data_type': {'type': 'PixelType', 'precision': 'int', 'min': 0, 'max': 255}, 'crs': 'EPSG:4326', 'crs_transform': [1, 0, 0, 0, 1, 0]}, {'id': 'MSK_CLASSI_CIRRUS', 'data_type': {'type': 'PixelType', 'precision': 'int', 'min': 0, 'max': 255}, 'crs': 'EPSG:4326', 'crs_transform': [1, 0, 0, 0, 1, 0]}, {'id': 'MSK_CLASSI_SNOW_ICE', 'data_type': {'type': 'PixelType', 'precision': 'int', 'min': 0, 'max': 255}, 'crs': 'EPSG:4326', 'crs_transform': [1, 0, 0, 0, 1, 0]}], 'version': 1728224726998337, 'id': 'COPERNICUS/S2_SR_HARMONIZED/20170328T083601_20170328T084228_T35RNK', 'properties': {'DATATAKE_IDENTIFIER': 'GS2A_20170328T083601_009213_N02.04', 'AOT_RETRIEVAL_ACCURACY': 0, 'CLOUD_COVERAGE_PERCENTAGE': 0.125049, 'SPACECRAFT_NAME': 'Sentinel-2A', 'FORMAT_CORRECTNESS_FLAG': 'PASSED', 'SATURATED_DEFECTIVE_PIXEL_PERCENTAGE': 0, 'MEAN_INCIDENCE_AZIMUTH_ANGLE_B8A': 102.298310347845, 'CLOUD_SHADOW_PERCENTAGE': 0.002297, 'MEAN_SOLAR_AZIMUTH_ANGLE': 136.683697922854, 'system:footprint': {'type': 'LinearRing', 'coordinates': [[28.107426889904886, 27.11819105630901], [28.10741028029859, 27.11819399702698], [27.21229436586105, 27.122399178330305], [27.21226134691695, 27.122373367738696], [27.21221774036841, 27.12236814423152], [27.21220374320269, 27.122349375161726], [27.211591366257103, 27.12125813636491], [27.210978897736958, 27.119081495023572], [27.204880401375053, 27.09471254136155], [27.026163360366766, 26.365682201299258], [27.00390815662182, 26.274125806825698], [26.999699341299365, 26.256779664191527], [26.99969970057016, 26.131258307936516], [26.99974038798357, 26.131216828148673], [26.99977721322956, 26.131168305082245], [28.097889859048905, 26.126986431099567], [28.097936386331536, 26.12702272123306], [28.097990772333393, 26.1270552865103], [28.102684961905215, 26.622607117747478], [28.107501990309334, 27.118103242418634], [28.10746135929785, 27.118145059123197], [28.107426889904886, 27.11819105630901]]}, 'VEGETATION_PERCENTAGE': 0.808226, 'SOLAR_IRRADIANCE_B12': 85.25, 'SOLAR_IRRADIANCE_B10': 367.15, 'SOLAR_IRRADIANCE_B11': 245.59, 'GENERATION_TIME': 1490833524000, 'SOLAR_IRRADIANCE_B8A': 955.19, 'SENSOR_QUALITY_FLAG': 'PASSED', 'CLOUD_COVERAGE_ASSESSMENT': 0.9371, 'THIN_CIRRUS_PERCENTAGE': 0, 'system:time_end': 1490690548704, 'WATER_VAPOUR_RETRIEVAL_ACCURACY': 0, 'system:time_start': 1490690548704, 'DATASTRIP_ID': 'S2A_USER_MSI_L2A_DS_MPS__20170328T123128_S20170328T084228_N02.04', 'PROCESSING_BASELINE': '02.04', 'SENSING_ORBIT_NUMBER': 64, 'GEOMETRIC_QUALITY_FLAG': 'PASSED', 'NODATA_PIXEL_PERCENTAGE': 8.42899, 'SENSING_ORBIT_DIRECTION': 'DESCENDING', 'GRANULE_ID': 'L2A_T35RNK_A009213_20170328T084228', 'LOW_PROBA_CLOUDS_PERCENTAGE': 3.266497, 'REFLECTANCE_CONVERSION_CORRECTION': 1.00613186852888, 'MEDIUM_PROBA_CLOUDS_PERCENTAGE': 0.115654, 'MEAN_INCIDENCE_AZIMUTH_ANGLE_B8': 102.383153807081, 'DATATAKE_TYPE': 'INS-NOBS', 'MEAN_INCIDENCE_AZIMUTH_ANGLE_B9': 102.255545015823, 'MEAN_INCIDENCE_AZIMUTH_ANGLE_B6': 102.352232896132, 'MEAN_INCIDENCE_AZIMUTH_ANGLE_B7': 102.318357793202, 'RADIOMETRIC_QUALITY_FLAG': 'PASSED', 'MEAN_INCIDENCE_AZIMUTH_ANGLE_B4': 102.356370499476, 'MEAN_INCIDENCE_ZENITH_ANGLE_B1': 7.97937567487903, 'MEAN_INCIDENCE_AZIMUTH_ANGLE_B5': 102.352643621664, 'MEAN_INCIDENCE_AZIMUTH_ANGLE_B2': 102.394454121819, 'MEAN_INCIDENCE_AZIMUTH_ANGLE_B3': 102.389237545572, 'MEAN_INCIDENCE_ZENITH_ANGLE_B5': 7.85692977605161, 'MEAN_INCIDENCE_AZIMUTH_ANGLE_B1': 102.278039620893, 'MEAN_INCIDENCE_ZENITH_ANGLE_B4': 7.8341910219081, 'RADIATIVE_TRANSFER_ACCURAY': 0, 'MEAN_INCIDENCE_ZENITH_ANGLE_B3': 7.80764616306986, 'MEAN_INCIDENCE_ZENITH_ANGLE_B2': 7.78469074687201, 'MEAN_INCIDENCE_ZENITH_ANGLE_B9': 8.01613094389656, 'MEAN_INCIDENCE_ZENITH_ANGLE_B8': 7.796699156862, 'MEAN_INCIDENCE_ZENITH_ANGLE_B7': 7.90695091136708, 'DARK_FEATURES_PERCENTAGE': 0.009656, 'HIGH_PROBA_CLOUDS_PERCENTAGE': 0.009395, 'MEAN_INCIDENCE_ZENITH_ANGLE_B6': 7.88239106253906, 'MEAN_SOLAR_ZENITH_ANGLE': 30.6150451978666, 'MEAN_INCIDENCE_ZENITH_ANGLE_B8A': 7.93770186590827, 'MGRS_TILE': '35RNK', 'CLOUDY_PIXEL_PERCENTAGE': 0.9371, 'GENERAL_QUALITY_FLAG': 'PASSED', 'PRODUCT_ID': 'S2A_MSIL2A_20170328T083601_N0204_R064_T35RNK_20170328T084228', 'MEAN_INCIDENCE_ZENITH_ANGLE_B10': 7.84510879619063, 'SOLAR_IRRADIANCE_B9': 813.04, 'SNOW_ICE_PERCENTAGE': 0, 'DEGRADED_MSI_DATA_PERCENTAGE': 0, 'MEAN_INCIDENCE_ZENITH_ANGLE_B11': 7.89216314554438, 'MEAN_INCIDENCE_ZENITH_ANGLE_B12': 7.96639694613242, 'SOLAR_IRRADIANCE_B6': 1288.32, 'MEAN_INCIDENCE_AZIMUTH_ANGLE_B10': 102.387203144909, 'SOLAR_IRRADIANCE_B5': 1425.56, 'MEAN_INCIDENCE_AZIMUTH_ANGLE_B11': 102.315681976464, 'SOLAR_IRRADIANCE_B8': 1036.39, 'MEAN_INCIDENCE_AZIMUTH_ANGLE_B12': 102.250289538229, 'SOLAR_IRRADIANCE_B7': 1163.19, 'SOLAR_IRRADIANCE_B2': 1941.63, 'SOLAR_IRRADIANCE_B1': 1913.57, 'SOLAR_IRRADIANCE_B4': 1512.79, 'SOLAR_IRRADIANCE_B3': 1822.61, 'BARE_SOILS_PERCENTAGE': 95.713365, 'system:asset_size': 1396774832, 'WATER_PERCENTAGE': 0.074907, 'system:index': '20170328T083601_20170328T084228_T35RNK'}}, {'type': 'Image', 'bands': [{'id': 'B1', 'data_type': {'type': 'PixelType', 'precision': 'int', 'min': 0, 'max': 65535}, 'dimensions': [1830, 1830], 'crs': 'EPSG:32635', 'crs_transform': [60, 0, 499980, 0, -60, 3100020]}, {'id': 'B2', 'data_type': {'type': 'PixelType', 'precision': 'int', 'min': 0, 'max': 65535}, 'dimensions': [10980, 10980], 'crs': 'EPSG:32635', 'crs_transform': [10, 0, 499980, 0, -10, 3100020]}, {'id': 'B3', 'data_type': {'type': 'PixelType', 'precision': 'int', 'min': 0, 'max': 65535}, 'dimensions': [10980, 10980], 'crs': 'EPSG:32635', 'crs_transform': [10, 0, 499980, 0, -10, 3100020]}, {'id': 'B4', 'data_type': {'type': 'PixelType', 'precision': 'int', 'min': 0, 'max': 65535}, 'dimensions': [10980, 10980], 'crs': 'EPSG:32635', 'crs_transform': [10, 0, 499980, 0, -10, 3100020]}, {'id': 'B5', 'data_type': {'type': 'PixelType', 'precision': 'int', 'min': 0, 'max': 65535}, 'dimensions': [5490, 5490], 'crs': 'EPSG:32635', 'crs_transform': [20, 0, 499980, 0, -20, 3100020]}, {'id': 'B6', 'data_type': {'type': 'PixelType', 'precision': 'int', 'min': 0, 'max': 65535}, 'dimensions': [5490, 5490], 'crs': 'EPSG:32635', 'crs_transform': [20, 0, 499980, 0, -20, 3100020]}, {'id': 'B7', 'data_type': {'type': 'PixelType', 'precision': 'int', 'min': 0, 'max': 65535}, 'dimensions': [5490, 5490], 'crs': 'EPSG:32635', 'crs_transform': [20, 0, 499980, 0, -20, 3100020]}, {'id': 'B8', 'data_type': {'type': 'PixelType', 'precision': 'int', 'min': 0, 'max': 65535}, 'dimensions': [10980, 10980], 'crs': 'EPSG:32635', 'crs_transform': [10, 0, 499980, 0, -10, 3100020]}, {'id': 'B8A', 'data_type': {'type': 'PixelType', 'precision': 'int', 'min': 0, 'max': 65535}, 'dimensions': [5490, 5490], 'crs': 'EPSG:32635', 'crs_transform': [20, 0, 499980, 0, -20, 3100020]}, {'id': 'B9', 'data_type': {'type': 'PixelType', 'precision': 'int', 'min': 0, 'max': 65535}, 'dimensions': [1830, 1830], 'crs': 'EPSG:32635', 'crs_transform': [60, 0, 499980, 0, -60, 3100020]}, {'id': 'B11', 'data_type': {'type': 'PixelType', 'precision': 'int', 'min': 0, 'max': 65535}, 'dimensions': [5490, 5490], 'crs': 'EPSG:32635', 'crs_transform': [20, 0, 499980, 0, -20, 3100020]}, {'id': 'B12', 'data_type': {'type': 'PixelType', 'precision': 'int', 'min': 0, 'max': 65535}, 'dimensions': [5490, 5490], 'crs': 'EPSG:32635', 'crs_transform': [20, 0, 499980, 0, -20, 3100020]}, {'id': 'AOT', 'data_type': {'type': 'PixelType', 'precision': 'int', 'min': 0, 'max': 65535}, 'dimensions': [10980, 10980], 'crs': 'EPSG:32635', 'crs_transform': [10, 0, 499980, 0, -10, 3100020]}, {'id': 'WVP', 'data_type': {'type': 'PixelType', 'precision': 'int', 'min': 0, 'max': 4294967295}, 'dimensions': [10980, 10980], 'crs': 'EPSG:32635', 'crs_transform': [10, 0, 499980, 0, -10, 3100020]}, {'id': 'SCL', 'data_type': {'type': 'PixelType', 'precision': 'int', 'min': 0, 'max': 255}, 'dimensions': [5490, 5490], 'crs': 'EPSG:32635', 'crs_transform': [20, 0, 499980, 0, -20, 3100020]}, {'id': 'TCI_R', 'data_type': {'type': 'PixelType', 'precision': 'int', 'min': 0, 'max': 255}, 'dimensions': [10980, 10980], 'crs': 'EPSG:32635', 'crs_transform': [10, 0, 499980, 0, -10, 3100020]}, {'id': 'TCI_G', 'data_type': {'type': 'PixelType', 'precision': 'int', 'min': 0, 'max': 255}, 'dimensions': [10980, 10980], 'crs': 'EPSG:32635', 'crs_transform': [10, 0, 499980, 0, -10, 3100020]}, {'id': 'TCI_B', 'data_type': {'type': 'PixelType', 'precision': 'int', 'min': 0, 'max': 255}, 'dimensions': [10980, 10980], 'crs': 'EPSG:32635', 'crs_transform': [10, 0, 499980, 0, -10, 3100020]}, {'id': 'MSK_CLDPRB', 'data_type': {'type': 'PixelType', 'precision': 'int', 'min': 0, 'max': 255}, 'dimensions': [1, 1], 'crs': 'EPSG:32635', 'crs_transform': [1, 0, 499980, 0, 1, 3100020]}, {'id': 'MSK_SNWPRB', 'data_type': {'type': 'PixelType', 'precision': 'int', 'min': 0, 'max': 255}, 'dimensions': [1, 1], 'crs': 'EPSG:32635', 'crs_transform': [1, 0, 499980, 0, 1, 3100020]}, {'id': 'QA10', 'data_type': {'type': 'PixelType', 'precision': 'int', 'min': 0, 'max': 65535}, 'dimensions': [10980, 10980], 'crs': 'EPSG:32635', 'crs_transform': [10, 0, 499980, 0, -10, 3100020]}, {'id': 'QA20', 'data_type': {'type': 'PixelType', 'precision': 'int', 'min': 0, 'max': 4294967295}, 'dimensions': [5490, 5490], 'crs': 'EPSG:32635', 'crs_transform': [20, 0, 499980, 0, -20, 3100020]}, {'id': 'QA60', 'data_type': {'type': 'PixelType', 'precision': 'int', 'min': 0, 'max': 65535}, 'dimensions': [1830, 1830], 'crs': 'EPSG:32635', 'crs_transform': [60, 0, 499980, 0, -60, 3100020]}, {'id': 'MSK_CLASSI_OPAQUE', 'data_type': {'type': 'PixelType', 'precision': 'int', 'min': 0, 'max': 255}, 'crs': 'EPSG:4326', 'crs_transform': [1, 0, 0, 0, 1, 0]}, {'id': 'MSK_CLASSI_CIRRUS', 'data_type': {'type': 'PixelType', 'precision': 'int', 'min': 0, 'max': 255}, 'crs': 'EPSG:4326', 'crs_transform': [1, 0, 0, 0, 1, 0]}, {'id': 'MSK_CLASSI_SNOW_ICE', 'data_type': {'type': 'PixelType', 'precision': 'int', 'min': 0, 'max': 255}, 'crs': 'EPSG:4326', 'crs_transform': [1, 0, 0, 0, 1, 0]}], 'version': 1728224726998337, 'id': 'COPERNICUS/S2_SR_HARMONIZED/20170328T083601_20170328T084228_T35RNL', 'properties': {'DATATAKE_IDENTIFIER': 'GS2A_20170328T083601_009213_N02.04', 'AOT_RETRIEVAL_ACCURACY': 0, 'CLOUD_COVERAGE_PERCENTAGE': 0.224897, 'SPACECRAFT_NAME': 'Sentinel-2A', 'FORMAT_CORRECTNESS_FLAG': 'PASSED', 'SATURATED_DEFECTIVE_PIXEL_PERCENTAGE': 0, 'MEAN_INCIDENCE_AZIMUTH_ANGLE_B8A': 104.310902315755, 'CLOUD_SHADOW_PERCENTAGE': 0.00428, 'MEAN_SOLAR_AZIMUTH_ANGLE': 137.619664879748, 'system:footprint': {'type': 'LinearRing', 'coordinates': [[27.190682408582873, 27.034158897336546], [27.19073445483362, 27.034132335517047], [28.106534523179548, 27.029912420691925], [28.106636235177547, 27.029981184406896], [28.111556382016165, 27.525468373085424], [28.116603813411917, 28.020898981476286], [28.11652585949817, 28.020989543017414], [27.434992680075922, 28.024837067155904], [27.434899111573532, 28.02478888439672], [27.434274065656627, 28.02260321041018], [27.425592675412876, 27.987964799783466], [27.38783188823215, 27.83641785076414], [27.37115234984851, 27.769299525576862], [27.237849414188453, 27.22954375117679], [27.231738000313083, 27.204635961266323], [27.190251411274478, 27.03513543849035], [27.190250424188196, 27.034546999952813], [27.190682408582873, 27.034158897336546]]}, 'VEGETATION_PERCENTAGE': 0.413109, 'SOLAR_IRRADIANCE_B12': 85.25, 'SOLAR_IRRADIANCE_B10': 367.15, 'SOLAR_IRRADIANCE_B11': 245.59, 'GENERATION_TIME': 1490845271000, 'SOLAR_IRRADIANCE_B8A': 955.19, 'SENSOR_QUALITY_FLAG': 'PASSED', 'CLOUD_COVERAGE_ASSESSMENT': 1.4639, 'THIN_CIRRUS_PERCENTAGE': 0, 'system:time_end': 1490690548704, 'WATER_VAPOUR_RETRIEVAL_ACCURACY': 0, 'system:time_start': 1490690548704, 'DATASTRIP_ID': 'S2A_USER_MSI_L2A_DS_MPS__20170328T123128_S20170328T084228_N02.04', 'PROCESSING_BASELINE': '02.04', 'SENSING_ORBIT_NUMBER': 64, 'GEOMETRIC_QUALITY_FLAG': 'PASSED', 'NODATA_PIXEL_PERCENTAGE': 28.142375, 'SENSING_ORBIT_DIRECTION': 'DESCENDING', 'GRANULE_ID': 'L2A_T35RNL_A009213_20170328T084228', 'LOW_PROBA_CLOUDS_PERCENTAGE': 4.163379, 'REFLECTANCE_CONVERSION_CORRECTION': 1.00613186852888, 'MEDIUM_PROBA_CLOUDS_PERCENTAGE': 0.201293, 'MEAN_INCIDENCE_AZIMUTH_ANGLE_B8': 103.090969679931, 'DATATAKE_TYPE': 'INS-NOBS', 'MEAN_INCIDENCE_AZIMUTH_ANGLE_B9': 104.739293125948, 'MEAN_INCIDENCE_AZIMUTH_ANGLE_B6': 103.96451343688, 'MEAN_INCIDENCE_AZIMUTH_ANGLE_B7': 104.1436317374, 'RADIOMETRIC_QUALITY_FLAG': 'PASSED', 'MEAN_INCIDENCE_AZIMUTH_ANGLE_B4': 103.609273219246, 'MEAN_INCIDENCE_ZENITH_ANGLE_B1': 8.81858851727027, 'MEAN_INCIDENCE_AZIMUTH_ANGLE_B5': 103.794543873275, 'MEAN_INCIDENCE_AZIMUTH_ANGLE_B2': 102.921134879922, 'MEAN_INCIDENCE_AZIMUTH_ANGLE_B3': 103.271249840646, 'MEAN_INCIDENCE_ZENITH_ANGLE_B5': 8.71515053173898, 'MEAN_INCIDENCE_AZIMUTH_ANGLE_B1': 104.567115178866, 'MEAN_INCIDENCE_ZENITH_ANGLE_B4': 8.6957486028144, 'RADIATIVE_TRANSFER_ACCURAY': 0, 'MEAN_INCIDENCE_ZENITH_ANGLE_B3': 8.67223171051305, 'MEAN_INCIDENCE_ZENITH_ANGLE_B2': 8.64634171324533, 'MEAN_INCIDENCE_ZENITH_ANGLE_B9': 8.85022609569992, 'MEAN_INCIDENCE_ZENITH_ANGLE_B8': 8.65963151760375, 'MEAN_INCIDENCE_ZENITH_ANGLE_B7': 8.76095504402237, 'DARK_FEATURES_PERCENTAGE': 0.015394, 'HIGH_PROBA_CLOUDS_PERCENTAGE': 0.023603, 'MEAN_INCIDENCE_ZENITH_ANGLE_B6': 8.73686759238397, 'MEAN_SOLAR_ZENITH_ANGLE': 31.3115801677624, 'MEAN_INCIDENCE_ZENITH_ANGLE_B8A': 8.78726632686348, 'MGRS_TILE': '35RNL', 'CLOUDY_PIXEL_PERCENTAGE': 1.4639, 'GENERAL_QUALITY_FLAG': 'PASSED', 'PRODUCT_ID': 'S2A_MSIL2A_20170328T083601_N0204_R064_T35RNL_20170328T084228', 'MEAN_INCIDENCE_ZENITH_ANGLE_B10': 8.67435939192528, 'SOLAR_IRRADIANCE_B9': 813.04, 'SNOW_ICE_PERCENTAGE': 0, 'DEGRADED_MSI_DATA_PERCENTAGE': 0, 'MEAN_INCIDENCE_ZENITH_ANGLE_B11': 8.72342663472199, 'MEAN_INCIDENCE_ZENITH_ANGLE_B12': 8.78689327580851, 'SOLAR_IRRADIANCE_B6': 1288.32, 'MEAN_INCIDENCE_AZIMUTH_ANGLE_B10': 103.623644544347, 'SOLAR_IRRADIANCE_B5': 1425.56, 'MEAN_INCIDENCE_AZIMUTH_ANGLE_B11': 104.025182064291, 'SOLAR_IRRADIANCE_B8': 1036.39, 'MEAN_INCIDENCE_AZIMUTH_ANGLE_B12': 104.417025490871, 'SOLAR_IRRADIANCE_B7': 1163.19, 'SOLAR_IRRADIANCE_B2': 1941.63, 'SOLAR_IRRADIANCE_B1': 1913.57, 'SOLAR_IRRADIANCE_B4': 1512.79, 'SOLAR_IRRADIANCE_B3': 1822.61, 'BARE_SOILS_PERCENTAGE': 95.071429, 'system:asset_size': 1080391315, 'WATER_PERCENTAGE': 0.107508, 'system:index': '20170328T083601_20170328T084228_T35RNL'}}, {'type': 'Image', 'bands': [{'id': 'B1', 'data_type': {'type': 'PixelType', 'precision': 'int', 'min': 0, 'max': 65535}, 'dimensions': [1830, 1830], 'crs': 'EPSG:32635', 'crs_transform': [60, 0, 499980, 0, -60, 3200040]}, {'id': 'B2', 'data_type': {'type': 'PixelType', 'precision': 'int', 'min': 0, 'max': 65535}, 'dimensions': [10980, 10980], 'crs': 'EPSG:32635', 'crs_transform': [10, 0, 499980, 0, -10, 3200040]}, {'id': 'B3', 'data_type': {'type': 'PixelType', 'precision': 'int', 'min': 0, 'max': 65535}, 'dimensions': [10980, 10980], 'crs': 'EPSG:32635', 'crs_transform': [10, 0, 499980, 0, -10, 3200040]}, {'id': 'B4', 'data_type': {'type': 'PixelType', 'precision': 'int', 'min': 0, 'max': 65535}, 'dimensions': [10980, 10980], 'crs': 'EPSG:32635', 'crs_transform': [10, 0, 499980, 0, -10, 3200040]}, {'id': 'B5', 'data_type': {'type': 'PixelType', 'precision': 'int', 'min': 0, 'max': 65535}, 'dimensions': [5490, 5490], 'crs': 'EPSG:32635', 'crs_transform': [20, 0, 499980, 0, -20, 3200040]}, {'id': 'B6', 'data_type': {'type': 'PixelType', 'precision': 'int', 'min': 0, 'max': 65535}, 'dimensions': [5490, 5490], 'crs': 'EPSG:32635', 'crs_transform': [20, 0, 499980, 0, -20, 3200040]}, {'id': 'B7', 'data_type': {'type': 'PixelType', 'precision': 'int', 'min': 0, 'max': 65535}, 'dimensions': [5490, 5490], 'crs': 'EPSG:32635', 'crs_transform': [20, 0, 499980, 0, -20, 3200040]}, {'id': 'B8', 'data_type': {'type': 'PixelType', 'precision': 'int', 'min': 0, 'max': 65535}, 'dimensions': [10980, 10980], 'crs': 'EPSG:32635', 'crs_transform': [10, 0, 499980, 0, -10, 3200040]}, {'id': 'B8A', 'data_type': {'type': 'PixelType', 'precision': 'int', 'min': 0, 'max': 65535}, 'dimensions': [5490, 5490], 'crs': 'EPSG:32635', 'crs_transform': [20, 0, 499980, 0, -20, 3200040]}, {'id': 'B9', 'data_type': {'type': 'PixelType', 'precision': 'int', 'min': 0, 'max': 65535}, 'dimensions': [1830, 1830], 'crs': 'EPSG:32635', 'crs_transform': [60, 0, 499980, 0, -60, 3200040]}, {'id': 'B11', 'data_type': {'type': 'PixelType', 'precision': 'int', 'min': 0, 'max': 65535}, 'dimensions': [5490, 5490], 'crs': 'EPSG:32635', 'crs_transform': [20, 0, 499980, 0, -20, 3200040]}, {'id': 'B12', 'data_type': {'type': 'PixelType', 'precision': 'int', 'min': 0, 'max': 65535}, 'dimensions': [5490, 5490], 'crs': 'EPSG:32635', 'crs_transform': [20, 0, 499980, 0, -20, 3200040]}, {'id': 'AOT', 'data_type': {'type': 'PixelType', 'precision': 'int', 'min': 0, 'max': 65535}, 'dimensions': [10980, 10980], 'crs': 'EPSG:32635', 'crs_transform': [10, 0, 499980, 0, -10, 3200040]}, {'id': 'WVP', 'data_type': {'type': 'PixelType', 'precision': 'int', 'min': 0, 'max': 4294967295}, 'dimensions': [10980, 10980], 'crs': 'EPSG:32635', 'crs_transform': [10, 0, 499980, 0, -10, 3200040]}, {'id': 'SCL', 'data_type': {'type': 'PixelType', 'precision': 'int', 'min': 0, 'max': 255}, 'dimensions': [5490, 5490], 'crs': 'EPSG:32635', 'crs_transform': [20, 0, 499980, 0, -20, 3200040]}, {'id': 'TCI_R', 'data_type': {'type': 'PixelType', 'precision': 'int', 'min': 0, 'max': 255}, 'dimensions': [10980, 10980], 'crs': 'EPSG:32635', 'crs_transform': [10, 0, 499980, 0, -10, 3200040]}, {'id': 'TCI_G', 'data_type': {'type': 'PixelType', 'precision': 'int', 'min': 0, 'max': 255}, 'dimensions': [10980, 10980], 'crs': 'EPSG:32635', 'crs_transform': [10, 0, 499980, 0, -10, 3200040]}, {'id': 'TCI_B', 'data_type': {'type': 'PixelType', 'precision': 'int', 'min': 0, 'max': 255}, 'dimensions': [10980, 10980], 'crs': 'EPSG:32635', 'crs_transform': [10, 0, 499980, 0, -10, 3200040]}, {'id': 'MSK_CLDPRB', 'data_type': {'type': 'PixelType', 'precision': 'int', 'min': 0, 'max': 255}, 'dimensions': [1, 1], 'crs': 'EPSG:32635', 'crs_transform': [1, 0, 499980, 0, 1, 3200040]}, {'id': 'MSK_SNWPRB', 'data_type': {'type': 'PixelType', 'precision': 'int', 'min': 0, 'max': 255}, 'dimensions': [1, 1], 'crs': 'EPSG:32635', 'crs_transform': [1, 0, 499980, 0, 1, 3200040]}, {'id': 'QA10', 'data_type': {'type': 'PixelType', 'precision': 'int', 'min': 0, 'max': 65535}, 'dimensions': [10980, 10980], 'crs': 'EPSG:32635', 'crs_transform': [10, 0, 499980, 0, -10, 3200040]}, {'id': 'QA20', 'data_type': {'type': 'PixelType', 'precision': 'int', 'min': 0, 'max': 4294967295}, 'dimensions': [5490, 5490], 'crs': 'EPSG:32635', 'crs_transform': [20, 0, 499980, 0, -20, 3200040]}, {'id': 'QA60', 'data_type': {'type': 'PixelType', 'precision': 'int', 'min': 0, 'max': 65535}, 'dimensions': [1830, 1830], 'crs': 'EPSG:32635', 'crs_transform': [60, 0, 499980, 0, -60, 3200040]}, {'id': 'MSK_CLASSI_OPAQUE', 'data_type': {'type': 'PixelType', 'precision': 'int', 'min': 0, 'max': 255}, 'crs': 'EPSG:4326', 'crs_transform': [1, 0, 0, 0, 1, 0]}, {'id': 'MSK_CLASSI_CIRRUS', 'data_type': {'type': 'PixelType', 'precision': 'int', 'min': 0, 'max': 255}, 'crs': 'EPSG:4326', 'crs_transform': [1, 0, 0, 0, 1, 0]}, {'id': 'MSK_CLASSI_SNOW_ICE', 'data_type': {'type': 'PixelType', 'precision': 'int', 'min': 0, 'max': 255}, 'crs': 'EPSG:4326', 'crs_transform': [1, 0, 0, 0, 1, 0]}], 'version': 1728224726998337, 'id': 'COPERNICUS/S2_SR_HARMONIZED/20170328T083601_20170328T084228_T35RNM', 'properties': {'DATATAKE_IDENTIFIER': 'GS2A_20170328T083601_009213_N02.04', 'AOT_RETRIEVAL_ACCURACY': 0, 'CLOUD_COVERAGE_PERCENTAGE': 0.082801, 'SPACECRAFT_NAME': 'Sentinel-2A', 'FORMAT_CORRECTNESS_FLAG': 'PASSED', 'SATURATED_DEFECTIVE_PIXEL_PERCENTAGE': 0, 'MEAN_INCIDENCE_AZIMUTH_ANGLE_B8A': 103.128545006266, 'CLOUD_SHADOW_PERCENTAGE': 7e-05, 'MEAN_SOLAR_AZIMUTH_ANGLE': 138.511244551408, 'system:footprint': {'type': 'LinearRing', 'coordinates': [[27.66052009585949, 28.925893960712962], [27.66051006968037, 28.925870988810416], [27.658935147242243, 28.920191917766438], [27.618001343780538, 28.763876037279886], [27.6073057101878, 28.721140636546863], [27.413197447384718, 27.938162777437288], [27.41319323454089, 27.93707003643139], [27.413208831026086, 27.937018830431906], [27.413627874057127, 27.936644198509974], [27.413680220759932, 27.93661747537432], [28.11559407090724, 27.93271982816523], [28.11569667058435, 27.932788585528527], [28.120850865084368, 28.428209525551274], [28.126136787961382, 28.92357320972733], [28.126058302566324, 28.923663812402424], [27.66123123705587, 28.92674901305575], [27.661201606226435, 28.926726383177797], [27.66115827896289, 28.926726180541355], [27.66052009585949, 28.925893960712962]]}, 'VEGETATION_PERCENTAGE': 0, 'SOLAR_IRRADIANCE_B12': 85.25, 'SOLAR_IRRADIANCE_B10': 367.15, 'SOLAR_IRRADIANCE_B11': 245.59, 'GENERATION_TIME': 1490866099000, 'SOLAR_IRRADIANCE_B8A': 955.19, 'SENSOR_QUALITY_FLAG': 'PASSED', 'CLOUD_COVERAGE_ASSESSMENT': 3.8607, 'THIN_CIRRUS_PERCENTAGE': 0, 'system:time_end': 1490690548704, 'WATER_VAPOUR_RETRIEVAL_ACCURACY': 0, 'system:time_start': 1490690548704, 'DATASTRIP_ID': 'S2A_USER_MSI_L2A_DS_MPS__20170328T123128_S20170328T084228_N02.04', 'PROCESSING_BASELINE': '02.04', 'SENSING_ORBIT_NUMBER': 64, 'GEOMETRIC_QUALITY_FLAG': 'PASSED', 'NODATA_PIXEL_PERCENTAGE': 47.944936, 'SENSING_ORBIT_DIRECTION': 'DESCENDING', 'GRANULE_ID': 'L2A_T35RNM_A009213_20170328T084228', 'LOW_PROBA_CLOUDS_PERCENTAGE': 11.397176, 'REFLECTANCE_CONVERSION_CORRECTION': 1.00613186852888, 'MEDIUM_PROBA_CLOUDS_PERCENTAGE': 0.082801, 'MEAN_INCIDENCE_AZIMUTH_ANGLE_B8': 102.538940034604, 'DATATAKE_TYPE': 'INS-NOBS', 'MEAN_INCIDENCE_AZIMUTH_ANGLE_B9': 103.340899108775, 'MEAN_INCIDENCE_AZIMUTH_ANGLE_B6': 102.982526756786, 'MEAN_INCIDENCE_AZIMUTH_ANGLE_B7': 103.079551794189, 'RADIOMETRIC_QUALITY_FLAG': 'PASSED', 'MEAN_INCIDENCE_AZIMUTH_ANGLE_B4': 102.793110821053, 'MEAN_INCIDENCE_ZENITH_ANGLE_B1': 9.63754277402365, 'MEAN_INCIDENCE_AZIMUTH_ANGLE_B5': 102.894301373981, 'MEAN_INCIDENCE_AZIMUTH_ANGLE_B2': 102.443838894217, 'MEAN_INCIDENCE_AZIMUTH_ANGLE_B3': 102.63940089151, 'MEAN_INCIDENCE_ZENITH_ANGLE_B5': 9.54626398712918, 'MEAN_INCIDENCE_AZIMUTH_ANGLE_B1': 103.256227555342, 'MEAN_INCIDENCE_ZENITH_ANGLE_B4': 9.5291313886193, 'RADIATIVE_TRANSFER_ACCURAY': 0, 'MEAN_INCIDENCE_ZENITH_ANGLE_B3': 9.5017982741057, 'MEAN_INCIDENCE_ZENITH_ANGLE_B2': 9.48998355181051, 'MEAN_INCIDENCE_ZENITH_ANGLE_B9': 9.66574207167135, 'MEAN_INCIDENCE_ZENITH_ANGLE_B8': 9.49071700003941, 'MEAN_INCIDENCE_ZENITH_ANGLE_B7': 9.58684691925802, 'DARK_FEATURES_PERCENTAGE': 0, 'HIGH_PROBA_CLOUDS_PERCENTAGE': 0, 'MEAN_INCIDENCE_ZENITH_ANGLE_B6': 9.56549477430116, 'MEAN_SOLAR_ZENITH_ANGLE': 32.0167450476774, 'MEAN_INCIDENCE_ZENITH_ANGLE_B8A': 9.61166218408591, 'MGRS_TILE': '35RNM', 'CLOUDY_PIXEL_PERCENTAGE': 3.8607, 'GENERAL_QUALITY_FLAG': 'PASSED', 'PRODUCT_ID': 'S2A_MSIL2A_20170328T083601_N0204_R064_T35RNM_20170328T084228', 'MEAN_INCIDENCE_ZENITH_ANGLE_B10': 9.51040407743285, 'SOLAR_IRRADIANCE_B9': 813.04, 'SNOW_ICE_PERCENTAGE': 0, 'DEGRADED_MSI_DATA_PERCENTAGE': 0, 'MEAN_INCIDENCE_ZENITH_ANGLE_B11': 9.55344083898503, 'MEAN_INCIDENCE_ZENITH_ANGLE_B12': 9.61278549548682, 'SOLAR_IRRADIANCE_B6': 1288.32, 'MEAN_INCIDENCE_AZIMUTH_ANGLE_B10': 102.790759225307, 'SOLAR_IRRADIANCE_B5': 1425.56, 'MEAN_INCIDENCE_AZIMUTH_ANGLE_B11': 102.969596507555, 'SOLAR_IRRADIANCE_B8': 1036.39, 'MEAN_INCIDENCE_AZIMUTH_ANGLE_B12': 103.224163432254, 'SOLAR_IRRADIANCE_B7': 1163.19, 'SOLAR_IRRADIANCE_B2': 1941.63, 'SOLAR_IRRADIANCE_B1': 1913.57, 'SOLAR_IRRADIANCE_B4': 1512.79, 'SOLAR_IRRADIANCE_B3': 1822.61, 'BARE_SOILS_PERCENTAGE': 88.374627, 'system:asset_size': 761153923, 'WATER_PERCENTAGE': 0.145327, 'system:index': '20170328T083601_20170328T084228_T35RNM'}}]}\n",
      "Image collection from a single image: {'type': 'ImageCollection', 'bands': [], 'features': [{'type': 'Image', 'bands': [{'id': 'B1', 'data_type': {'type': 'PixelType', 'precision': 'int', 'min': 0, 'max': 65535}, 'dimensions': [1830, 1830], 'crs': 'EPSG:32635', 'crs_transform': [60, 0, 499980, 0, -60, 3000000]}, {'id': 'B2', 'data_type': {'type': 'PixelType', 'precision': 'int', 'min': 0, 'max': 65535}, 'dimensions': [10980, 10980], 'crs': 'EPSG:32635', 'crs_transform': [10, 0, 499980, 0, -10, 3000000]}, {'id': 'B3', 'data_type': {'type': 'PixelType', 'precision': 'int', 'min': 0, 'max': 65535}, 'dimensions': [10980, 10980], 'crs': 'EPSG:32635', 'crs_transform': [10, 0, 499980, 0, -10, 3000000]}, {'id': 'B4', 'data_type': {'type': 'PixelType', 'precision': 'int', 'min': 0, 'max': 65535}, 'dimensions': [10980, 10980], 'crs': 'EPSG:32635', 'crs_transform': [10, 0, 499980, 0, -10, 3000000]}, {'id': 'B5', 'data_type': {'type': 'PixelType', 'precision': 'int', 'min': 0, 'max': 65535}, 'dimensions': [5490, 5490], 'crs': 'EPSG:32635', 'crs_transform': [20, 0, 499980, 0, -20, 3000000]}, {'id': 'B6', 'data_type': {'type': 'PixelType', 'precision': 'int', 'min': 0, 'max': 65535}, 'dimensions': [5490, 5490], 'crs': 'EPSG:32635', 'crs_transform': [20, 0, 499980, 0, -20, 3000000]}, {'id': 'B7', 'data_type': {'type': 'PixelType', 'precision': 'int', 'min': 0, 'max': 65535}, 'dimensions': [5490, 5490], 'crs': 'EPSG:32635', 'crs_transform': [20, 0, 499980, 0, -20, 3000000]}, {'id': 'B8', 'data_type': {'type': 'PixelType', 'precision': 'int', 'min': 0, 'max': 65535}, 'dimensions': [10980, 10980], 'crs': 'EPSG:32635', 'crs_transform': [10, 0, 499980, 0, -10, 3000000]}, {'id': 'B8A', 'data_type': {'type': 'PixelType', 'precision': 'int', 'min': 0, 'max': 65535}, 'dimensions': [5490, 5490], 'crs': 'EPSG:32635', 'crs_transform': [20, 0, 499980, 0, -20, 3000000]}, {'id': 'B9', 'data_type': {'type': 'PixelType', 'precision': 'int', 'min': 0, 'max': 65535}, 'dimensions': [1830, 1830], 'crs': 'EPSG:32635', 'crs_transform': [60, 0, 499980, 0, -60, 3000000]}, {'id': 'B11', 'data_type': {'type': 'PixelType', 'precision': 'int', 'min': 0, 'max': 65535}, 'dimensions': [5490, 5490], 'crs': 'EPSG:32635', 'crs_transform': [20, 0, 499980, 0, -20, 3000000]}, {'id': 'B12', 'data_type': {'type': 'PixelType', 'precision': 'int', 'min': 0, 'max': 65535}, 'dimensions': [5490, 5490], 'crs': 'EPSG:32635', 'crs_transform': [20, 0, 499980, 0, -20, 3000000]}, {'id': 'AOT', 'data_type': {'type': 'PixelType', 'precision': 'int', 'min': 0, 'max': 65535}, 'dimensions': [10980, 10980], 'crs': 'EPSG:32635', 'crs_transform': [10, 0, 499980, 0, -10, 3000000]}, {'id': 'WVP', 'data_type': {'type': 'PixelType', 'precision': 'int', 'min': 0, 'max': 4294967295}, 'dimensions': [10980, 10980], 'crs': 'EPSG:32635', 'crs_transform': [10, 0, 499980, 0, -10, 3000000]}, {'id': 'SCL', 'data_type': {'type': 'PixelType', 'precision': 'int', 'min': 0, 'max': 255}, 'dimensions': [5490, 5490], 'crs': 'EPSG:32635', 'crs_transform': [20, 0, 499980, 0, -20, 3000000]}, {'id': 'TCI_R', 'data_type': {'type': 'PixelType', 'precision': 'int', 'min': 0, 'max': 255}, 'dimensions': [10980, 10980], 'crs': 'EPSG:32635', 'crs_transform': [10, 0, 499980, 0, -10, 3000000]}, {'id': 'TCI_G', 'data_type': {'type': 'PixelType', 'precision': 'int', 'min': 0, 'max': 255}, 'dimensions': [10980, 10980], 'crs': 'EPSG:32635', 'crs_transform': [10, 0, 499980, 0, -10, 3000000]}, {'id': 'TCI_B', 'data_type': {'type': 'PixelType', 'precision': 'int', 'min': 0, 'max': 255}, 'dimensions': [10980, 10980], 'crs': 'EPSG:32635', 'crs_transform': [10, 0, 499980, 0, -10, 3000000]}, {'id': 'MSK_CLDPRB', 'data_type': {'type': 'PixelType', 'precision': 'int', 'min': 0, 'max': 255}, 'dimensions': [1, 1], 'crs': 'EPSG:32635', 'crs_transform': [1, 0, 499980, 0, 1, 3000000]}, {'id': 'MSK_SNWPRB', 'data_type': {'type': 'PixelType', 'precision': 'int', 'min': 0, 'max': 255}, 'dimensions': [1, 1], 'crs': 'EPSG:32635', 'crs_transform': [1, 0, 499980, 0, 1, 3000000]}, {'id': 'QA10', 'data_type': {'type': 'PixelType', 'precision': 'int', 'min': 0, 'max': 65535}, 'dimensions': [10980, 10980], 'crs': 'EPSG:32635', 'crs_transform': [10, 0, 499980, 0, -10, 3000000]}, {'id': 'QA20', 'data_type': {'type': 'PixelType', 'precision': 'int', 'min': 0, 'max': 4294967295}, 'dimensions': [5490, 5490], 'crs': 'EPSG:32635', 'crs_transform': [20, 0, 499980, 0, -20, 3000000]}, {'id': 'QA60', 'data_type': {'type': 'PixelType', 'precision': 'int', 'min': 0, 'max': 65535}, 'dimensions': [1830, 1830], 'crs': 'EPSG:32635', 'crs_transform': [60, 0, 499980, 0, -60, 3000000]}, {'id': 'MSK_CLASSI_OPAQUE', 'data_type': {'type': 'PixelType', 'precision': 'int', 'min': 0, 'max': 255}, 'crs': 'EPSG:4326', 'crs_transform': [1, 0, 0, 0, 1, 0]}, {'id': 'MSK_CLASSI_CIRRUS', 'data_type': {'type': 'PixelType', 'precision': 'int', 'min': 0, 'max': 255}, 'crs': 'EPSG:4326', 'crs_transform': [1, 0, 0, 0, 1, 0]}, {'id': 'MSK_CLASSI_SNOW_ICE', 'data_type': {'type': 'PixelType', 'precision': 'int', 'min': 0, 'max': 255}, 'crs': 'EPSG:4326', 'crs_transform': [1, 0, 0, 0, 1, 0]}], 'version': 1728224726998337, 'id': 'COPERNICUS/S2_SR_HARMONIZED/20170328T083601_20170328T084228_T35RNK', 'properties': {'DATATAKE_IDENTIFIER': 'GS2A_20170328T083601_009213_N02.04', 'AOT_RETRIEVAL_ACCURACY': 0, 'CLOUD_COVERAGE_PERCENTAGE': 0.125049, 'SPACECRAFT_NAME': 'Sentinel-2A', 'FORMAT_CORRECTNESS_FLAG': 'PASSED', 'SATURATED_DEFECTIVE_PIXEL_PERCENTAGE': 0, 'MEAN_INCIDENCE_AZIMUTH_ANGLE_B8A': 102.298310347845, 'CLOUD_SHADOW_PERCENTAGE': 0.002297, 'MEAN_SOLAR_AZIMUTH_ANGLE': 136.683697922854, 'system:footprint': {'type': 'LinearRing', 'coordinates': [[28.107426889904886, 27.11819105630901], [28.10741028029859, 27.11819399702698], [27.21229436586105, 27.122399178330305], [27.21226134691695, 27.122373367738696], [27.21221774036841, 27.12236814423152], [27.21220374320269, 27.122349375161726], [27.211591366257103, 27.12125813636491], [27.210978897736958, 27.119081495023572], [27.204880401375053, 27.09471254136155], [27.026163360366766, 26.365682201299258], [27.00390815662182, 26.274125806825698], [26.999699341299365, 26.256779664191527], [26.99969970057016, 26.131258307936516], [26.99974038798357, 26.131216828148673], [26.99977721322956, 26.131168305082245], [28.097889859048905, 26.126986431099567], [28.097936386331536, 26.12702272123306], [28.097990772333393, 26.1270552865103], [28.102684961905215, 26.622607117747478], [28.107501990309334, 27.118103242418634], [28.10746135929785, 27.118145059123197], [28.107426889904886, 27.11819105630901]]}, 'VEGETATION_PERCENTAGE': 0.808226, 'SOLAR_IRRADIANCE_B12': 85.25, 'SOLAR_IRRADIANCE_B10': 367.15, 'SOLAR_IRRADIANCE_B11': 245.59, 'GENERATION_TIME': 1490833524000, 'SOLAR_IRRADIANCE_B8A': 955.19, 'SENSOR_QUALITY_FLAG': 'PASSED', 'CLOUD_COVERAGE_ASSESSMENT': 0.9371, 'THIN_CIRRUS_PERCENTAGE': 0, 'system:time_end': 1490690548704, 'WATER_VAPOUR_RETRIEVAL_ACCURACY': 0, 'system:time_start': 1490690548704, 'DATASTRIP_ID': 'S2A_USER_MSI_L2A_DS_MPS__20170328T123128_S20170328T084228_N02.04', 'PROCESSING_BASELINE': '02.04', 'SENSING_ORBIT_NUMBER': 64, 'GEOMETRIC_QUALITY_FLAG': 'PASSED', 'NODATA_PIXEL_PERCENTAGE': 8.42899, 'SENSING_ORBIT_DIRECTION': 'DESCENDING', 'GRANULE_ID': 'L2A_T35RNK_A009213_20170328T084228', 'LOW_PROBA_CLOUDS_PERCENTAGE': 3.266497, 'REFLECTANCE_CONVERSION_CORRECTION': 1.00613186852888, 'MEDIUM_PROBA_CLOUDS_PERCENTAGE': 0.115654, 'MEAN_INCIDENCE_AZIMUTH_ANGLE_B8': 102.383153807081, 'DATATAKE_TYPE': 'INS-NOBS', 'MEAN_INCIDENCE_AZIMUTH_ANGLE_B9': 102.255545015823, 'MEAN_INCIDENCE_AZIMUTH_ANGLE_B6': 102.352232896132, 'MEAN_INCIDENCE_AZIMUTH_ANGLE_B7': 102.318357793202, 'RADIOMETRIC_QUALITY_FLAG': 'PASSED', 'MEAN_INCIDENCE_AZIMUTH_ANGLE_B4': 102.356370499476, 'MEAN_INCIDENCE_ZENITH_ANGLE_B1': 7.97937567487903, 'MEAN_INCIDENCE_AZIMUTH_ANGLE_B5': 102.352643621664, 'MEAN_INCIDENCE_AZIMUTH_ANGLE_B2': 102.394454121819, 'MEAN_INCIDENCE_AZIMUTH_ANGLE_B3': 102.389237545572, 'MEAN_INCIDENCE_ZENITH_ANGLE_B5': 7.85692977605161, 'MEAN_INCIDENCE_AZIMUTH_ANGLE_B1': 102.278039620893, 'MEAN_INCIDENCE_ZENITH_ANGLE_B4': 7.8341910219081, 'RADIATIVE_TRANSFER_ACCURAY': 0, 'MEAN_INCIDENCE_ZENITH_ANGLE_B3': 7.80764616306986, 'MEAN_INCIDENCE_ZENITH_ANGLE_B2': 7.78469074687201, 'MEAN_INCIDENCE_ZENITH_ANGLE_B9': 8.01613094389656, 'MEAN_INCIDENCE_ZENITH_ANGLE_B8': 7.796699156862, 'MEAN_INCIDENCE_ZENITH_ANGLE_B7': 7.90695091136708, 'DARK_FEATURES_PERCENTAGE': 0.009656, 'HIGH_PROBA_CLOUDS_PERCENTAGE': 0.009395, 'MEAN_INCIDENCE_ZENITH_ANGLE_B6': 7.88239106253906, 'MEAN_SOLAR_ZENITH_ANGLE': 30.6150451978666, 'MEAN_INCIDENCE_ZENITH_ANGLE_B8A': 7.93770186590827, 'MGRS_TILE': '35RNK', 'CLOUDY_PIXEL_PERCENTAGE': 0.9371, 'GENERAL_QUALITY_FLAG': 'PASSED', 'PRODUCT_ID': 'S2A_MSIL2A_20170328T083601_N0204_R064_T35RNK_20170328T084228', 'MEAN_INCIDENCE_ZENITH_ANGLE_B10': 7.84510879619063, 'SOLAR_IRRADIANCE_B9': 813.04, 'SNOW_ICE_PERCENTAGE': 0, 'DEGRADED_MSI_DATA_PERCENTAGE': 0, 'MEAN_INCIDENCE_ZENITH_ANGLE_B11': 7.89216314554438, 'MEAN_INCIDENCE_ZENITH_ANGLE_B12': 7.96639694613242, 'SOLAR_IRRADIANCE_B6': 1288.32, 'MEAN_INCIDENCE_AZIMUTH_ANGLE_B10': 102.387203144909, 'SOLAR_IRRADIANCE_B5': 1425.56, 'MEAN_INCIDENCE_AZIMUTH_ANGLE_B11': 102.315681976464, 'SOLAR_IRRADIANCE_B8': 1036.39, 'MEAN_INCIDENCE_AZIMUTH_ANGLE_B12': 102.250289538229, 'SOLAR_IRRADIANCE_B7': 1163.19, 'SOLAR_IRRADIANCE_B2': 1941.63, 'SOLAR_IRRADIANCE_B1': 1913.57, 'SOLAR_IRRADIANCE_B4': 1512.79, 'SOLAR_IRRADIANCE_B3': 1822.61, 'BARE_SOILS_PERCENTAGE': 95.713365, 'system:asset_size': 1396774832, 'WATER_PERCENTAGE': 0.074907, 'system:index': '20170328T083601_20170328T084228_T35RNK'}}]}\n"
     ]
    }
   ],
   "source": [
    "print('Image collection from a string:',\n",
    "      ee.ImageCollection('COPERNICUS/S2_SR_HARMONIZED').limit(3).getInfo())\n",
    "\n",
    "img1 = ee.Image('COPERNICUS/S2_SR_HARMONIZED/20170328T083601_20170328T084228_T35RNK')\n",
    "img2 = ee.Image('COPERNICUS/S2_SR_HARMONIZED/20170328T083601_20170328T084228_T35RNL')\n",
    "img3 = ee.Image('COPERNICUS/S2_SR_HARMONIZED/20170328T083601_20170328T084228_T35RNM')\n",
    "print('Image collection from a list of images:',\n",
    "      ee.ImageCollection([img1, img2, img3]).getInfo())\n",
    "\n",
    "print('Image collection from a single image:',\n",
    "      ee.ImageCollection(img1).getInfo())"
   ]
  }
 ],
 "metadata": {
  "kernelspec": {
   "display_name": "LOD1",
   "language": "python",
   "name": "lod1"
  },
  "language_info": {
   "codemirror_mode": {
    "name": "ipython",
    "version": 3
   },
   "file_extension": ".py",
   "mimetype": "text/x-python",
   "name": "python",
   "nbconvert_exporter": "python",
   "pygments_lexer": "ipython3",
   "version": "3.8.19"
  }
 },
 "nbformat": 4,
 "nbformat_minor": 5
}
