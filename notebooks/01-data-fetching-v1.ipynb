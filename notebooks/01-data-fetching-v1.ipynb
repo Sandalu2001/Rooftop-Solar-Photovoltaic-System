{
 "cells": [
  {
   "cell_type": "code",
   "execution_count": 1,
   "id": "0e1b8006",
   "metadata": {},
   "outputs": [],
   "source": [
    "import ee"
   ]
  },
  {
   "cell_type": "code",
   "execution_count": 3,
   "id": "f17c1b5e-af65-4afa-b6d1-e24aec388560",
   "metadata": {},
   "outputs": [],
   "source": [
    "import geemap.core as geemap\n"
   ]
  },
  {
   "cell_type": "code",
   "execution_count": 5,
   "id": "2c42e85e",
   "metadata": {},
   "outputs": [
    {
     "data": {
      "text/html": [
       "\n",
       "            <style>\n",
       "                .geemap-dark {\n",
       "                    --jp-widgets-color: white;\n",
       "                    --jp-widgets-label-color: white;\n",
       "                    --jp-ui-font-color1: white;\n",
       "                    --jp-layout-color2: #454545;\n",
       "                    background-color: #383838;\n",
       "                }\n",
       "\n",
       "                .geemap-dark .jupyter-button {\n",
       "                    --jp-layout-color3: #383838;\n",
       "                }\n",
       "\n",
       "                .geemap-colab {\n",
       "                    background-color: var(--colab-primary-surface-color, white);\n",
       "                }\n",
       "\n",
       "                .geemap-colab .jupyter-button {\n",
       "                    --jp-layout-color3: var(--colab-primary-surface-color, white);\n",
       "                }\n",
       "            </style>\n",
       "            "
      ],
      "text/plain": [
       "<IPython.core.display.HTML object>"
      ]
     },
     "metadata": {},
     "output_type": "display_data"
    },
    {
     "data": {
      "text/plain": [
       "True"
      ]
     },
     "execution_count": 5,
     "metadata": {},
     "output_type": "execute_result"
    }
   ],
   "source": [
    "# Authenticate the Earth Engine API\n",
    "ee.Authenticate()"
   ]
  },
  {
   "cell_type": "code",
   "execution_count": 7,
   "id": "38b82b3e-dc38-4403-b1b7-82a8c1c4cc8d",
   "metadata": {},
   "outputs": [
    {
     "data": {
      "text/html": [
       "\n",
       "            <style>\n",
       "                .geemap-dark {\n",
       "                    --jp-widgets-color: white;\n",
       "                    --jp-widgets-label-color: white;\n",
       "                    --jp-ui-font-color1: white;\n",
       "                    --jp-layout-color2: #454545;\n",
       "                    background-color: #383838;\n",
       "                }\n",
       "\n",
       "                .geemap-dark .jupyter-button {\n",
       "                    --jp-layout-color3: #383838;\n",
       "                }\n",
       "\n",
       "                .geemap-colab {\n",
       "                    background-color: var(--colab-primary-surface-color, white);\n",
       "                }\n",
       "\n",
       "                .geemap-colab .jupyter-button {\n",
       "                    --jp-layout-color3: var(--colab-primary-surface-color, white);\n",
       "                }\n",
       "            </style>\n",
       "            "
      ],
      "text/plain": [
       "<IPython.core.display.HTML object>"
      ]
     },
     "metadata": {},
     "output_type": "display_data"
    }
   ],
   "source": [
    "# Initialize the Earth Engine API\n",
    "ee.Initialize(project='ee-sandalusankaja2001')"
   ]
  },
  {
   "cell_type": "code",
   "execution_count": 9,
   "id": "c6d26a48-54c4-4a93-95e5-bd59b9230c3e",
   "metadata": {},
   "outputs": [
    {
     "data": {
      "text/html": [
       "\n",
       "            <style>\n",
       "                .geemap-dark {\n",
       "                    --jp-widgets-color: white;\n",
       "                    --jp-widgets-label-color: white;\n",
       "                    --jp-ui-font-color1: white;\n",
       "                    --jp-layout-color2: #454545;\n",
       "                    background-color: #383838;\n",
       "                }\n",
       "\n",
       "                .geemap-dark .jupyter-button {\n",
       "                    --jp-layout-color3: #383838;\n",
       "                }\n",
       "\n",
       "                .geemap-colab {\n",
       "                    background-color: var(--colab-primary-surface-color, white);\n",
       "                }\n",
       "\n",
       "                .geemap-colab .jupyter-button {\n",
       "                    --jp-layout-color3: var(--colab-primary-surface-color, white);\n",
       "                }\n",
       "            </style>\n",
       "            "
      ],
      "text/plain": [
       "<IPython.core.display.HTML object>"
      ]
     },
     "metadata": {},
     "output_type": "display_data"
    },
    {
     "name": "stdout",
     "output_type": "stream",
     "text": [
      "Hello from the Earth Engine servers!\n"
     ]
    }
   ],
   "source": [
    "print(ee.String('Hello from the Earth Engine servers!').getInfo())"
   ]
  },
  {
   "cell_type": "code",
   "execution_count": 19,
   "id": "1ab47584-66ad-4b94-b621-6dab6d5703d5",
   "metadata": {},
   "outputs": [
    {
     "data": {
      "text/html": [
       "\n",
       "            <style>\n",
       "                .geemap-dark {\n",
       "                    --jp-widgets-color: white;\n",
       "                    --jp-widgets-label-color: white;\n",
       "                    --jp-ui-font-color1: white;\n",
       "                    --jp-layout-color2: #454545;\n",
       "                    background-color: #383838;\n",
       "                }\n",
       "\n",
       "                .geemap-dark .jupyter-button {\n",
       "                    --jp-layout-color3: #383838;\n",
       "                }\n",
       "\n",
       "                .geemap-colab {\n",
       "                    background-color: var(--colab-primary-surface-color, white);\n",
       "                }\n",
       "\n",
       "                .geemap-colab .jupyter-button {\n",
       "                    --jp-layout-color3: var(--colab-primary-surface-color, white);\n",
       "                }\n",
       "            </style>\n",
       "            "
      ],
      "text/plain": [
       "<IPython.core.display.HTML object>"
      ]
     },
     "metadata": {},
     "output_type": "display_data"
    }
   ],
   "source": [
    "# Define the area of interest (random urban area coordinates, e.g., New York City)\n",
    "aoi = ee.Geometry.Point([-74.006, 40.7128]).buffer(5000)  # 5km buffer around the point"
   ]
  },
  {
   "cell_type": "code",
   "execution_count": 21,
   "id": "8fb6e22a-4706-4af3-9d8f-cd6c7d4ef615",
   "metadata": {},
   "outputs": [
    {
     "data": {
      "text/html": [
       "\n",
       "            <style>\n",
       "                .geemap-dark {\n",
       "                    --jp-widgets-color: white;\n",
       "                    --jp-widgets-label-color: white;\n",
       "                    --jp-ui-font-color1: white;\n",
       "                    --jp-layout-color2: #454545;\n",
       "                    background-color: #383838;\n",
       "                }\n",
       "\n",
       "                .geemap-dark .jupyter-button {\n",
       "                    --jp-layout-color3: #383838;\n",
       "                }\n",
       "\n",
       "                .geemap-colab {\n",
       "                    background-color: var(--colab-primary-surface-color, white);\n",
       "                }\n",
       "\n",
       "                .geemap-colab .jupyter-button {\n",
       "                    --jp-layout-color3: var(--colab-primary-surface-color, white);\n",
       "                }\n",
       "            </style>\n",
       "            "
      ],
      "text/plain": [
       "<IPython.core.display.HTML object>"
      ]
     },
     "metadata": {},
     "output_type": "display_data"
    }
   ],
   "source": [
    "# Load Sentinel-2 Image Collection and filter by date and cloud cover\n",
    "sentinel2 = ee.ImageCollection('COPERNICUS/S2_SR_HARMONIZED') \\\n",
    "    .filterBounds(aoi) \\\n",
    "    .filterDate('2023-01-01', '2023-12-31') \\\n",
    "    .filter(ee.Filter.lt('CLOUDY_PIXEL_PERCENTAGE', 10))\n",
    "\n",
    "# Get a random image from the collection\n",
    "random_image = sentinel2.randomColumn().first()"
   ]
  },
  {
   "cell_type": "code",
   "execution_count": 23,
   "id": "d77e58ec-5122-455e-9c9e-959059df74db",
   "metadata": {},
   "outputs": [
    {
     "data": {
      "text/html": [
       "\n",
       "            <style>\n",
       "                .geemap-dark {\n",
       "                    --jp-widgets-color: white;\n",
       "                    --jp-widgets-label-color: white;\n",
       "                    --jp-ui-font-color1: white;\n",
       "                    --jp-layout-color2: #454545;\n",
       "                    background-color: #383838;\n",
       "                }\n",
       "\n",
       "                .geemap-dark .jupyter-button {\n",
       "                    --jp-layout-color3: #383838;\n",
       "                }\n",
       "\n",
       "                .geemap-colab {\n",
       "                    background-color: var(--colab-primary-surface-color, white);\n",
       "                }\n",
       "\n",
       "                .geemap-colab .jupyter-button {\n",
       "                    --jp-layout-color3: var(--colab-primary-surface-color, white);\n",
       "                }\n",
       "            </style>\n",
       "            "
      ],
      "text/plain": [
       "<IPython.core.display.HTML object>"
      ]
     },
     "metadata": {},
     "output_type": "display_data"
    }
   ],
   "source": [
    "# Create a map centered on the area of interest\n",
    "Map = geemap.Map(center=[40.7128, -74.006], zoom=12)\n"
   ]
  },
  {
   "cell_type": "code",
   "execution_count": 25,
   "id": "58bfbdfa-7b86-42be-8e84-7fb73ae6fb07",
   "metadata": {},
   "outputs": [
    {
     "data": {
      "text/html": [
       "\n",
       "            <style>\n",
       "                .geemap-dark {\n",
       "                    --jp-widgets-color: white;\n",
       "                    --jp-widgets-label-color: white;\n",
       "                    --jp-ui-font-color1: white;\n",
       "                    --jp-layout-color2: #454545;\n",
       "                    background-color: #383838;\n",
       "                }\n",
       "\n",
       "                .geemap-dark .jupyter-button {\n",
       "                    --jp-layout-color3: #383838;\n",
       "                }\n",
       "\n",
       "                .geemap-colab {\n",
       "                    background-color: var(--colab-primary-surface-color, white);\n",
       "                }\n",
       "\n",
       "                .geemap-colab .jupyter-button {\n",
       "                    --jp-layout-color3: var(--colab-primary-surface-color, white);\n",
       "                }\n",
       "            </style>\n",
       "            "
      ],
      "text/plain": [
       "<IPython.core.display.HTML object>"
      ]
     },
     "metadata": {},
     "output_type": "display_data"
    }
   ],
   "source": [
    "# Add Sentinel-2 image to the map\n",
    "vis_params = {\n",
    "    'min': 0,\n",
    "    'max': 3000,\n",
    "    'bands': ['B4', 'B3', 'B2']  # RGB bands\n",
    "}\n",
    "Map.addLayer(random_image, vis_params, 'Random Urban Area')\n"
   ]
  },
  {
   "cell_type": "code",
   "execution_count": 27,
   "id": "d227da83-d495-46c0-bfcd-e2f7ac9f8d18",
   "metadata": {},
   "outputs": [
    {
     "data": {
      "text/html": [
       "\n",
       "            <style>\n",
       "                .geemap-dark {\n",
       "                    --jp-widgets-color: white;\n",
       "                    --jp-widgets-label-color: white;\n",
       "                    --jp-ui-font-color1: white;\n",
       "                    --jp-layout-color2: #454545;\n",
       "                    background-color: #383838;\n",
       "                }\n",
       "\n",
       "                .geemap-dark .jupyter-button {\n",
       "                    --jp-layout-color3: #383838;\n",
       "                }\n",
       "\n",
       "                .geemap-colab {\n",
       "                    background-color: var(--colab-primary-surface-color, white);\n",
       "                }\n",
       "\n",
       "                .geemap-colab .jupyter-button {\n",
       "                    --jp-layout-color3: var(--colab-primary-surface-color, white);\n",
       "                }\n",
       "            </style>\n",
       "            "
      ],
      "text/plain": [
       "<IPython.core.display.HTML object>"
      ]
     },
     "metadata": {},
     "output_type": "display_data"
    },
    {
     "data": {
      "application/vnd.jupyter.widget-view+json": {
       "model_id": "c2708976d48c4910afa77f7b42e3fb64",
       "version_major": 2,
       "version_minor": 0
      },
      "text/plain": [
       "Map(center=[40.7128, -74.006], controls=(ZoomControl(options=['position', 'zoom_in_text', 'zoom_in_title', 'zo…"
      ]
     },
     "execution_count": 27,
     "metadata": {},
     "output_type": "execute_result"
    }
   ],
   "source": [
    "# Display the map\n",
    "Map"
   ]
  },
  {
   "cell_type": "code",
   "execution_count": null,
   "id": "d14baee9",
   "metadata": {
    "scrolled": true
   },
   "outputs": [],
   "source": [
    "# Define an example image.\n",
    "img = ee.Image.random()"
   ]
  },
  {
   "cell_type": "code",
   "execution_count": null,
   "id": "b3249094-32cc-4b0a-bf15-3961c12a602a",
   "metadata": {},
   "outputs": [],
   "source": [
    "img"
   ]
  },
  {
   "cell_type": "code",
   "execution_count": null,
   "id": "17e7d8ae",
   "metadata": {},
   "outputs": [],
   "source": [
    "# Add the image to the map.\n",
    "m.add_layer(img, None, 'Random image')"
   ]
  },
  {
   "cell_type": "code",
   "execution_count": null,
   "id": "6c8500b9-fcbe-4072-a5c3-c7bb17a304df",
   "metadata": {},
   "outputs": [],
   "source": [
    "# Display the map (you can call the object directly if it is the final line).\n",
    "display(m)"
   ]
  },
  {
   "cell_type": "code",
   "execution_count": null,
   "id": "bfae5f24-e525-4a69-8da6-5d8de58be84f",
   "metadata": {},
   "outputs": [],
   "source": [
    "def mask_s2_clouds(image):\n",
    "  \"\"\"Masks clouds in a Sentinel-2 image using the QA band.\n",
    "\n",
    "  Args:\n",
    "      image (ee.Image): A Sentinel-2 image.\n",
    "\n",
    "  Returns:\n",
    "      ee.Image: A cloud-masked Sentinel-2 image.\n",
    "  \"\"\"\n",
    "  qa = image.select('QA60')\n",
    "\n",
    "  # Bits 10 and 11 are clouds and cirrus, respectively.\n",
    "  cloud_bit_mask = 1 << 10\n",
    "  cirrus_bit_mask = 1 << 11\n",
    "\n",
    "  # Both flags should be set to zero, indicating clear conditions.\n",
    "  mask = (\n",
    "      qa.bitwiseAnd(cloud_bit_mask)\n",
    "      .eq(0)\n",
    "      .And(qa.bitwiseAnd(cirrus_bit_mask).eq(0))\n",
    "  )\n",
    "\n",
    "  return image.updateMask(mask).divide(10000)\n",
    "\n",
    "\n",
    "dataset = (\n",
    "    ee.ImageCollection('COPERNICUS/S2_SR_HARMONIZED')\n",
    "    .filterDate('2020-01-01', '2020-01-30')\n",
    "    # Pre-filter to get less cloudy granules.\n",
    "    .filter(ee.Filter.lt('CLOUDY_PIXEL_PERCENTAGE', 20))\n",
    "    .map(mask_s2_clouds)\n",
    ")\n",
    "\n",
    "visualization = {\n",
    "    'min': 0.0,\n",
    "    'max': 0.3,\n",
    "    'bands': ['B4', 'B3', 'B2'],\n",
    "}\n",
    "\n",
    "m = geemap.Map()\n",
    "m.set_center(83.277, 17.7009, 12)\n",
    "m.add_layer(dataset.mean(), visualization, 'RGB')\n"
   ]
  }
 ],
 "metadata": {
  "kernelspec": {
   "display_name": "tf",
   "language": "python",
   "name": "tf"
  },
  "language_info": {
   "codemirror_mode": {
    "name": "ipython",
    "version": 3
   },
   "file_extension": ".py",
   "mimetype": "text/x-python",
   "name": "python",
   "nbconvert_exporter": "python",
   "pygments_lexer": "ipython3",
   "version": "3.8.19"
  }
 },
 "nbformat": 4,
 "nbformat_minor": 5
}
