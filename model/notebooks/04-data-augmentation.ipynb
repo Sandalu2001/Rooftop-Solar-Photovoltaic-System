{
 "cells": [
  {
   "cell_type": "code",
   "execution_count": 36,
   "metadata": {},
   "outputs": [],
   "source": [
    "import os\n",
    "import json\n",
    "import cv2\n",
    "import numpy as np\n",
    "import albumentations as A"
   ]
  },
  {
   "cell_type": "code",
   "execution_count": 37,
   "metadata": {},
   "outputs": [
    {
     "name": "stdout",
     "output_type": "stream",
     "text": [
      "True\n",
      "True\n",
      "True\n",
      "True\n"
     ]
    }
   ],
   "source": [
    "IMAGE_DIR = \"../../data/sample-images\"\n",
    "OUTPUT_DIR = \"../../data/sample-augmented\"\n",
    "ANNOTATION_FILE = \"../../data/sample-COCO.json\"\n",
    "OUTPUT_JSON = \"../../data/sample-augmented-COCO.json\"\n",
    "print(os.path.exists(IMAGE_DIR))  # Check if image exists\n",
    "print(os.path.exists(OUTPUT_DIR)) \n",
    "print(os.path.exists(ANNOTATION_FILE))\n",
    "print(os.path.exists(OUTPUT_JSON))"
   ]
  },
  {
   "cell_type": "code",
   "execution_count": 38,
   "metadata": {},
   "outputs": [],
   "source": [
    "# Load COCO annotations\n",
    "with open(ANNOTATION_FILE, \"r\") as f:\n",
    "    coco_data = json.load(f)"
   ]
  },
  {
   "cell_type": "code",
   "execution_count": 39,
   "metadata": {},
   "outputs": [],
   "source": [
    "# Create new dataset structure\n",
    "new_coco_data = coco_data.copy()\n",
    "new_coco_data[\"images\"] = []\n",
    "new_coco_data[\"annotations\"] = []"
   ]
  },
  {
   "cell_type": "code",
   "execution_count": 40,
   "metadata": {},
   "outputs": [],
   "source": [
    "# Image ID and annotation ID counters\n",
    "image_id_counter = max(img[\"id\"] for img in coco_data[\"images\"]) + 1\n",
    "annotation_id_counter = max(ann[\"id\"] for ann in coco_data[\"annotations\"]) + 1 # There can be multiple annotations for the same image"
   ]
  },
  {
   "cell_type": "code",
   "execution_count": 41,
   "metadata": {},
   "outputs": [
    {
     "name": "stdout",
     "output_type": "stream",
     "text": [
      "107\n",
      "2413\n"
     ]
    }
   ],
   "source": [
    "print(image_id_counter)\n",
    "print(annotation_id_counter)"
   ]
  },
  {
   "cell_type": "code",
   "execution_count": 42,
   "metadata": {},
   "outputs": [],
   "source": [
    "# Define augmentation transformations\n",
    "transforms = {\n",
    "    \"flipped\": A.HorizontalFlip(p=1),\n",
    "    \"upsidedown\": A.VerticalFlip(p=1),\n",
    "    \"flipped_upsidedown\": A.Compose([A.HorizontalFlip(p=1), A.VerticalFlip(p=1)])\n",
    "}"
   ]
  },
  {
   "cell_type": "code",
   "execution_count": 43,
   "metadata": {},
   "outputs": [],
   "source": [
    "def update_annotation(ann, new_img_id, transform_func, img_width, img_height):\n",
    "    \"\"\"Update annotation (bounding boxes and segmentation) for a transformed image.\"\"\"\n",
    "    new_ann = ann.copy()\n",
    "    new_ann[\"id\"] = annotation_id_counter + new_ann[\"id\"]\n",
    "    new_ann[\"image_id\"] = new_img_id\n",
    "\n",
    "    # Transform bounding box (x, y, width, height)\n",
    "    x, y, w, h = ann[\"bbox\"]\n",
    "\n",
    "    if transform_func == \"flipped\":\n",
    "        x = img_width - (x + w)  # Flip X\n",
    "    elif transform_func == \"upsidedown\":\n",
    "        y = img_height - (y + h)  # Flip Y\n",
    "    elif transform_func == \"flipped_upsidedown\":\n",
    "        x = img_width - (x + w)\n",
    "        y = img_height - (y + h)\n",
    "\n",
    "    new_ann[\"bbox\"] = [x, y, w, h]\n",
    "\n",
    "    # Transform segmentation (if exists)\n",
    "    if \"segmentation\" in ann and len(ann[\"segmentation\"]) > 0:\n",
    "        new_segmentation = []\n",
    "        for segment in ann[\"segmentation\"]:\n",
    "            transformed_segment = []\n",
    "            for i in range(0, len(segment), 2):\n",
    "                px, py = segment[i], segment[i+1]\n",
    "                if transform_func == \"flipped\":\n",
    "                    px = img_width - px\n",
    "                elif transform_func == \"upsidedown\":\n",
    "                    py = img_height - py\n",
    "                elif transform_func == \"flipped_upsidedown\":\n",
    "                    px = img_width - px\n",
    "                    py = img_height - py\n",
    "                transformed_segment.extend([px, py])\n",
    "            new_segmentation.append(transformed_segment)\n",
    "        new_ann[\"segmentation\"] = new_segmentation\n",
    "\n",
    "    return new_ann"
   ]
  },
  {
   "cell_type": "code",
   "execution_count": 44,
   "metadata": {},
   "outputs": [
    {
     "name": "stdout",
     "output_type": "stream",
     "text": [
      "Image: 00010.png\n"
     ]
    },
    {
     "name": "stderr",
     "output_type": "stream",
     "text": [
      "[ WARN:0@1105.972] global loadsave.cpp:241 findDecoder imread_('../../data/sample-images/00002.png'): can't open/read file: check file path/integrity\n",
      "[ WARN:0@1105.972] global loadsave.cpp:241 findDecoder imread_('../../data/sample-images/00053.png'): can't open/read file: check file path/integrity\n",
      "[ WARN:0@1105.972] global loadsave.cpp:241 findDecoder imread_('../../data/sample-images/00056.png'): can't open/read file: check file path/integrity\n",
      "[ WARN:0@1105.972] global loadsave.cpp:241 findDecoder imread_('../../data/sample-images/00057.png'): can't open/read file: check file path/integrity\n",
      "[ WARN:0@1105.972] global loadsave.cpp:241 findDecoder imread_('../../data/sample-images/00058.png'): can't open/read file: check file path/integrity\n",
      "[ WARN:0@1105.972] global loadsave.cpp:241 findDecoder imread_('../../data/sample-images/00060.png'): can't open/read file: check file path/integrity\n",
      "[ WARN:0@1105.973] global loadsave.cpp:241 findDecoder imread_('../../data/sample-images/00061.png'): can't open/read file: check file path/integrity\n",
      "[ WARN:0@1105.973] global loadsave.cpp:241 findDecoder imread_('../../data/sample-images/00062.png'): can't open/read file: check file path/integrity\n",
      "[ WARN:0@1105.973] global loadsave.cpp:241 findDecoder imread_('../../data/sample-images/00063.png'): can't open/read file: check file path/integrity\n",
      "[ WARN:0@1105.973] global loadsave.cpp:241 findDecoder imread_('../../data/sample-images/00064.png'): can't open/read file: check file path/integrity\n",
      "[ WARN:0@1105.973] global loadsave.cpp:241 findDecoder imread_('../../data/sample-images/00065.png'): can't open/read file: check file path/integrity\n",
      "[ WARN:0@1105.973] global loadsave.cpp:241 findDecoder imread_('../../data/sample-images/00066.png'): can't open/read file: check file path/integrity\n",
      "[ WARN:0@1105.973] global loadsave.cpp:241 findDecoder imread_('../../data/sample-images/00067.png'): can't open/read file: check file path/integrity\n",
      "[ WARN:0@1105.973] global loadsave.cpp:241 findDecoder imread_('../../data/sample-images/00068.png'): can't open/read file: check file path/integrity\n",
      "[ WARN:0@1105.973] global loadsave.cpp:241 findDecoder imread_('../../data/sample-images/00069.png'): can't open/read file: check file path/integrity\n",
      "[ WARN:0@1105.973] global loadsave.cpp:241 findDecoder imread_('../../data/sample-images/00070.png'): can't open/read file: check file path/integrity\n",
      "[ WARN:0@1105.973] global loadsave.cpp:241 findDecoder imread_('../../data/sample-images/00071.png'): can't open/read file: check file path/integrity\n",
      "[ WARN:0@1105.973] global loadsave.cpp:241 findDecoder imread_('../../data/sample-images/00088.png'): can't open/read file: check file path/integrity\n",
      "[ WARN:0@1105.973] global loadsave.cpp:241 findDecoder imread_('../../data/sample-images/00089.png'): can't open/read file: check file path/integrity\n",
      "[ WARN:0@1105.973] global loadsave.cpp:241 findDecoder imread_('../../data/sample-images/00090.png'): can't open/read file: check file path/integrity\n",
      "[ WARN:0@1105.973] global loadsave.cpp:241 findDecoder imread_('../../data/sample-images/00091.png'): can't open/read file: check file path/integrity\n",
      "[ WARN:0@1105.973] global loadsave.cpp:241 findDecoder imread_('../../data/sample-images/00092.png'): can't open/read file: check file path/integrity\n",
      "[ WARN:0@1105.973] global loadsave.cpp:241 findDecoder imread_('../../data/sample-images/00093.png'): can't open/read file: check file path/integrity\n",
      "[ WARN:0@1105.973] global loadsave.cpp:241 findDecoder imread_('../../data/sample-images/00094.png'): can't open/read file: check file path/integrity\n",
      "[ WARN:0@1105.973] global loadsave.cpp:241 findDecoder imread_('../../data/sample-images/00095.png'): can't open/read file: check file path/integrity\n",
      "[ WARN:0@1105.973] global loadsave.cpp:241 findDecoder imread_('../../data/sample-images/00096.png'): can't open/read file: check file path/integrity\n",
      "[ WARN:0@1105.973] global loadsave.cpp:241 findDecoder imread_('../../data/sample-images/00097.png'): can't open/read file: check file path/integrity\n",
      "[ WARN:0@1105.973] global loadsave.cpp:241 findDecoder imread_('../../data/sample-images/00098.png'): can't open/read file: check file path/integrity\n",
      "[ WARN:0@1105.973] global loadsave.cpp:241 findDecoder imread_('../../data/sample-images/00099.png'): can't open/read file: check file path/integrity\n",
      "[ WARN:0@1105.973] global loadsave.cpp:241 findDecoder imread_('../../data/sample-images/00100.png'): can't open/read file: check file path/integrity\n",
      "[ WARN:0@1105.973] global loadsave.cpp:241 findDecoder imread_('../../data/sample-images/00072.png'): can't open/read file: check file path/integrity\n",
      "[ WARN:0@1105.973] global loadsave.cpp:241 findDecoder imread_('../../data/sample-images/00073.png'): can't open/read file: check file path/integrity\n",
      "[ WARN:0@1105.973] global loadsave.cpp:241 findDecoder imread_('../../data/sample-images/00074.png'): can't open/read file: check file path/integrity\n",
      "[ WARN:0@1105.973] global loadsave.cpp:241 findDecoder imread_('../../data/sample-images/00075.png'): can't open/read file: check file path/integrity\n",
      "[ WARN:0@1105.973] global loadsave.cpp:241 findDecoder imread_('../../data/sample-images/00076.png'): can't open/read file: check file path/integrity\n",
      "[ WARN:0@1105.973] global loadsave.cpp:241 findDecoder imread_('../../data/sample-images/00077.png'): can't open/read file: check file path/integrity\n",
      "[ WARN:0@1105.973] global loadsave.cpp:241 findDecoder imread_('../../data/sample-images/00078.png'): can't open/read file: check file path/integrity\n",
      "[ WARN:0@1105.973] global loadsave.cpp:241 findDecoder imread_('../../data/sample-images/00079.png'): can't open/read file: check file path/integrity\n",
      "[ WARN:0@1105.973] global loadsave.cpp:241 findDecoder imread_('../../data/sample-images/00080.png'): can't open/read file: check file path/integrity\n",
      "[ WARN:0@1105.973] global loadsave.cpp:241 findDecoder imread_('../../data/sample-images/00081.png'): can't open/read file: check file path/integrity\n",
      "[ WARN:0@1105.973] global loadsave.cpp:241 findDecoder imread_('../../data/sample-images/00082.png'): can't open/read file: check file path/integrity\n",
      "[ WARN:0@1105.973] global loadsave.cpp:241 findDecoder imread_('../../data/sample-images/00083.png'): can't open/read file: check file path/integrity\n",
      "[ WARN:0@1105.973] global loadsave.cpp:241 findDecoder imread_('../../data/sample-images/00084.png'): can't open/read file: check file path/integrity\n",
      "[ WARN:0@1105.973] global loadsave.cpp:241 findDecoder imread_('../../data/sample-images/00085.png'): can't open/read file: check file path/integrity\n",
      "[ WARN:0@1105.973] global loadsave.cpp:241 findDecoder imread_('../../data/sample-images/00086.png'): can't open/read file: check file path/integrity\n",
      "[ WARN:0@1105.973] global loadsave.cpp:241 findDecoder imread_('../../data/sample-images/00087.png'): can't open/read file: check file path/integrity\n",
      "[ WARN:0@1105.973] global loadsave.cpp:241 findDecoder imread_('../../data/sample-images/00101.png'): can't open/read file: check file path/integrity\n",
      "[ WARN:0@1105.973] global loadsave.cpp:241 findDecoder imread_('../../data/sample-images/00102.png'): can't open/read file: check file path/integrity\n",
      "[ WARN:0@1105.973] global loadsave.cpp:241 findDecoder imread_('../../data/sample-images/00103.png'): can't open/read file: check file path/integrity\n",
      "[ WARN:0@1105.973] global loadsave.cpp:241 findDecoder imread_('../../data/sample-images/00104.png'): can't open/read file: check file path/integrity\n",
      "[ WARN:0@1105.973] global loadsave.cpp:241 findDecoder imread_('../../data/sample-images/00105.png'): can't open/read file: check file path/integrity\n",
      "[ WARN:0@1105.973] global loadsave.cpp:241 findDecoder imread_('../../data/sample-images/00106.png'): can't open/read file: check file path/integrity\n",
      "[ WARN:0@1105.973] global loadsave.cpp:241 findDecoder imread_('../../data/sample-images/00107.png'): can't open/read file: check file path/integrity\n",
      "[ WARN:0@1105.973] global loadsave.cpp:241 findDecoder imread_('../../data/sample-images/00108.png'): can't open/read file: check file path/integrity\n",
      "[ WARN:0@1105.973] global loadsave.cpp:241 findDecoder imread_('../../data/sample-images/00109.png'): can't open/read file: check file path/integrity\n",
      "[ WARN:0@1106.128] global loadsave.cpp:241 findDecoder imread_('../../data/sample-images/00003.png'): can't open/read file: check file path/integrity\n",
      "[ WARN:0@1106.128] global loadsave.cpp:241 findDecoder imread_('../../data/sample-images/00004.png'): can't open/read file: check file path/integrity\n",
      "[ WARN:0@1106.128] global loadsave.cpp:241 findDecoder imread_('../../data/sample-images/00005.png'): can't open/read file: check file path/integrity\n",
      "[ WARN:0@1106.128] global loadsave.cpp:241 findDecoder imread_('../../data/sample-images/00006.png'): can't open/read file: check file path/integrity\n",
      "[ WARN:0@1106.128] global loadsave.cpp:241 findDecoder imread_('../../data/sample-images/00007.png'): can't open/read file: check file path/integrity\n",
      "[ WARN:0@1106.128] global loadsave.cpp:241 findDecoder imread_('../../data/sample-images/00008.png'): can't open/read file: check file path/integrity\n"
     ]
    },
    {
     "name": "stdout",
     "output_type": "stream",
     "text": [
      "Image: 00009.png\n",
      "Image: 00241.png\n",
      "Data augmentation complete! Augmented images and updated JSON file saved.\n"
     ]
    },
    {
     "name": "stderr",
     "output_type": "stream",
     "text": [
      "[ WARN:0@1106.368] global loadsave.cpp:241 findDecoder imread_('../../data/sample-images/00242.png'): can't open/read file: check file path/integrity\n",
      "[ WARN:0@1106.368] global loadsave.cpp:241 findDecoder imread_('../../data/sample-images/00243.png'): can't open/read file: check file path/integrity\n",
      "[ WARN:0@1106.368] global loadsave.cpp:241 findDecoder imread_('../../data/sample-images/00244.png'): can't open/read file: check file path/integrity\n",
      "[ WARN:0@1106.368] global loadsave.cpp:241 findDecoder imread_('../../data/sample-images/00245.png'): can't open/read file: check file path/integrity\n",
      "[ WARN:0@1106.368] global loadsave.cpp:241 findDecoder imread_('../../data/sample-images/00246.png'): can't open/read file: check file path/integrity\n",
      "[ WARN:0@1106.368] global loadsave.cpp:241 findDecoder imread_('../../data/sample-images/00247.png'): can't open/read file: check file path/integrity\n",
      "[ WARN:0@1106.368] global loadsave.cpp:241 findDecoder imread_('../../data/sample-images/00248.png'): can't open/read file: check file path/integrity\n",
      "[ WARN:0@1106.368] global loadsave.cpp:241 findDecoder imread_('../../data/sample-images/00249.png'): can't open/read file: check file path/integrity\n",
      "[ WARN:0@1106.368] global loadsave.cpp:241 findDecoder imread_('../../data/sample-images/00250.png'): can't open/read file: check file path/integrity\n",
      "[ WARN:0@1106.368] global loadsave.cpp:241 findDecoder imread_('../../data/sample-images/00251.png'): can't open/read file: check file path/integrity\n",
      "[ WARN:0@1106.368] global loadsave.cpp:241 findDecoder imread_('../../data/sample-images/00252.png'): can't open/read file: check file path/integrity\n",
      "[ WARN:0@1106.368] global loadsave.cpp:241 findDecoder imread_('../../data/sample-images/00253.png'): can't open/read file: check file path/integrity\n",
      "[ WARN:0@1106.368] global loadsave.cpp:241 findDecoder imread_('../../data/sample-images/00254.png'): can't open/read file: check file path/integrity\n",
      "[ WARN:0@1106.368] global loadsave.cpp:241 findDecoder imread_('../../data/sample-images/00255.png'): can't open/read file: check file path/integrity\n",
      "[ WARN:0@1106.368] global loadsave.cpp:241 findDecoder imread_('../../data/sample-images/00256.png'): can't open/read file: check file path/integrity\n",
      "[ WARN:0@1106.368] global loadsave.cpp:241 findDecoder imread_('../../data/sample-images/00257.png'): can't open/read file: check file path/integrity\n",
      "[ WARN:0@1106.368] global loadsave.cpp:241 findDecoder imread_('../../data/sample-images/00258.png'): can't open/read file: check file path/integrity\n",
      "[ WARN:0@1106.368] global loadsave.cpp:241 findDecoder imread_('../../data/sample-images/00259.png'): can't open/read file: check file path/integrity\n",
      "[ WARN:0@1106.368] global loadsave.cpp:241 findDecoder imread_('../../data/sample-images/00260.png'): can't open/read file: check file path/integrity\n",
      "[ WARN:0@1106.368] global loadsave.cpp:241 findDecoder imread_('../../data/sample-images/00261.png'): can't open/read file: check file path/integrity\n",
      "[ WARN:0@1106.368] global loadsave.cpp:241 findDecoder imread_('../../data/sample-images/00262.png'): can't open/read file: check file path/integrity\n",
      "[ WARN:0@1106.368] global loadsave.cpp:241 findDecoder imread_('../../data/sample-images/00263.png'): can't open/read file: check file path/integrity\n",
      "[ WARN:0@1106.368] global loadsave.cpp:241 findDecoder imread_('../../data/sample-images/00264.png'): can't open/read file: check file path/integrity\n",
      "[ WARN:0@1106.368] global loadsave.cpp:241 findDecoder imread_('../../data/sample-images/00265.png'): can't open/read file: check file path/integrity\n",
      "[ WARN:0@1106.368] global loadsave.cpp:241 findDecoder imread_('../../data/sample-images/00120.png'): can't open/read file: check file path/integrity\n",
      "[ WARN:0@1106.368] global loadsave.cpp:241 findDecoder imread_('../../data/sample-images/00121.png'): can't open/read file: check file path/integrity\n",
      "[ WARN:0@1106.369] global loadsave.cpp:241 findDecoder imread_('../../data/sample-images/00122.png'): can't open/read file: check file path/integrity\n",
      "[ WARN:0@1106.369] global loadsave.cpp:241 findDecoder imread_('../../data/sample-images/00123.png'): can't open/read file: check file path/integrity\n",
      "[ WARN:0@1106.369] global loadsave.cpp:241 findDecoder imread_('../../data/sample-images/00124.png'): can't open/read file: check file path/integrity\n",
      "[ WARN:0@1106.369] global loadsave.cpp:241 findDecoder imread_('../../data/sample-images/00126.png'): can't open/read file: check file path/integrity\n",
      "[ WARN:0@1106.369] global loadsave.cpp:241 findDecoder imread_('../../data/sample-images/00127.png'): can't open/read file: check file path/integrity\n",
      "[ WARN:0@1106.369] global loadsave.cpp:241 findDecoder imread_('../../data/sample-images/00128.png'): can't open/read file: check file path/integrity\n",
      "[ WARN:0@1106.369] global loadsave.cpp:241 findDecoder imread_('../../data/sample-images/00129.png'): can't open/read file: check file path/integrity\n",
      "[ WARN:0@1106.369] global loadsave.cpp:241 findDecoder imread_('../../data/sample-images/00130.png'): can't open/read file: check file path/integrity\n",
      "[ WARN:0@1106.369] global loadsave.cpp:241 findDecoder imread_('../../data/sample-images/00132.png'): can't open/read file: check file path/integrity\n",
      "[ WARN:0@1106.369] global loadsave.cpp:241 findDecoder imread_('../../data/sample-images/00133.png'): can't open/read file: check file path/integrity\n",
      "[ WARN:0@1106.369] global loadsave.cpp:241 findDecoder imread_('../../data/sample-images/00134.png'): can't open/read file: check file path/integrity\n",
      "[ WARN:0@1106.369] global loadsave.cpp:241 findDecoder imread_('../../data/sample-images/00135.png'): can't open/read file: check file path/integrity\n",
      "[ WARN:0@1106.369] global loadsave.cpp:241 findDecoder imread_('../../data/sample-images/00136.png'): can't open/read file: check file path/integrity\n",
      "[ WARN:0@1106.369] global loadsave.cpp:241 findDecoder imread_('../../data/sample-images/00137.png'): can't open/read file: check file path/integrity\n",
      "[ WARN:0@1106.369] global loadsave.cpp:241 findDecoder imread_('../../data/sample-images/00138.png'): can't open/read file: check file path/integrity\n",
      "[ WARN:0@1106.369] global loadsave.cpp:241 findDecoder imread_('../../data/sample-images/00139.png'): can't open/read file: check file path/integrity\n"
     ]
    }
   ],
   "source": [
    "# Process each image\n",
    "for img in coco_data[\"images\"]:\n",
    "    img_path = os.path.join(IMAGE_DIR, img[\"file_name\"])\n",
    "    image = cv2.imread(img_path)\n",
    "    \n",
    "    if image is None:\n",
    "        continue\n",
    "\n",
    "    print(f\"Image: {img['file_name']}\")\n",
    "\n",
    "    height, width = image.shape[:2]\n",
    "\n",
    "    # Copy original image and annotations\n",
    "    new_coco_data[\"images\"].append(img)\n",
    "    new_coco_data[\"annotations\"].extend([ann for ann in coco_data[\"annotations\"] if ann[\"image_id\"] == img[\"id\"]])\n",
    "\n",
    "    # Apply augmentations\n",
    "    for transform_name, transform in transforms.items():\n",
    "        transformed = transform(image=image)\n",
    "        new_image = transformed[\"image\"]\n",
    "\n",
    "        # Generate new image file name\n",
    "        new_filename = f\"{os.path.splitext(img['file_name'])[0]}_{transform_name}.jpg\"\n",
    "        new_filepath = os.path.join(OUTPUT_DIR, new_filename)\n",
    "\n",
    "        # Save augmented image\n",
    "        cv2.imwrite(new_filepath, new_image)\n",
    "\n",
    "        # Create new image entry in COCO\n",
    "        new_image_entry = {\n",
    "            \"id\": image_id_counter,\n",
    "            \"width\": width,\n",
    "            \"height\": height,\n",
    "            \"file_name\": new_filename\n",
    "        }\n",
    "        new_coco_data[\"images\"].append(new_image_entry)\n",
    "\n",
    "        # Update annotations for new image\n",
    "        for ann in coco_data[\"annotations\"]:\n",
    "            if ann[\"image_id\"] == img[\"id\"]:\n",
    "                new_annotation = update_annotation(ann, image_id_counter, transform_name, width, height)\n",
    "                new_coco_data[\"annotations\"].append(new_annotation)\n",
    "\n",
    "        image_id_counter += 1  # Increment image ID\n",
    "\n",
    "# Save updated COCO JSON file\n",
    "with open(OUTPUT_JSON, \"w\") as f:\n",
    "    json.dump(new_coco_data, f, indent=4)\n",
    "\n",
    "print(\"Data augmentation complete! Augmented images and updated JSON file saved.\")"
   ]
  }
 ],
 "metadata": {
  "kernelspec": {
   "display_name": "gee",
   "language": "python",
   "name": "python3"
  },
  "language_info": {
   "codemirror_mode": {
    "name": "ipython",
    "version": 3
   },
   "file_extension": ".py",
   "mimetype": "text/x-python",
   "name": "python",
   "nbconvert_exporter": "python",
   "pygments_lexer": "ipython3",
   "version": "3.12.2"
  }
 },
 "nbformat": 4,
 "nbformat_minor": 2
}
