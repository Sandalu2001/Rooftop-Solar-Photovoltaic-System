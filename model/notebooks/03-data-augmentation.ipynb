{
 "cells": [
  {
   "cell_type": "code",
   "execution_count": 11,
   "metadata": {},
   "outputs": [],
   "source": [
    "import os\n",
    "import json\n",
    "import cv2\n",
    "import numpy as np\n",
    "from pycocotools.coco import COCO"
   ]
  },
  {
   "cell_type": "code",
   "execution_count": 12,
   "metadata": {},
   "outputs": [],
   "source": [
    "# Load coco annotaiton\n",
    "def load_coco_json(json_path):\n",
    "    with open(json_path, 'r') as f:\n",
    "        return json.load(f)"
   ]
  },
  {
   "cell_type": "code",
   "execution_count": 13,
   "metadata": {},
   "outputs": [],
   "source": [
    "# \n",
    "def save_coco_json(data, output_path):\n",
    "    with open(output_path, 'w') as f:\n",
    "        json.dump(data, f, indent=4)"
   ]
  },
  {
   "cell_type": "code",
   "execution_count": 14,
   "metadata": {},
   "outputs": [],
   "source": [
    "# flip the file \n",
    "def flip_image(image, flip_code):\n",
    "    return cv2.flip(image, flip_code)\n"
   ]
  },
  {
   "cell_type": "code",
   "execution_count": 15,
   "metadata": {},
   "outputs": [],
   "source": [
    "def update_annotations(annotations, img_height, img_width, transform):\n",
    "    updated_annotations = []\n",
    "    for ann in annotations:\n",
    "        new_ann = ann.copy()\n",
    "        bbox = ann['bbox']\n",
    "        x, y, w, h = bbox\n",
    "        \n",
    "        if transform == 'vertical':\n",
    "            new_ann['bbox'] = [x, img_height - (y + h), w, h]\n",
    "        elif transform == 'horizontal':\n",
    "            new_ann['bbox'] = [img_width - (x + w), y, w, h]\n",
    "        elif transform == 'both':\n",
    "            new_ann['bbox'] = [img_width - (x + w), img_height - (y + h), w, h]\n",
    "        \n",
    "        updated_annotations.append(new_ann)\n",
    "    return updated_annotations"
   ]
  },
  {
   "cell_type": "code",
   "execution_count": 20,
   "metadata": {},
   "outputs": [],
   "source": [
    "def augment_dataset(image_dir, json_path, output_dir, output_json):\n",
    "    os.makedirs(output_dir, exist_ok=True)\n",
    "    coco_data = load_coco_json(json_path)\n",
    "    coco = COCO(json_path)\n",
    "    new_images = []\n",
    "    new_annotations = []\n",
    "    image_id_offset = len(coco_data['images'])\n",
    "    ann_id_offset = len(coco_data['annotations'])\n",
    "    \n",
    "    annotated_image_ids = set([img['id'] for img in coco_data['images']])\n",
    "    last_image_no = 1\n",
    "    \n",
    "    for image in coco_data['images']:\n",
    "        img_path = os.path.join(image_dir, image['file_name'])\n",
    "        img = cv2.imread(img_path)\n",
    "        if img is None:\n",
    "            continue\n",
    "        img_height, img_width = img.shape[:2]\n",
    "        image_id = image['id']\n",
    "        \n",
    "        if image_id not in annotated_image_ids:\n",
    "            continue\n",
    "        \n",
    "        anns = coco.getAnnIds(imgIds=[image_id])\n",
    "        annotations = coco.loadAnns(anns)\n",
    "        \n",
    "        new_filename = f\"{str(last_image_no).zfill(5)}.jpg\"\n",
    "        new_img_id = last_image_no\n",
    "        last_image_no += 1\n",
    "        new_img_path = os.path.join(output_dir, new_filename)\n",
    "        cv2.imwrite(new_img_path, img)\n",
    "        \n",
    "        new_images.append({\n",
    "            'id': new_img_id,\n",
    "            'file_name': new_filename,\n",
    "            'width': img_width,\n",
    "            'height': img_height\n",
    "        })\n",
    "        \n",
    "        for ann in annotations:\n",
    "            ann['id'] += ann_id_offset\n",
    "            ann['image_id'] = new_img_id\n",
    "            new_annotations.append(ann)\n",
    "            ann_id_offset += 1\n",
    "        \n",
    "        transformations = {\n",
    "            'vertical': flip_image(img, 0),\n",
    "            'horizontal': flip_image(img, 1),\n",
    "            'both': flip_image(img, -1)\n",
    "        }\n",
    "        \n",
    "        for transform, transformed_img in transformations.items():\n",
    "            new_filename = f\"{str(last_image_no).zfill(5)}.jpg\"\n",
    "            new_img_id = last_image_no\n",
    "            last_image_no += 1\n",
    "            new_img_path = os.path.join(output_dir, new_filename)\n",
    "            cv2.imwrite(new_img_path, transformed_img)\n",
    "            \n",
    "            new_images.append({\n",
    "                'id': new_img_id,\n",
    "                'file_name': new_filename,\n",
    "                'width': img_width,\n",
    "                'height': img_height\n",
    "            })\n",
    "            \n",
    "            transformed_annotations = update_annotations(annotations, img_height, img_width, transform)\n",
    "            for ann in transformed_annotations:\n",
    "                ann['id'] += ann_id_offset\n",
    "                ann['image_id'] = new_img_id\n",
    "                new_annotations.append(ann)\n",
    "                ann_id_offset += 1\n",
    "    \n",
    "    coco_data['images'].extend(new_images)\n",
    "    coco_data['annotations'].extend(new_annotations)\n",
    "    save_coco_json(coco_data, output_json)"
   ]
  },
  {
   "cell_type": "code",
   "execution_count": 21,
   "metadata": {},
   "outputs": [
    {
     "name": "stdout",
     "output_type": "stream",
     "text": [
      "True\n",
      "True\n",
      "True\n",
      "True\n"
     ]
    }
   ],
   "source": [
    "images = \"../../data/images\"\n",
    "augmented = \"../../data/augmented\"\n",
    "json_path = \"../../data/sample-COCO.json\"\n",
    "output_json_path = \"../../data/augmented-COCO.json\"\n",
    "print(os.path.exists(images))  # Check if image exists\n",
    "print(os.path.exists(augmented)) \n",
    "print(os.path.exists(json_path))\n",
    "print(os.path.exists(output_json_path))"
   ]
  },
  {
   "cell_type": "code",
   "execution_count": 22,
   "metadata": {},
   "outputs": [
    {
     "name": "stdout",
     "output_type": "stream",
     "text": [
      "loading annotations into memory...\n",
      "Done (t=0.02s)\n",
      "creating index...\n",
      "index created!\n"
     ]
    }
   ],
   "source": [
    "augment_dataset(images, json_path, augmented, output_json_path)"
   ]
  },
  {
   "cell_type": "code",
   "execution_count": null,
   "metadata": {},
   "outputs": [],
   "source": []
  }
 ],
 "metadata": {
  "kernelspec": {
   "display_name": "gee",
   "language": "python",
   "name": "python3"
  },
  "language_info": {
   "codemirror_mode": {
    "name": "ipython",
    "version": 3
   },
   "file_extension": ".py",
   "mimetype": "text/x-python",
   "name": "python",
   "nbconvert_exporter": "python",
   "pygments_lexer": "ipython3",
   "version": "3.12.2"
  }
 },
 "nbformat": 4,
 "nbformat_minor": 2
}
