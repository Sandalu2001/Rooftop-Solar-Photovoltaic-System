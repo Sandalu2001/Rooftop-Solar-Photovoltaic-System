{
 "cells": [
  {
   "cell_type": "code",
   "execution_count": 8,
   "metadata": {},
   "outputs": [
    {
     "name": "stdout",
     "output_type": "stream",
     "text": [
      "All libraries are installed and imported successfully!\n"
     ]
    }
   ],
   "source": [
    "import albumentations as A\n",
    "from pycocotools.coco import COCO\n",
    "import cv2\n",
    "import json\n",
    "\n",
    "print(\"All libraries are installed and imported successfully!\")\n"
   ]
  },
  {
   "cell_type": "code",
   "execution_count": 9,
   "metadata": {},
   "outputs": [],
   "source": [
    "# Load your COCO JSON\n",
    "with open(\"../../data/sample-COCO.json\", \"r\") as f:\n",
    "    coco_data = json.load(f)\n"
   ]
  },
  {
   "cell_type": "code",
   "execution_count": 37,
   "metadata": {},
   "outputs": [],
   "source": [
    "# Define augmentations\n",
    "transform = A.Compose(\n",
    "    [\n",
    "        A.HorizontalFlip(p=0),  # Flip horizontally with a 50% probability\n",
    "        A.VerticalFlip(p=1),   # Flip vertically (upside down) with a 50% probability\n",
    "        A.ShiftScaleRotate(shift_limit=0.1, scale_limit=0.1, rotate_limit=0, p=0.5),\n",
    "        A.RandomBrightnessContrast(p=0.2),\n",
    "    ],\n",
    "    additional_targets={'mask': 'image'}  # Ensure the mask is augmented identically\n",
    ")"
   ]
  },
  {
   "cell_type": "code",
   "execution_count": 38,
   "metadata": {},
   "outputs": [
    {
     "name": "stdout",
     "output_type": "stream",
     "text": [
      "True\n",
      "True\n"
     ]
    }
   ],
   "source": [
    "import os\n",
    "\n",
    "print(os.path.exists(\"../../data/images/00010.png\"))  # Check if image exists\n",
    "print(os.path.exists(\"../../data/masks/00010_mask.png\")) "
   ]
  },
  {
   "cell_type": "code",
   "execution_count": 39,
   "metadata": {},
   "outputs": [],
   "source": [
    "# Example for a single image\n",
    "image = cv2.imread(\"../../data/images/00010.png\")\n",
    "mask = cv2.imread(\"../../data/masks/00010_mask.png\", cv2.IMREAD_GRAYSCALE)  # Assuming mask is grayscale"
   ]
  },
  {
   "cell_type": "code",
   "execution_count": 40,
   "metadata": {},
   "outputs": [],
   "source": [
    "# Apply augmentation\n",
    "augmented = transform(image=image, mask=mask)\n",
    "aug_image = augmented['image']\n",
    "aug_mask = augmented['mask']"
   ]
  },
  {
   "cell_type": "code",
   "execution_count": 41,
   "metadata": {},
   "outputs": [
    {
     "data": {
      "text/plain": [
       "True"
      ]
     },
     "execution_count": 41,
     "metadata": {},
     "output_type": "execute_result"
    }
   ],
   "source": [
    "# Save the new image and mask\n",
    "cv2.imwrite(\"../../data/augmented/augmented_image_vert.png\", aug_image)\n",
    "cv2.imwrite(\"../../data/augmented/augmented_mask_vert.png\", aug_mask)"
   ]
  }
 ],
 "metadata": {
  "kernelspec": {
   "display_name": "gee",
   "language": "python",
   "name": "python3"
  },
  "language_info": {
   "codemirror_mode": {
    "name": "ipython",
    "version": 3
   },
   "file_extension": ".py",
   "mimetype": "text/x-python",
   "name": "python",
   "nbconvert_exporter": "python",
   "pygments_lexer": "ipython3",
   "version": "3.12.2"
  }
 },
 "nbformat": 4,
 "nbformat_minor": 2
}
