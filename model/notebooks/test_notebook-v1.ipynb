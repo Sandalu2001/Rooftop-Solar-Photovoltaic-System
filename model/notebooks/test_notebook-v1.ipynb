{
 "cells": [
  {
   "cell_type": "code",
   "execution_count": 1,
   "id": "9af729d4-ccf4-4911-99b0-495d5b4bd0b3",
   "metadata": {},
   "outputs": [],
   "source": [
    "# Importing necessary libraries\n",
    "import json\n",
    "import pandas as pd\n",
    "import os \n",
    "import matplotlib.pyplot as plt\n",
    "from matplotlib.collections import PatchCollection\n",
    "from matplotlib.patches import Rectangle\n",
    "import numpy as np\n",
    "import itertools\n",
    "import pyvista as pv\n",
    "from shapely.geometry import Polygon\n",
    "from pyvista import examples\n",
    "\n"
   ]
  },
  {
   "cell_type": "code",
   "execution_count": 2,
   "id": "c6dfeff6-0f7c-4003-8361-3562ec2cde35",
   "metadata": {},
   "outputs": [
    {
     "data": {
      "image/png": "[encoded data removed]",
      "text/plain": [
       "<Figure size 800x800 with 4 Axes>"
      ]
     },
     "metadata": {},
     "output_type": "display_data"
    }
   ],
   "source": [
    "fig, m_axs = plt.subplots(2, 2, figsize=(8, 8))\n",
    "\n",
    "# Flatten the axes to a 1D list\n",
    "for i, ax in enumerate(m_axs.flatten()):\n",
    "    ax.text(0.5, 0.5, f'Plot {i+1}', fontsize=12, ha='center')\n",
    "\n",
    "plt.show()"
   ]
  },
  {
   "cell_type": "code",
   "execution_count": 3,
   "id": "0c6060e7-ba26-4031-84e5-5325394c6e77",
   "metadata": {},
   "outputs": [
    {
     "data": {
      "text/html": [
       "<div>\n",
       "<style scoped>\n",
       "    .dataframe tbody tr th:only-of-type {\n",
       "        vertical-align: middle;\n",
       "    }\n",
       "\n",
       "    .dataframe tbody tr th {\n",
       "        vertical-align: top;\n",
       "    }\n",
       "\n",
       "    .dataframe thead th {\n",
       "        text-align: right;\n",
       "    }\n",
       "</style>\n",
       "<table border=\"1\" class=\"dataframe\">\n",
       "  <thead>\n",
       "    <tr style=\"text-align: right;\">\n",
       "      <th></th>\n",
       "      <th>name</th>\n",
       "      <th>age</th>\n",
       "    </tr>\n",
       "  </thead>\n",
       "  <tbody>\n",
       "    <tr>\n",
       "      <th>0</th>\n",
       "      <td>Alice</td>\n",
       "      <td>25</td>\n",
       "    </tr>\n",
       "    <tr>\n",
       "      <th>1</th>\n",
       "      <td>Bob</td>\n",
       "      <td>30</td>\n",
       "    </tr>\n",
       "    <tr>\n",
       "      <th>2</th>\n",
       "      <td>Charlie</td>\n",
       "      <td>35</td>\n",
       "    </tr>\n",
       "  </tbody>\n",
       "</table>\n",
       "</div>"
      ],
      "text/plain": [
       "      name  age\n",
       "0    Alice   25\n",
       "1      Bob   30\n",
       "2  Charlie   35"
      ]
     },
     "execution_count": 3,
     "metadata": {},
     "output_type": "execute_result"
    }
   ],
   "source": [
    "data = {\n",
    "    'name': ['Alice', 'Bob', 'Charlie'],\n",
    "    'age': [25, 30, 35]\n",
    "}\n",
    "df = pd.DataFrame(data)\n",
    "df"
   ]
  },
  {
   "cell_type": "code",
   "execution_count": 4,
   "id": "53cebd3b-2cec-452f-b306-387f917f43a3",
   "metadata": {},
   "outputs": [],
   "source": [
    "data = {\n",
    "    'Store': ['A', 'B', 'A', 'B', 'A'],\n",
    "    'Sales': [100, 150, 200, 300, 250],\n",
    "    'Test': [1 , 2 ,3 ,4 ,5]\n",
    "}\n",
    "\n",
    "df = pd.DataFrame(data)"
   ]
  },
  {
   "cell_type": "code",
   "execution_count": 5,
   "id": "177c61bf-bdd1-4a1f-ac8b-69c6e74b8e8b",
   "metadata": {},
   "outputs": [
    {
     "data": {
      "text/html": [
       "<div>\n",
       "<style scoped>\n",
       "    .dataframe tbody tr th:only-of-type {\n",
       "        vertical-align: middle;\n",
       "    }\n",
       "\n",
       "    .dataframe tbody tr th {\n",
       "        vertical-align: top;\n",
       "    }\n",
       "\n",
       "    .dataframe thead th {\n",
       "        text-align: right;\n",
       "    }\n",
       "</style>\n",
       "<table border=\"1\" class=\"dataframe\">\n",
       "  <thead>\n",
       "    <tr style=\"text-align: right;\">\n",
       "      <th></th>\n",
       "      <th>Store</th>\n",
       "      <th>Sales</th>\n",
       "      <th>Test</th>\n",
       "    </tr>\n",
       "  </thead>\n",
       "  <tbody>\n",
       "    <tr>\n",
       "      <th>0</th>\n",
       "      <td>A</td>\n",
       "      <td>100</td>\n",
       "      <td>1</td>\n",
       "    </tr>\n",
       "    <tr>\n",
       "      <th>1</th>\n",
       "      <td>B</td>\n",
       "      <td>150</td>\n",
       "      <td>2</td>\n",
       "    </tr>\n",
       "    <tr>\n",
       "      <th>2</th>\n",
       "      <td>A</td>\n",
       "      <td>200</td>\n",
       "      <td>3</td>\n",
       "    </tr>\n",
       "    <tr>\n",
       "      <th>3</th>\n",
       "      <td>B</td>\n",
       "      <td>300</td>\n",
       "      <td>4</td>\n",
       "    </tr>\n",
       "    <tr>\n",
       "      <th>4</th>\n",
       "      <td>A</td>\n",
       "      <td>250</td>\n",
       "      <td>5</td>\n",
       "    </tr>\n",
       "  </tbody>\n",
       "</table>\n",
       "</div>"
      ],
      "text/plain": [
       "  Store  Sales  Test\n",
       "0     A    100     1\n",
       "1     B    150     2\n",
       "2     A    200     3\n",
       "3     B    300     4\n",
       "4     A    250     5"
      ]
     },
     "execution_count": 5,
     "metadata": {},
     "output_type": "execute_result"
    }
   ],
   "source": [
    "df"
   ]
  },
  {
   "cell_type": "code",
   "execution_count": 6,
   "id": "9fc9b2d2-dc79-4d11-b68f-53989041e4f0",
   "metadata": {},
   "outputs": [
    {
     "data": {
      "text/plain": [
       "{'A': [0, 2, 4], 'B': [1, 3]}"
      ]
     },
     "execution_count": 6,
     "metadata": {},
     "output_type": "execute_result"
    }
   ],
   "source": [
    "grouped = df.groupby('Store')\n",
    "grouped.groups"
   ]
  },
  {
   "cell_type": "code",
   "execution_count": 8,
   "id": "fdecd516-e844-4512-915a-e2250b5c0d3f",
   "metadata": {},
   "outputs": [
    {
     "data": {
      "text/plain": [
       "Store\n",
       "A    550\n",
       "B    450\n",
       "Name: Sales, dtype: int64"
      ]
     },
     "execution_count": 8,
     "metadata": {},
     "output_type": "execute_result"
    }
   ],
   "source": [
    "total_sales = grouped['Sales'].sum()\n",
    "total_sales"
   ]
  },
  {
   "cell_type": "code",
   "execution_count": 9,
   "id": "18ace67b-069f-41f1-9c58-151fdb167914",
   "metadata": {},
   "outputs": [
    {
     "name": "stdout",
     "output_type": "stream",
     "text": [
      "A\n",
      "  Store  Sales  Test\n",
      "0     A    100     1\n",
      "2     A    200     3\n",
      "4     A    250     5\n",
      "B\n",
      "  Store  Sales  Test\n",
      "1     B    150     2\n",
      "3     B    300     4\n"
     ]
    }
   ],
   "source": [
    "for c_id, c_df in df.groupby('Store'):\n",
    "    print(c_id)\n",
    "    print(c_df)"
   ]
  },
  {
   "cell_type": "code",
   "execution_count": 1,
   "id": "29fed77b-6d2d-4046-8f2c-bf385c9aa422",
   "metadata": {},
   "outputs": [
    {
     "ename": "NameError",
     "evalue": "name 'pv' is not defined",
     "output_type": "error",
     "traceback": [
      "\u001b[0;31m---------------------------------------------------------------------------\u001b[0m",
      "\u001b[0;31mNameError\u001b[0m                                 Traceback (most recent call last)",
      "Cell \u001b[0;32mIn[1], line 14\u001b[0m\n\u001b[1;32m     12\u001b[0m \u001b[38;5;66;03m# embed in 3d, create polygon\u001b[39;00m\n\u001b[1;32m     13\u001b[0m points_3d \u001b[38;5;241m=\u001b[39m np\u001b[38;5;241m.\u001b[39mpad(points_2d, [(\u001b[38;5;241m0\u001b[39m, \u001b[38;5;241m0\u001b[39m), (\u001b[38;5;241m0\u001b[39m, \u001b[38;5;241m1\u001b[39m)])  \u001b[38;5;66;03m# shape (N, 3)\u001b[39;00m\n\u001b[0;32m---> 14\u001b[0m polygon \u001b[38;5;241m=\u001b[39m \u001b[43mpv\u001b[49m\u001b[38;5;241m.\u001b[39mlines_from_points(points_3d, close\u001b[38;5;241m=\u001b[39m\u001b[38;5;28;01mTrue\u001b[39;00m)\n\u001b[1;32m     16\u001b[0m \u001b[38;5;66;03m# extrude along z and plot\u001b[39;00m\n\u001b[1;32m     17\u001b[0m body \u001b[38;5;241m=\u001b[39m polygon\u001b[38;5;241m.\u001b[39mextrude((\u001b[38;5;241m0\u001b[39m, \u001b[38;5;241m0\u001b[39m, \u001b[38;5;241m0.5\u001b[39m))\n",
      "\u001b[0;31mNameError\u001b[0m: name 'pv' is not defined"
     ]
    }
   ],
   "source": [
    "import numpy as np\n",
    "\n",
    "rng = np.random.default_rng()\n",
    "\n",
    "# create dummy data\n",
    "N = 10\n",
    "angles = np.linspace(0, 2*np.pi, N, endpoint=False)\n",
    "radii = rng.uniform(0.5, 1.5, N)\n",
    "coords = np.array([np.cos(angles), np.sin(angles)]) * radii\n",
    "points_2d = coords.T  # shape (N, 2)\n",
    "\n",
    "# embed in 3d, create polygon\n",
    "points_3d = np.pad(points_2d, [(0, 0), (0, 1)])  # shape (N, 3)\n",
    "polygon = pv.lines_from_points(points_3d, close=True)\n",
    "\n",
    "# extrude along z and plot\n",
    "body = polygon.extrude((0, 0, 0.5))\n",
    "body.plot(color='white', specular=1, screenshot='extruded.png')\n"
   ]
  },
  {
   "cell_type": "code",
   "execution_count": 3,
   "id": "d18557dd-d827-4b13-a0ed-74c2ecbcf6bc",
   "metadata": {},
   "outputs": [
    {
     "data": {
      "application/vnd.jupyter.widget-view+json": {
       "model_id": "eafa643ab24d409ca17c04f05df36901",
       "version_major": 2,
       "version_minor": 0
      },
      "text/plain": [
       "Widget(value='<iframe src=\"http://localhost:49286/index.html?ui=P_0x160c56f00_0&reconnect=auto\" class=\"pyvista…"
      ]
     },
     "metadata": {},
     "output_type": "display_data"
    }
   ],
   "source": [
    "from pyvista import examples\n",
    "mesh = examples.download_bunny()\n",
    "mesh.plot(cpos='xy')"
   ]
  },
  {
   "cell_type": "code",
   "execution_count": 4,
   "id": "9d00a0b4",
   "metadata": {},
   "outputs": [],
   "source": [
    "cyl = pv.Cylinder()\n",
    "arrow = pv.Arrow()\n",
    "sphere = pv.Sphere()\n",
    "plane = pv.Plane()\n",
    "line = pv.Line()\n",
    "box = pv.Box()\n",
    "cone = pv.Cone()\n",
    "poly = pv.Polygon()\n",
    "disc = pv.Disc()"
   ]
  },
  {
   "cell_type": "code",
   "execution_count": 5,
   "id": "36c3fd7a",
   "metadata": {},
   "outputs": [
    {
     "data": {
      "application/vnd.jupyter.widget-view+json": {
       "model_id": "cbef9c0128034be3bdfc416ea52d5579",
       "version_major": 2,
       "version_minor": 0
      },
      "text/plain": [
       "Widget(value='<iframe src=\"http://localhost:49286/index.html?ui=P_0x1639ba5a0_1&reconnect=auto\" class=\"pyvista…"
      ]
     },
     "metadata": {},
     "output_type": "display_data"
    }
   ],
   "source": [
    "p = pv.Plotter(shape=(3, 3))\n",
    "# Top row\n",
    "p.subplot(0, 0)\n",
    "p.add_mesh(cyl, color=\"red\", show_edges=True)\n",
    "p.subplot(0, 1)\n",
    "p.add_mesh(arrow, color=\"tan\", show_edges=True)\n",
    "p.subplot(0, 2)\n",
    "p.add_mesh(sphere, color=\"tan\", show_edges=True)\n",
    "# Middle row\n",
    "p.subplot(1, 0)\n",
    "p.add_mesh(plane, color=\"tan\", show_edges=True)\n",
    "p.subplot(1, 1)\n",
    "p.add_mesh(line, color=\"tan\", line_width=3)\n",
    "p.subplot(1, 2)\n",
    "p.add_mesh(box, color=\"tan\", show_edges=True)\n",
    "# Bottom row\n",
    "p.subplot(2, 0)\n",
    "p.add_mesh(cone, color=\"tan\", show_edges=True)\n",
    "p.subplot(2, 1)\n",
    "p.add_mesh(poly, color=\"tan\", show_edges=True)\n",
    "p.subplot(2, 2)\n",
    "p.add_mesh(disc, color=\"tan\", show_edges=True)\n",
    "# Render all of them\n",
    "p.show()"
   ]
  },
  {
   "cell_type": "code",
   "execution_count": 6,
   "id": "8bb7c0df",
   "metadata": {},
   "outputs": [
    {
     "data": {
      "application/vnd.jupyter.widget-view+json": {
       "model_id": "0999220f51604df4acb4aca608ba0be0",
       "version_major": 2,
       "version_minor": 0
      },
      "text/plain": [
       "Widget(value='<iframe src=\"http://localhost:49286/index.html?ui=P_0x1638eb5c0_2&reconnect=auto\" class=\"pyvista…"
      ]
     },
     "metadata": {},
     "output_type": "display_data"
    }
   ],
   "source": [
    "points = np.random.random((1000, 3))\n",
    "pc = pv.PolyData(points)\n",
    "pc.plot(scalars=points[:, 2], point_size=5.0, cmap='jet')"
   ]
  },
  {
   "cell_type": "code",
   "execution_count": 10,
   "id": "c39f39de",
   "metadata": {},
   "outputs": [
    {
     "data": {
      "text/plain": [
       "array([[0.43809885, 0.71252889, 0.77105983],\n",
       "       [0.1180161 , 0.91802436, 0.98098079],\n",
       "       [0.49308629, 0.15538602, 0.56765291],\n",
       "       [0.32385481, 0.04662001, 0.00701442],\n",
       "       [0.73792507, 0.46327554, 0.34134166]])"
      ]
     },
     "execution_count": 10,
     "metadata": {},
     "output_type": "execute_result"
    }
   ],
   "source": [
    "points = np.random.rand(100, 3) # 100 random points in 3D\n",
    "points[0:5]  # output first 5 rows"
   ]
  },
  {
   "cell_type": "code",
   "execution_count": 11,
   "id": "494f246b",
   "metadata": {},
   "outputs": [
    {
     "data": {
      "text/html": [
       "\n",
       "<table style='width: 100%;'>\n",
       "<tr><th>PolyData</th><th>Information</th></tr>\n",
       "<tr><td>N Cells</td><td>100</td></tr>\n",
       "<tr><td>N Points</td><td>100</td></tr>\n",
       "<tr><td>N Strips</td><td>0</td></tr>\n",
       "<tr><td>X Bounds</td><td>1.008e-02, 9.950e-01</td></tr>\n",
       "<tr><td>Y Bounds</td><td>1.659e-08, 9.591e-01</td></tr>\n",
       "<tr><td>Z Bounds</td><td>1.454e-03, 9.973e-01</td></tr>\n",
       "<tr><td>N Arrays</td><td>0</td></tr>\n",
       "</table>\n",
       "\n"
      ],
      "text/plain": [
       "PolyData (0x1638d7c40)\n",
       "  N Cells:    100\n",
       "  N Points:   100\n",
       "  N Strips:   0\n",
       "  X Bounds:   1.008e-02, 9.950e-01\n",
       "  Y Bounds:   1.659e-08, 9.591e-01\n",
       "  Z Bounds:   1.454e-03, 9.973e-01\n",
       "  N Arrays:   0"
      ]
     },
     "execution_count": 11,
     "metadata": {},
     "output_type": "execute_result"
    }
   ],
   "source": [
    "mesh = pv.PolyData(points)\n",
    "mesh"
   ]
  },
  {
   "cell_type": "code",
   "execution_count": 16,
   "id": "0fe3b879",
   "metadata": {},
   "outputs": [
    {
     "data": {
      "application/vnd.jupyter.widget-view+json": {
       "model_id": "a077aab0396f42cd99370f42a2052dc1",
       "version_major": 2,
       "version_minor": 0
      },
      "text/plain": [
       "Widget(value='<iframe src=\"http://localhost:49286/index.html?ui=P_0x17424a420_7&reconnect=auto\" class=\"pyvista…"
      ]
     },
     "metadata": {},
     "output_type": "display_data"
    }
   ],
   "source": [
    "pl = pv.Plotter()\n",
    "pl.add_mesh(mesh, show_edges=True, color=\"white\")\n",
    "pl.add_points(mesh.points, color=\"red\", point_size=10)\n",
    "pl.show()"
   ]
  },
  {
   "cell_type": "code",
   "execution_count": 22,
   "id": "143be23a",
   "metadata": {},
   "outputs": [
    {
     "data": {
      "image/svg+xml": [
       "<svg xmlns=\"http://www.w3.org/2000/svg\" xmlns:xlink=\"http://www.w3.org/1999/xlink\" width=\"100.0\" height=\"100.0\" viewBox=\"-0.04 -0.04 1.08 1.08\" preserveAspectRatio=\"xMinYMin meet\"><g transform=\"matrix(1,0,0,-1,0,1.0)\"><path fill-rule=\"evenodd\" fill=\"#66cc99\" stroke=\"#555555\" stroke-width=\"0.0216\" opacity=\"0.6\" d=\"M 0.0,0.0 L 1.0,0.0 L 1.0,1.0 L 0.0,1.0 L 0.0,0.0 z\" /></g></svg>"
      ],
      "text/plain": [
       "<POLYGON ((0 0, 1 0, 1 1, 0 1, 0 0))>"
      ]
     },
     "execution_count": 22,
     "metadata": {},
     "output_type": "execute_result"
    }
   ],
   "source": [
    "# Create a 2D polygon using Shapely\n",
    "polygon_points = [(0, 0), (1, 0), (1, 1), (0, 1)]  # Define square polygon\n",
    "polygon = Polygon(polygon_points)\n",
    "polygon"
   ]
  },
  {
   "cell_type": "code",
   "execution_count": 23,
   "id": "dd3f3e02",
   "metadata": {},
   "outputs": [
    {
     "data": {
      "text/plain": [
       "(array('d', [0.0, 1.0, 1.0, 0.0, 0.0]), array('d', [0.0, 0.0, 1.0, 1.0, 0.0]))"
      ]
     },
     "execution_count": 23,
     "metadata": {},
     "output_type": "execute_result"
    }
   ],
   "source": [
    "# Get the x, y coordinates from the polygon\n",
    "x, y = polygon.exterior.xy\n",
    "\n",
    "x, y"
   ]
  },
  {
   "cell_type": "code",
   "execution_count": 28,
   "id": "0f1a870e",
   "metadata": {},
   "outputs": [
    {
     "data": {
      "text/plain": [
       "(array([0., 0., 0., 0., 0.]), array([2., 2., 2., 2., 2.]))"
      ]
     },
     "execution_count": 28,
     "metadata": {},
     "output_type": "execute_result"
    }
   ],
   "source": [
    "# Convert the 2D polygon to a 3D mesh by extruding along the z-axis\n",
    "z = np.zeros_like(x)  # Start at z=0 for the bottom face\n",
    "top_z = np.ones_like(x) * 2  # Extrude to z=2 for the top face\n",
    "\n",
    "z, top_z"
   ]
  },
  {
   "cell_type": "code",
   "execution_count": 33,
   "id": "91c186bd",
   "metadata": {},
   "outputs": [
    {
     "data": {
      "text/plain": [
       "array([[0., 0., 0.],\n",
       "       [1., 0., 0.],\n",
       "       [1., 1., 0.],\n",
       "       [0., 1., 0.],\n",
       "       [0., 0., 0.]])"
      ]
     },
     "execution_count": 33,
     "metadata": {},
     "output_type": "execute_result"
    }
   ],
   "source": [
    "# Create 3D points from the 2D polygon\n",
    "points = np.vstack((x, y, z)).T"
   ]
  },
  {
   "cell_type": "code",
   "execution_count": 34,
   "id": "6355c3ec",
   "metadata": {},
   "outputs": [],
   "source": [
    "# Define the faces of the extrusion (bottom, top, and sides)\n",
    "faces = np.array([4, 0, 1, 2, 3, 4, 4, 5, 6, 7])"
   ]
  },
  {
   "cell_type": "code",
   "execution_count": 37,
   "id": "206d0a10",
   "metadata": {},
   "outputs": [],
   "source": [
    "# Create the mesh\n",
    "mesh = pv.PolyData(points)"
   ]
  },
  {
   "cell_type": "code",
   "execution_count": 38,
   "id": "ed73f14e",
   "metadata": {},
   "outputs": [
    {
     "data": {
      "application/vnd.jupyter.widget-view+json": {
       "model_id": "93ea975706a94caca4f87d16cdf318b1",
       "version_major": 2,
       "version_minor": 0
      },
      "text/plain": [
       "Widget(value='<iframe src=\"http://localhost:49286/index.html?ui=P_0x14810b500_9&reconnect=auto\" class=\"pyvista…"
      ]
     },
     "metadata": {},
     "output_type": "display_data"
    }
   ],
   "source": [
    "# Plot the extrusion\n",
    "plotter = pv.Plotter()\n",
    "plotter.add_mesh(mesh, color='blue')\n",
    "plotter.show()"
   ]
  },
  {
   "cell_type": "code",
   "execution_count": 21,
   "id": "35d048d1",
   "metadata": {},
   "outputs": [
    {
     "data": {
      "text/plain": [
       "pyvista_ndarray([[4.80987475e+05, 4.40019330e+06, 1.76784998e+03],\n",
       "                 [4.81066575e+05, 4.40010540e+06, 1.76107996e+03],\n",
       "                 [4.80987875e+05, 4.40010130e+06, 1.76696997e+03],\n",
       "                 [4.81123375e+05, 4.40013000e+06, 1.75914001e+03],\n",
       "                 [4.81072975e+05, 4.40018810e+06, 1.75877002e+03]])"
      ]
     },
     "execution_count": 21,
     "metadata": {},
     "output_type": "execute_result"
    }
   ],
   "source": [
    "# Define some helpers - ignore these and use your own data if you like!\n",
    "def generate_points(subset=0.02):\n",
    "    \"\"\"A helper to make a 3D NumPy array of points (n_points by 3).\"\"\"\n",
    "    dataset = examples.download_lidar()\n",
    "    ids = np.random.randint(low=0, high=dataset.n_points - 1, size=int(dataset.n_points * subset))\n",
    "    return dataset.points[ids]\n",
    "\n",
    "\n",
    "points = generate_points()\n",
    "# Output the first 5 rows to prove it's a numpy array (n_points by 3)\n",
    "# Columns are (X, Y, Z)\n",
    "points[0:5, :]"
   ]
  },
  {
   "cell_type": "code",
   "execution_count": 22,
   "id": "e4a0e469",
   "metadata": {},
   "outputs": [
    {
     "data": {
      "text/html": [
       "\n",
       "<table style='width: 100%;'>\n",
       "<tr><th>PolyData</th><th>Information</th></tr>\n",
       "<tr><td>N Cells</td><td>67841</td></tr>\n",
       "<tr><td>N Points</td><td>67841</td></tr>\n",
       "<tr><td>N Strips</td><td>0</td></tr>\n",
       "<tr><td>X Bounds</td><td>4.809e+05, 4.811e+05</td></tr>\n",
       "<tr><td>Y Bounds</td><td>4.400e+06, 4.400e+06</td></tr>\n",
       "<tr><td>Z Bounds</td><td>1.754e+03, 1.784e+03</td></tr>\n",
       "<tr><td>N Arrays</td><td>0</td></tr>\n",
       "</table>\n",
       "\n"
      ],
      "text/plain": [
       "PolyData (0x1641ab340)\n",
       "  N Cells:    67841\n",
       "  N Points:   67841\n",
       "  N Strips:   0\n",
       "  X Bounds:   4.809e+05, 4.811e+05\n",
       "  Y Bounds:   4.400e+06, 4.400e+06\n",
       "  Z Bounds:   1.754e+03, 1.784e+03\n",
       "  N Arrays:   0"
      ]
     },
     "execution_count": 22,
     "metadata": {},
     "output_type": "execute_result"
    }
   ],
   "source": [
    "point_cloud = pv.PolyData(points)\n",
    "point_cloud"
   ]
  },
  {
   "cell_type": "code",
   "execution_count": 23,
   "id": "dbdfbf94",
   "metadata": {},
   "outputs": [
    {
     "data": {
      "text/plain": [
       "True"
      ]
     },
     "execution_count": 23,
     "metadata": {},
     "output_type": "execute_result"
    }
   ],
   "source": [
    "np.allclose(points, point_cloud.points)"
   ]
  },
  {
   "cell_type": "code",
   "execution_count": 24,
   "id": "d57ab18c",
   "metadata": {},
   "outputs": [
    {
     "data": {
      "application/vnd.jupyter.widget-view+json": {
       "model_id": "255c42e34f984568b0d80186a19cc339",
       "version_major": 2,
       "version_minor": 0
      },
      "text/plain": [
       "Widget(value='<iframe src=\"http://localhost:49748/index.html?ui=P_0x17be7d340_5&reconnect=auto\" class=\"pyvista…"
      ]
     },
     "metadata": {},
     "output_type": "display_data"
    }
   ],
   "source": [
    "point_cloud.plot(eye_dome_lighting=True)"
   ]
  },
  {
   "cell_type": "code",
   "execution_count": 25,
   "id": "aa806277",
   "metadata": {},
   "outputs": [
    {
     "data": {
      "text/plain": [
       "pyvista_ndarray([1767.84997559, 1761.07995605, 1766.9699707 ,\n",
       "                 1759.14001465, 1758.77001953])"
      ]
     },
     "execution_count": 25,
     "metadata": {},
     "output_type": "execute_result"
    }
   ],
   "source": [
    "# Make data array using z-component of points array\n",
    "data = points[:, -1]\n",
    "data[:5]"
   ]
  },
  {
   "cell_type": "code",
   "execution_count": 26,
   "id": "51538594",
   "metadata": {},
   "outputs": [],
   "source": [
    "point_cloud.point_data['elevation'] = data"
   ]
  },
  {
   "cell_type": "code",
   "execution_count": 27,
   "id": "32b03f81",
   "metadata": {},
   "outputs": [
    {
     "data": {
      "application/vnd.jupyter.widget-view+json": {
       "model_id": "6a6c8e39ded14fd993d2b075656fdc55",
       "version_major": 2,
       "version_minor": 0
      },
      "text/plain": [
       "Widget(value='<iframe src=\"http://localhost:49748/index.html?ui=P_0x17bd6a4b0_6&reconnect=auto\" class=\"pyvista…"
      ]
     },
     "metadata": {},
     "output_type": "display_data"
    }
   ],
   "source": [
    "point_cloud.plot(render_points_as_spheres=True)"
   ]
  },
  {
   "cell_type": "code",
   "execution_count": 28,
   "id": "843600e6",
   "metadata": {},
   "outputs": [
    {
     "data": {
      "text/plain": [
       "pyvista_ndarray([[-0.31235286,  0.93986604, -0.13815762],\n",
       "                 [-0.25430127, -0.69069169,  0.67696075],\n",
       "                 [ 0.37048172,  0.32256374,  0.87103153],\n",
       "                 [-0.71933975, -0.69424715,  0.02389999],\n",
       "                 [ 0.32065548,  0.31922487,  0.89178223]])"
      ]
     },
     "execution_count": 28,
     "metadata": {},
     "output_type": "execute_result"
    }
   ],
   "source": [
    "# Create a random point cloud with Cartesian coordinates\n",
    "points = np.random.rand(100, 3)\n",
    "# Construct PolyData from those points\n",
    "point_cloud = pv.PolyData(points)\n",
    "\n",
    "\n",
    "def compute_vectors(mesh):\n",
    "    \"\"\"Create normalized vectors pointing outward from the center of the cloud.\"\"\"\n",
    "    origin = mesh.center\n",
    "    vectors = mesh.points - origin\n",
    "    return vectors / np.linalg.norm(vectors, axis=1)[:, None]\n",
    "\n",
    "\n",
    "vectors = compute_vectors(point_cloud)\n",
    "vectors[0:5, :]"
   ]
  },
  {
   "cell_type": "code",
   "execution_count": 29,
   "id": "0040c826",
   "metadata": {},
   "outputs": [],
   "source": [
    "point_cloud[\"vectors\"] = vectors"
   ]
  },
  {
   "cell_type": "code",
   "execution_count": 30,
   "id": "13e50757",
   "metadata": {},
   "outputs": [
    {
     "data": {
      "application/vnd.jupyter.widget-view+json": {
       "model_id": "88796e746d2e408abc84f1f86638429f",
       "version_major": 2,
       "version_minor": 0
      },
      "text/plain": [
       "Widget(value='<iframe src=\"http://localhost:49748/index.html?ui=P_0x17bd6a300_7&reconnect=auto\" class=\"pyvista…"
      ]
     },
     "metadata": {},
     "output_type": "display_data"
    }
   ],
   "source": [
    "arrows = point_cloud.glyph(\n",
    "    orient=\"vectors\",\n",
    "    scale=False,\n",
    "    factor=0.15,\n",
    ")\n",
    "\n",
    "# Display the arrows\n",
    "plotter = pv.Plotter()\n",
    "plotter.add_mesh(point_cloud, color=\"maroon\", point_size=10.0, render_points_as_spheres=True)\n",
    "plotter.add_mesh(arrows, color=\"lightblue\")\n",
    "# plotter.add_point_labels([point_cloud.center,], ['Center',],\n",
    "#                          point_color='yellow', point_size=20)\n",
    "plotter.show_grid()\n",
    "plotter.show()"
   ]
  }
 ],
 "metadata": {
  "kernelspec": {
   "display_name": "test",
   "language": "python",
   "name": "python3"
  },
  "language_info": {
   "codemirror_mode": {
    "name": "ipython",
    "version": 3
   },
   "file_extension": ".py",
   "mimetype": "text/x-python",
   "name": "python",
   "nbconvert_exporter": "python",
   "pygments_lexer": "ipython3",
   "version": "3.12.7"
  }
 },
 "nbformat": 4,
 "nbformat_minor": 5
}
